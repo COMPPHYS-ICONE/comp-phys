{
 "cells": [
  {
   "cell_type": "markdown",
   "metadata": {},
   "source": [
    "# Topics\n",
    "\n",
    "## 1. Dictionaries\n",
    "## 2. Class\n"
   ]
  },
  {
   "cell_type": "code",
   "execution_count": 5,
   "metadata": {
    "collapsed": false
   },
   "outputs": [],
   "source": [
    "temps_lst = [45., 50., 54., 60.]                   #  list\n",
    "temps_dict = {0:45., 1:50., 2:54., 3:60.}          #  dictionary: key-value pairs; \n",
    "## Notice the usage of curly brackets:  {}"
   ]
  },
  {
   "cell_type": "code",
   "execution_count": 6,
   "metadata": {
    "collapsed": false
   },
   "outputs": [
    {
     "name": "stdout",
     "output_type": "stream",
     "text": [
      "<type 'list'> <type 'dict'>\n",
      "45.0 45.0\n"
     ]
    }
   ],
   "source": [
    "print type(temps_lst), type(temps_dict)\n",
    "print temps_lst[0], temps_dict[0]   # a key acts as an index"
   ]
  },
  {
   "cell_type": "markdown",
   "metadata": {},
   "source": [
    "## So, in a sense, a list is a dictionary with implied keys being 0-indexed integers.\n",
    "\n",
    "Dictionaries are much, much more flexible:\n",
    "\n",
    "One can use any kind of number or text as the keys."
   ]
  },
  {
   "cell_type": "code",
   "execution_count": 12,
   "metadata": {
    "collapsed": false
   },
   "outputs": [],
   "source": [
    "temps_dict = {'Seattle':45., 'Portland':50., 'San Francisco':54., 'Los Angeles':60.}"
   ]
  },
  {
   "cell_type": "code",
   "execution_count": 3,
   "metadata": {
    "collapsed": false
   },
   "outputs": [
    {
     "name": "stdout",
     "output_type": "stream",
     "text": [
      "50.0\n"
     ]
    }
   ],
   "source": [
    "print temps_dict['Portland']"
   ]
  },
  {
   "cell_type": "code",
   "execution_count": 13,
   "metadata": {
    "collapsed": false
   },
   "outputs": [
    {
     "name": "stdout",
     "output_type": "stream",
     "text": [
      "Dictionary:\n",
      "San Francisco 54.0\n",
      "Portland 50.0\n",
      "Seattle 45.0\n",
      "Los Angeles 60.0\n",
      "List:\n",
      "45.0\n",
      "50.0\n",
      "54.0\n",
      "60.0\n"
     ]
    }
   ],
   "source": [
    "print 'Dictionary:'\n",
    "for city in temps_dict:      #note: my order may be different from yours\n",
    "                             # dictionary is inherently orderless.\n",
    "    print city, temps_dict[city]    \n",
    "# This does the same as \n",
    "print 'List:'\n",
    "for i in range(len(temps_lst)):\n",
    "    print temps_lst[i]"
   ]
  },
  {
   "cell_type": "code",
   "execution_count": 14,
   "metadata": {
    "collapsed": false
   },
   "outputs": [
    {
     "name": "stdout",
     "output_type": "stream",
     "text": [
      "['Los Angeles', 'Portland', 'San Francisco', 'Seattle']\n"
     ]
    }
   ],
   "source": [
    "temps_sorted = sorted(temps_dict)   # the keys are sorted.\n",
    "print temps_sorted                  # no longer a dictionary!  A dictionary is inherently orderless."
   ]
  },
  {
   "cell_type": "code",
   "execution_count": 15,
   "metadata": {
    "collapsed": false
   },
   "outputs": [
    {
     "name": "stdout",
     "output_type": "stream",
     "text": [
      "Los Angeles 60.0\n",
      "Portland 50.0\n",
      "San Francisco 54.0\n",
      "Seattle 45.0\n"
     ]
    }
   ],
   "source": [
    "for city in sorted(temps_dict):\n",
    "    print city, temps_dict[city]  "
   ]
  },
  {
   "cell_type": "code",
   "execution_count": 16,
   "metadata": {
    "collapsed": false
   },
   "outputs": [
    {
     "name": "stdout",
     "output_type": "stream",
     "text": [
      "{'San Francisco': 54.0, 'Portland': 50.0, 'Seattle': 45.0, 'San Diego': 63.0, 'Los Angeles': 60.0}\n"
     ]
    }
   ],
   "source": [
    "#Adding a key-value pair:\n",
    "temps_dict['San Diego'] = 63.0\n",
    "print temps_dict"
   ]
  },
  {
   "cell_type": "code",
   "execution_count": 17,
   "metadata": {
    "collapsed": false
   },
   "outputs": [
    {
     "data": {
      "text/plain": [
       "{'Los Angeles': 60.0,\n",
       " 'Portland': 50.0,\n",
       " 'San Diego': 63.0,\n",
       " 'San Francisco': 54.0}"
      ]
     },
     "execution_count": 17,
     "metadata": {},
     "output_type": "execute_result"
    }
   ],
   "source": [
    "#Removing a key-value pair\n",
    "del temps_dict['Seattle']\n",
    "temps_dict"
   ]
  },
  {
   "cell_type": "code",
   "execution_count": 18,
   "metadata": {
    "collapsed": false
   },
   "outputs": [
    {
     "name": "stdout",
     "output_type": "stream",
     "text": [
      "['San Francisco', 'Portland', 'San Diego', 'Los Angeles'] <type 'list'>\n",
      "[54.0, 50.0, 63.0, 60.0] <type 'list'>\n"
     ]
    }
   ],
   "source": [
    "#Extracting the keys and values as lists\n",
    "cities = temps_dict.keys()\n",
    "temps = temps_dict.values()\n",
    "print cities, type(cities)\n",
    "print temps, type(temps)"
   ]
  },
  {
   "cell_type": "code",
   "execution_count": 19,
   "metadata": {
    "collapsed": false
   },
   "outputs": [
    {
     "name": "stdout",
     "output_type": "stream",
     "text": [
      "True False\n"
     ]
    }
   ],
   "source": [
    "# Copy vs. \"is\"\n",
    "temps_dict2 = temps_dict\n",
    "temps_dict_copy = temps_dict.copy()   # a dictionary has the method .copy()\n",
    "                                      # analogous to lst_copy = copy.copy(lst) for a list.\n",
    "temps_dict['San Diego'] = 100.0\n",
    "print temps_dict2 is temps_dict, temps_dict_copy is temps_dict"
   ]
  },
  {
   "cell_type": "code",
   "execution_count": 20,
   "metadata": {
    "collapsed": false
   },
   "outputs": [
    {
     "name": "stdout",
     "output_type": "stream",
     "text": [
      "True False\n"
     ]
    }
   ],
   "source": [
    "import copy\n",
    "lst = [1,2]\n",
    "lst_copy = copy.copy(lst)\n",
    "lst2 = lst\n",
    "print lst is lst2, lst_copy is lst"
   ]
  },
  {
   "cell_type": "code",
   "execution_count": 21,
   "metadata": {
    "collapsed": false
   },
   "outputs": [
    {
     "name": "stdout",
     "output_type": "stream",
     "text": [
      "{'San Diego': 100.0, 'Los Angeles': 60.0, 'San Francisco': 54.0, 'Portland': 50.0, 'Santa Barbara': 58.0}\n",
      "{'San Diego': 100.0, 'Los Angeles': 60.0, 'San Francisco': 54.0, 'Portland': 50.0, 'Santa Barbara': 58.0}\n",
      "{'San Francisco': 54.0, 'Portland': 50.0, 'San Diego': 63.0, 'Los Angeles': 60.0}\n"
     ]
    }
   ],
   "source": [
    "temps_dict['Santa Barbara'] = 58.\n",
    "print temps_dict\n",
    "print temps_dict2\n",
    "print temps_dict_copy"
   ]
  },
  {
   "cell_type": "markdown",
   "metadata": {},
   "source": [
    "## How to iterate through a dictionary"
   ]
  },
  {
   "cell_type": "code",
   "execution_count": 22,
   "metadata": {
    "collapsed": false
   },
   "outputs": [
    {
     "name": "stdout",
     "output_type": "stream",
     "text": [
      "San Diego 100.0\n",
      "Los Angeles 60.0\n",
      "San Francisco 54.0\n",
      "Portland 50.0\n",
      "Santa Barbara 58.0\n"
     ]
    }
   ],
   "source": [
    "'''Approach 1'''\n",
    "for key in temps_dict:\n",
    "    print key, temps_dict[key]"
   ]
  },
  {
   "cell_type": "code",
   "execution_count": 23,
   "metadata": {
    "collapsed": false
   },
   "outputs": [
    {
     "name": "stdout",
     "output_type": "stream",
     "text": [
      "San Diego 100.0\n",
      "Los Angeles 60.0\n",
      "San Francisco 54.0\n",
      "Portland 50.0\n",
      "Santa Barbara 58.0\n"
     ]
    }
   ],
   "source": [
    "'''Approach 2'''\n",
    "# Note the result of hitting tab after the dot -- all methods are shown!\n",
    "for key, value in temps_dict.items():\n",
    "    print key, value"
   ]
  },
  {
   "cell_type": "code",
   "execution_count": 24,
   "metadata": {
    "collapsed": false
   },
   "outputs": [
    {
     "name": "stdout",
     "output_type": "stream",
     "text": [
      "San Diego 100.0\n",
      "Los Angeles 60.0\n",
      "San Francisco 54.0\n",
      "Portland 50.0\n",
      "Santa Barbara 58.0\n"
     ]
    }
   ],
   "source": [
    "'''Approach 3'''\n",
    "# Note the result of hitting tab after the dot -- all methods are shown!\n",
    "for key in temps_dict.keys():\n",
    "    print key, temps_dict[key]"
   ]
  },
  {
   "cell_type": "code",
   "execution_count": 25,
   "metadata": {
    "collapsed": false
   },
   "outputs": [
    {
     "name": "stdout",
     "output_type": "stream",
     "text": [
      "San Diego 100.0\n",
      "Los Angeles 60.0\n",
      "San Francisco 54.0\n",
      "Portland 50.0\n",
      "Santa Barbara 58.0\n"
     ]
    }
   ],
   "source": [
    "'''Approach 4'''\n",
    "# Note the result of hitting tab after the dot -- all methods are shown!\n",
    "for key, value in zip(temps_dict.keys(), temps_dict.values()):\n",
    "    print key, value\n",
    "## It's a very explicity approach -- so it will help you understand how python does things.\n",
    "## But it's not elegant -- it accomplishs the same as Approach 2, but is much lengthier."
   ]
  },
  {
   "cell_type": "code",
   "execution_count": 26,
   "metadata": {
    "collapsed": false
   },
   "outputs": [
    {
     "name": "stdout",
     "output_type": "stream",
     "text": [
      "37.7875\n"
     ]
    }
   ],
   "source": [
    "'''\n",
    "Example of Using Dictionaries: Computing the value of a polynomial\n",
    "a*x^-3 + b + c*x^2 + d*x^5\n",
    "'''\n",
    "coeffs = {-3:5.5, 0: 2.3, 2: 7.1, 5: 0.2}  ## key:value -- power:coeff\n",
    "def polynom(coeffs, x):\n",
    "    total = 0.\n",
    "    # pwr is the key, and coeff is the value\n",
    "    for pwr in coeffs:\n",
    "        total += coeffs[pwr]*x**pwr\n",
    "    return total\n",
    "print polynom(coeffs, 2.0)"
   ]
  },
  {
   "cell_type": "code",
   "execution_count": 27,
   "metadata": {
    "collapsed": false
   },
   "outputs": [
    {
     "name": "stdout",
     "output_type": "stream",
     "text": [
      "x: 1.000, 1.250, 1.500\n",
      "a*x^-3 + b + c*x^2 + d*x^5: 15.100, 16.820, 21.423\n"
     ]
    }
   ],
   "source": [
    "'''Combining Dictionary with Numpy Array'''\n",
    "coeffs = {-3:5.5, 0: 2.3, 2: 7.1, 5: 0.2}  ## key-value: power-coeff\n",
    "import numpy as np\n",
    "x = np.linspace(1., 2., 5)\n",
    "print 'x: {:.3f}, {:.3f}, {:.3f}'.format(*x)\n",
    "print 'a*x^-3 + b + c*x^2 + d*x^5: {:.3f}, {:.3f}, {:.3f}'.format(*polynom(coeffs, x))"
   ]
  },
  {
   "cell_type": "markdown",
   "metadata": {},
   "source": [
    "##Breakout Problem: Find the values (y) of the following cosine series for 100 values between x = 0 and pi:\n",
    "\n",
    "### y = 0.5 + 0.2cos(πx/2.) + 0.15cos(2πx/2.) + 0.1cos(4πx/2.) + 0.05cos(8πx/2.)\n",
    "\n",
    "### Plot y vs. x as an inline plot\n"
   ]
  },
  {
   "cell_type": "code",
   "execution_count": 50,
   "metadata": {
    "collapsed": false
   },
   "outputs": [
    {
     "data": {
      "image/png": "[encoded data removed]",
      "text/plain": [
       "<matplotlib.figure.Figure at 0x10c8bd1d0>"
      ]
     },
     "metadata": {},
     "output_type": "display_data"
    }
   ],
   "source": [
    "%matplotlib inline\n",
    "import numpy as np\n",
    "import matplotlib.pyplot as plt\n",
    "\n",
    "coeff = {0:0.5, 1:0.2, 2:0.15, 4:0.1, 8:0.05}\n",
    "x = np.linspace(0., np.pi, 100)\n",
    "\n",
    "def cos_series(coeff, x):\n",
    "    total = 0.\n",
    "    for n in coeff:\n",
    "        total += coeff[n]*np.cos((n*np.pi*x)/2)\n",
    "    return total\n",
    "        \n",
    "y = cos_series(coeff,x)\n",
    "plt.xlabel('X')\n",
    "plt.ylabel('Y')\n",
    "plt.title('Cosine Series')\n",
    "#plt.text(0.5, 0.8, 'Cosine Series', fontsize = 16)\n",
    "plt.plot(x,y, 'b-', lw = 2)\n",
    "plt.show()"
   ]
  },
  {
   "cell_type": "markdown",
   "metadata": {},
   "source": [
    "# Class"
   ]
  },
  {
   "cell_type": "code",
   "execution_count": 53,
   "metadata": {
    "collapsed": false
   },
   "outputs": [
    {
     "name": "stdout",
     "output_type": "stream",
     "text": [
      "0.38\n"
     ]
    }
   ],
   "source": [
    "'''\n",
    "A class of rocket that has a certain initial velocity v0. \n",
    "'''\n",
    "\n",
    "class Y:\n",
    "    def __init__(self, v0):\n",
    "        self.v0 = v0     # a variable parameter: can be changed programmatically.\n",
    "        self.g = 9.81    # a constant parameter: cannot be changed programmatically, but only by hand.\n",
    "    \n",
    "    def value(self, t):\n",
    "        return self.v0*t - 0.5*self.g*t**2\n",
    "    \n",
    "# Now we can create an instance of the class Y:\n",
    "y = Y(10)    # y --> self, 10 --> v0\n",
    "print y.value(2.)"
   ]
  },
  {
   "cell_type": "code",
   "execution_count": 54,
   "metadata": {
    "collapsed": false
   },
   "outputs": [
    {
     "name": "stdout",
     "output_type": "stream",
     "text": [
      "h(t = 2; v0 = 10) = 0.38\n",
      "Formula: v0*t - 0.5*g*t**2; parameters: v0 = 10, g = 9.81 (constant).\n",
      "Initial velocity 10.0\n",
      "Gravity 9.81\n"
     ]
    }
   ],
   "source": [
    "'''To make code more readable and therefore easier to modify and debug.\n",
    "Unlike functions, an instance of a class is \"introspective\".\n",
    "\n",
    "'''\n",
    "class Y:\n",
    "# The \"Constructor\"\n",
    "# It is a good habit always to have a constructor in a class and to initialize class attributes\n",
    "    def __init__(self, v0):\n",
    "        self.v0 = v0     # a variable parameter: can be changed programmatically.\n",
    "        self.g = 9.81    # a constant parameter: cannot be changed programmatically, but only by hand.\n",
    "\n",
    "# .v0 and .g are called attributes.  \n",
    "# They are basically assignment statements that initialized varaibles or constant.\n",
    "\n",
    "    def value(self, t):\n",
    "        return self.v0*t - 0.5*self.g*t**2\n",
    "    def formula(self):\n",
    "        return 'v0*t - 0.5*g*t**2; parameters: v0 = {:g}, g = {:g} (constant).'.format(self.v0, self.g)\n",
    "\n",
    "# .value and .formula are called methods\n",
    "# They are like functions: they do \"stuff\" and return outputs\n",
    "# -- here they return either the result of a calculation or a string.\n",
    " \n",
    "y = Y(10.)\n",
    "t = 2.\n",
    "h = y.value(t)\n",
    "print 'h(t = {:g}; v0 = {:g}) = {:g}'.format(t, y.v0, h)\n",
    "print 'Formula:', y.formula()\n",
    "print 'Initial velocity', y.v0\n",
    "print \"Gravity\", y.g"
   ]
  },
  {
   "cell_type": "code",
   "execution_count": 57,
   "metadata": {
    "collapsed": false
   },
   "outputs": [
    {
     "name": "stdout",
     "output_type": "stream",
     "text": [
      "h(t = 2; v0 = 10) = 16.73\n",
      "Formula: v0*t - 0.5*g*t**2; parameters: v0 = 10, g = 1.635 (constant).\n",
      "Initial velocity 10\n",
      "Gravity 1.635\n"
     ]
    }
   ],
   "source": [
    "'''\n",
    "Keyword arguments for class.\n",
    "\n",
    "'''\n",
    "class Y:\n",
    "    def __init__(self, g = 9.81, v0 = 10.):\n",
    "        self.g = g    \n",
    "        self.v0 = v0\n",
    "            \n",
    "    def value(self, t):\n",
    "        return self.v0*t - 0.5*self.g*t**2\n",
    "    def formula(self):\n",
    "        return 'v0*t - 0.5*g*t**2; parameters: v0 = {:g}, g = {:g} (constant).'.format(self.v0, self.g)\n",
    "\n",
    "#y = Y() \n",
    "# or \n",
    "y = Y(g = 9.81/6, v0 = 10)\n",
    "\n",
    "t = 2.\n",
    "h = y.value(t)\n",
    "print 'h(t = {:g}; v0 = {:g}) = {:g}'.format(t, y.v0, h)\n",
    "print 'Formula:', y.formula()\n",
    "print 'Initial velocity', y.v0\n",
    "print \"Gravity\", y.g"
   ]
  },
  {
   "cell_type": "code",
   "execution_count": 58,
   "metadata": {
    "collapsed": false
   },
   "outputs": [
    {
     "name": "stdout",
     "output_type": "stream",
     "text": [
      "{'v0': 10.0, 'g': 9.81}\n"
     ]
    }
   ],
   "source": [
    "'''Can think of the definition of the attributes as the definition of a dictionary:\n",
    "{'v0':v0, 'g':9.81}\n",
    "in fact every class instance has a dictionary: __dict__\n",
    "'''\n",
    "y = Y()   ### here v0 has been assigned the value 2.0.\n",
    "print y.__dict__"
   ]
  },
  {
   "cell_type": "markdown",
   "metadata": {},
   "source": [
    "## Short breakout: add a method that computes velocity"
   ]
  },
  {
   "cell_type": "code",
   "execution_count": 60,
   "metadata": {
    "collapsed": false
   },
   "outputs": [],
   "source": [
    "'''\n",
    "Another example:\n",
    "'''\n",
    "\n",
    "class BankAccount:\n",
    "    def __init__(self, name, account_number, initial_amount):\n",
    "        # This will be printed at the time of the creation an instance of this class.\n",
    "        # Because method __init__ get called immediately (and implicitly).\n",
    "        print 'A bank account is created: {:s}'.format(name)\n",
    "        \n",
    "        self.name = name\n",
    "        self.no = account_number\n",
    "        self.balance = initial_amount  # the attribute balance is initialized\n",
    "                                       # and changes depending on whether a deposit or\n",
    "                                       # withdraw is made.\n",
    "    \n",
    "    def deposit(self, amount):\n",
    "        self.balance += amount\n",
    "        return   # return is optional when there is nothing to return, just as for a function\n",
    "    \n",
    "    def withdraw(self, amount):\n",
    "        self.balance -= amount\n",
    "        \n",
    "    def dump(self):\n",
    "        s = '{:s} {:s}, balance: {:g}'.format(self.name, self.no, self.balance)\n",
    "        print s"
   ]
  },
  {
   "cell_type": "code",
   "execution_count": 65,
   "metadata": {
    "collapsed": false
   },
   "outputs": [
    {
     "name": "stdout",
     "output_type": "stream",
     "text": [
      "A bank account is created: Ian Cone\n",
      "Ian Cone has $ 1,000,000,000 dollars\n",
      "Cha-ching\n"
     ]
    }
   ],
   "source": [
    "#b1 = BankAccount('Fernando Perez', '11112222', 100000)\n",
    "#b2 = BankAccount('Guido van Rossum', '22223333', 200000)\n",
    "b3 = BankAccount('Ian Cone', '20282539', '1,000,000,000')\n",
    "b1.deposit(1500)\n",
    "#print b1.balance\n",
    "print 'Ian Cone has $',b3.balance, 'dollars' \n",
    "print 'Cha-ching'\n",
    "#b1.dump()"
   ]
  },
  {
   "cell_type": "markdown",
   "metadata": {},
   "source": [
    "## From this example, I hope you can see the utility of defining classes: you now can apply the same structure (the attributes \"data\" and the methods) to many people. "
   ]
  },
  {
   "cell_type": "code",
   "execution_count": 67,
   "metadata": {
    "collapsed": false
   },
   "outputs": [
    {
     "name": "stdout",
     "output_type": "stream",
     "text": [
      "A bank account is created: Bugs Bunny\n"
     ]
    },
    {
     "data": {
      "text/plain": [
       "'Bugs Bunny'"
      ]
     },
     "execution_count": 67,
     "metadata": {},
     "output_type": "execute_result"
    }
   ],
   "source": [
    "'''\n",
    "if you want to change the identity of a1, \n",
    "you can certainly do a1 = BankAccount('New Name', 'New Number', new_initial_points)\n",
    "But you can also do this:\n",
    "'''\n",
    "\n",
    "b1.__init__('Bugs Bunny', '123', 200)\n",
    "b1.name"
   ]
  },
  {
   "cell_type": "code",
   "execution_count": 68,
   "metadata": {
    "collapsed": false
   },
   "outputs": [
    {
     "name": "stdout",
     "output_type": "stream",
     "text": [
      "A bank account is created: Bugs Bunny\n"
     ]
    }
   ],
   "source": [
    "# In other words, when you do \n",
    "b1 = BankAccount('Bugs Bunny', '123', 200)\n",
    "# you are implicitly calling the method __init__."
   ]
  },
  {
   "cell_type": "markdown",
   "metadata": {},
   "source": [
    "##Breakout Problem: Create a class Turtle that \n",
    "\n",
    "- has attributes: name and weight.\n",
    "- when an instance of this class is created, immediately announce to the world its creation by printing a statement in a way that you want.\n",
    "- has methods: \n",
    "\n",
    "        i) eat -- you can specify the amount that will be added to its weight.\n",
    "\n",
    "\n",
    "        ii) hibernate -- an object that is an instance of this class will lose 10% \n",
    "               of its weight every time this method is called."
   ]
  },
  {
   "cell_type": "code",
   "execution_count": 87,
   "metadata": {
    "collapsed": false
   },
   "outputs": [
    {
     "name": "stdout",
     "output_type": "stream",
     "text": [
      "I liek turtles. My names is timmy\n",
      "I am 250.0 pounds\n",
      "Now I am 250.0 pounds\n",
      "I am 125.0 pounds\n",
      "Now I am 125.0 pounds\n",
      "I am 62.5 pounds\n",
      "Now I am 62.5 pounds\n",
      "I am 31.25 pounds\n",
      "Now I am 31.25 pounds\n",
      "I am 15.625 pounds\n",
      "Now I am 15.625 pounds\n",
      "I am 7.8125 pounds\n",
      "Now I am 7.8125 pounds\n",
      "I am 3.90625 pounds\n",
      "Now I am 3.90625 pounds\n",
      "I am 1.953125 pounds\n",
      "Now I am 1.953125 pounds\n",
      "I am 0.9765625 pounds\n",
      "Now I am 0.9765625 pounds\n",
      "I am 0.87890625 pounds\n"
     ]
    }
   ],
   "source": [
    "class Turtle:\n",
    "    def __init__(self, name, weight):\n",
    "        print 'I liek turtles. My names is {:s}'.format(name)\n",
    "        self.name = name\n",
    "        self.weight = weight\n",
    "    def eat(self, amount):\n",
    "        self.weight += amount\n",
    "        print 'I am', self.weight, 'pounds'\n",
    "        \n",
    "    def hibernate(self):\n",
    "        self.weight -= .1*self.weight\n",
    "        print 'I am', self.weight, 'pounds'\n",
    "        \n",
    "    def dump(self):\n",
    "        self.weight -= .5*self.weight\n",
    "        print 'I am', self.weight, 'pounds'\n",
    "        \n",
    "timmy = Turtle('timmy', 500)\n",
    "\n",
    "while timmy.weight > 1:\n",
    "    timmy.dump()\n",
    "    print 'Now I am', timmy.weight, 'pounds'\n",
    "timmy.hibernate()\n"
   ]
  },
  {
   "cell_type": "code",
   "execution_count": null,
   "metadata": {
    "collapsed": false
   },
   "outputs": [],
   "source": [
    "# can delete an existing instance of a class:\n",
    "#if isinstance(t, Turtle):\n",
    "#    del t\n",
    "t = Turtle('Crush', 150)  \n",
    "\n",
    "# From Finding Nemo, but actually sea turtles generally don't hibernate.\n",
    "# Oh well!"
   ]
  },
  {
   "cell_type": "code",
   "execution_count": null,
   "metadata": {
    "collapsed": false
   },
   "outputs": [],
   "source": [
    "t.eat(5)\n",
    "t.weight"
   ]
  },
  {
   "cell_type": "code",
   "execution_count": null,
   "metadata": {
    "collapsed": false
   },
   "outputs": [],
   "source": [
    "# can use tab completion\n",
    "t.hibernate()\n",
    "t.weight"
   ]
  },
  {
   "cell_type": "markdown",
   "metadata": {},
   "source": [
    "## Special Methods\n",
    "\n",
    "\\_\\_init\\_\\_ is called a special method.\n",
    "\n",
    "All methods that start and end with \\_\\_ are special methods.\n",
    "\n",
    "Their invocation is implicity.\n",
    "\n",
    "Here's another example of a special: the method \\_\\_call\\_\\_"
   ]
  },
  {
   "cell_type": "code",
   "execution_count": null,
   "metadata": {
    "collapsed": false
   },
   "outputs": [],
   "source": [
    "class Y:\n",
    "    def __init__(self, v0, g = 9.81):   \n",
    "        self.v0 = v0     \n",
    "        self.g = g    \n",
    "        \n",
    "    def value(self, t):\n",
    "        v0, g = self.v0, self.g   # if you want...\n",
    "        return v0*t - 0.5*g*t**2\n",
    "\n",
    "    def formula(self):\n",
    "        return 'h = v0*t - 0.5*g*t**2; parameters: v0 = {:g}, g = {:g} (constant).'.format(self.v0, self.g)\n",
    "\n",
    " \n",
    "y = Y(10.)\n",
    "t = 2.\n",
    "h = y.value(t)\n",
    "print 'h(t = {:g}; v0 = {:g}) = {:g}'.format(t, y.v0, h)\n",
    "print callable(y)\n"
   ]
  },
  {
   "cell_type": "code",
   "execution_count": null,
   "metadata": {
    "collapsed": false
   },
   "outputs": [],
   "source": [
    "class Y:\n",
    "    def __init__(self, v0, g = 9.81):   \n",
    "        self.v0 = v0     \n",
    "        self.g = g    \n",
    "        \n",
    "    def value(self, t):\n",
    "        v0, g = self.v0, self.g   # if you want...\n",
    "        return v0*t - 0.5*g*t**2\n",
    "\n",
    "    def __call__(self, t):\n",
    "        return self.v0*t - 0.5*self.g*t**2\n",
    "\n",
    "    def formula(self):\n",
    "        return 'h = v0*t - 0.5*g*t**2; parameters: v0 = {:g}, g = {:g} (constant).'.format(self.v0, self.g)\n",
    "\n",
    " \n",
    "\n",
    "y = Y(10)\n",
    "t = 2.\n",
    "h = y(t)\n",
    "print 'h(t = {:g}; v0 = {:g}) = {:g}'.format(t, y.v0, h)\n",
    "print type(y)\n",
    "print callable(y)"
   ]
  },
  {
   "cell_type": "code",
   "execution_count": null,
   "metadata": {
    "collapsed": false
   },
   "outputs": [],
   "source": [
    "'''\n",
    "When you do h = y(t), you are implicitly invoking the method __call__;\n",
    "i.e., it's the same as h = y.__call__(t):\n",
    "'''\n",
    "\n",
    "y = Y(10)\n",
    "t = 2.\n",
    "h = y(t)\n",
    "print h\n",
    "h2 = y.__call__(t)\n",
    "print h2"
   ]
  },
  {
   "cell_type": "markdown",
   "metadata": {
    "collapsed": false
   },
   "source": [
    "### The difference between a regular method and .\\_\\_call\\_\\_() is that .value() is *not* a special method and has to be called explicitly whereas .\\_\\_call\\_\\_() is a special method and can be invoked implicitly.\n",
    "\n",
    "### This implicitity makes the code more elegant, and very importantly, more readable."
   ]
  },
  {
   "cell_type": "code",
   "execution_count": null,
   "metadata": {
    "collapsed": false
   },
   "outputs": [],
   "source": [
    "'''Using functions and classes together'''\n",
    "\n",
    "def vert_dist(g, v0, t):\n",
    "    return v0*t - 0.5*g*t**2\n",
    "\n",
    "class Y:\n",
    "    def __init__(self, v0, g = 9.81):   # The \"Constructor\"\n",
    "        self.v0 = v0     # a variable parameter: can be changed programmatically.\n",
    "        self.g = g    # a constant parameter: cannot be changed programmatically, but only by hand.\n",
    "\n",
    "    def value(self, t):\n",
    "        v0, g = self.v0, self.g   # if you want...\n",
    "        return vert_dist(g, v0, t)\n",
    "\n",
    "    def __call__(self, t):\n",
    "        v0, g = self.v0, self.g   \n",
    "        return vert_dist(g, v0, t)\n",
    "\n",
    "    def formula(self):\n",
    "        return 'h = v0*t - 0.5*g*t**2; parameters: v0 = {:g}, g = {:g} (constant).'.format(self.v0, self.g)\n",
    "\n",
    "y = Y(10)\n",
    "t = 2.\n",
    "h = y(t)\n",
    "print 'h(t = {:g}; v0 = {:g}) = {:g}'.format(t, y.v0, h)\n",
    "print type(y)\n",
    "print callable(y)"
   ]
  },
  {
   "cell_type": "markdown",
   "metadata": {},
   "source": [
    "###One way to think of the above cell considered as a python program:\n",
    "\n",
    "1. At the heart of the program (or more accurately, the \"brain\" of the program) is the function vert_dist()\n",
    "\n",
    "2. The class Y is a \"wrapper\" around that function.  The idea of a wrapper is very important in python.\n",
    "It provides \"bells and whistles\" to an otherwise barebone function:\n",
    "\n",
    "a) It provides nice peripherals/introspection to the barebone function, e.g., one can do\n",
    "\n",
    "\\>\\>\\> y.formula\n",
    "\n",
    "b) It provides different ways of calling the function and making it more versatile.  E.g., as written vert_dist() doesn't work with diff().  But using the class Y, this can be done easily:"
   ]
  },
  {
   "cell_type": "code",
   "execution_count": null,
   "metadata": {
    "collapsed": false
   },
   "outputs": [],
   "source": [
    "diff = lambda f, x, h = 1e-10:(f(x+h) - f(x-h))/(2*h)\n",
    "\n",
    "diff(y.value, 0.1)"
   ]
  },
  {
   "cell_type": "code",
   "execution_count": null,
   "metadata": {
    "collapsed": false
   },
   "outputs": [],
   "source": [
    "#Since we defined the method __call__, it can be done with better visual:\n",
    "diff = lambda f, x, h = 1e-10:(f(x+h) - f(x-h))/(2*h)\n",
    "\n",
    "diff(y, 0.1)"
   ]
  },
  {
   "cell_type": "code",
   "execution_count": null,
   "metadata": {
    "collapsed": false
   },
   "outputs": [],
   "source": [
    "#To this with a barebone function, you need to define it this way:\n",
    "def vert_dist_rigid(t):\n",
    "    v0 = 10.\n",
    "    g = 9.81\n",
    "    return v0*t - 0.5*g*t**2\n",
    "diff(vert_dist_rigid, 0.1)\n",
    "# But then you cannot change v0 and g programmatically; you have to do it \"by hand\".  \n",
    "# -- not elegant, nor convenient!"
   ]
  },
  {
   "cell_type": "code",
   "execution_count": null,
   "metadata": {
    "collapsed": false
   },
   "outputs": [],
   "source": [
    "''' \n",
    "One more special method: __str__\n",
    "If __str__ is not defined\n",
    ">>> print y\n",
    "gives \n",
    "\n",
    "<__main__.Y instance at 0x4fbee68>\n",
    "\n",
    "If it is, whatever in the body of the method\n",
    "will be printed\n",
    "'''\n",
    "\n",
    "def vert_dist(g, v0, t):\n",
    "    return v0*t - 0.5*g*t**2\n",
    "\n",
    "class Y:\n",
    "    def __init__(self, v0, g = 9.81):   \n",
    "        self.v0 = v0     # a variable parameter: can be changed programmatically.\n",
    "        self.g = g    # a constant parameter: cannot be changed programmatically, but only by hand.\n",
    "\n",
    "    def __call__(self, t):\n",
    "        v0, g = self.v0, self.g   ### if you want...\n",
    "        return vert_dist(g, v0, t)\n",
    "\n",
    "    def __str__(self):\n",
    "        return 'h = v0*t - 0.5*g*t**2; parameters: v0 = {:g}, g = {:g} (constant).'.format(self.v0, self.g)\n",
    "        \n",
    "\n",
    "\n",
    "y = Y(10)\n",
    "t = 2.\n",
    "print y\n",
    "### this is the same as\n",
    "print y.__str__()\n"
   ]
  },
  {
   "cell_type": "markdown",
   "metadata": {
    "collapsed": false
   },
   "source": [
    "## What have we achieved with the class Y:\n",
    "\n",
    "1. Self-inspection\n",
    "2. Can be called just like a function\n",
    "3. But can also be treated as string!\n",
    "4. Can be used as argument for another funciton\n",
    "\n",
    "## A function can only do \\#2 above."
   ]
  },
  {
   "cell_type": "markdown",
   "metadata": {},
   "source": [
    "##End of wk 5-1"
   ]
  }
 ],
 "metadata": {
  "kernelspec": {
   "display_name": "Python 2",
   "language": "python",
   "name": "python2"
  },
  "language_info": {
   "codemirror_mode": {
    "name": "ipython",
    "version": 2
   },
   "file_extension": ".py",
   "mimetype": "text/x-python",
   "name": "python",
   "nbconvert_exporter": "python",
   "pygments_lexer": "ipython2",
   "version": "2.7.9"
  }
 },
 "nbformat": 4,
 "nbformat_minor": 0
}
