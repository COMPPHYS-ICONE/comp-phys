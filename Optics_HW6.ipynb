{
 "cells": [
  {
   "cell_type": "code",
   "execution_count": null,
   "metadata": {
    "collapsed": true
   },
   "outputs": [],
   "source": [
    "%matplotlib inline\n",
    "#%matplotlib osx\n",
    "import numpy as np\n",
    "import matplotlib.pyplot as plt\n",
    "\n",
    "\n",
    "#x = np.linspace(1e-6, np.pi, 15100)\n",
    "x = np.linspace(400e-9, 700e-9, 100)\n",
    "y = 1 + (2.508e-5)*((1+((2.097e-15)/(x**2))))\n",
    "plt.xlabel('X')\n",
    "plt.ylabel('Y')\n",
    "plt.title('Frequency Modulation')\n",
    "plt.text(0.5, 0.8, 'y = cos(-e^x)', fontsize = 16)\n",
    "plt.plot(x,y, '--', lw = 2)\n",
    "#plt.savefig('planck.pdf')\n",
    "plt.show()"
   ]
  }
 ],
 "metadata": {
  "kernelspec": {
   "display_name": "Python 2",
   "language": "python",
   "name": "python2"
  },
  "language_info": {
   "codemirror_mode": {
    "name": "ipython",
    "version": 2
   },
   "file_extension": ".py",
   "mimetype": "text/x-python",
   "name": "python",
   "nbconvert_exporter": "python",
   "pygments_lexer": "ipython2",
   "version": "2.7.9"
  }
 },
 "nbformat": 4,
 "nbformat_minor": 0
}
