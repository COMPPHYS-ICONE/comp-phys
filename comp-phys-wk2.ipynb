{
 "cells": [
  {
   "cell_type": "code",
   "execution_count": 2,
   "metadata": {
    "collapsed": false
   },
   "outputs": [
    {
     "name": "stdout",
     "output_type": "stream",
     "text": [
      "With the for loop, the sum is 1.64393456668\n",
      "With the while loop, the sum is 1.64393456668\n",
      "correct answer: 1.64493406685\n"
     ]
    }
   ],
   "source": [
    "from math import pi\n",
    "s = 0\n",
    "max = 1000\n",
    "\n",
    "for i in range(max):\n",
    "    s += 1./(i+1)**2\n",
    "    \n",
    "print 'With the for loop, the sum is', s\n",
    "\n",
    "\n",
    "i = 1\n",
    "s = 0\n",
    "\n",
    "while i <= max:\n",
    "    s += 1./i**2\n",
    "    i = i+1\n",
    "    \n",
    "print 'With the while loop, the sum is', s    \n",
    "# correct answer is pi^2/6. Let's see how close we get:\n",
    "\n",
    "print 'correct answer:', pi**2/6\n"
   ]
  }
 ],
 "metadata": {
  "kernelspec": {
   "display_name": "Python 2",
   "language": "python",
   "name": "python2"
  },
  "language_info": {
   "codemirror_mode": {
    "name": "ipython",
    "version": 2
   },
   "file_extension": ".py",
   "mimetype": "text/x-python",
   "name": "python",
   "nbconvert_exporter": "python",
   "pygments_lexer": "ipython2",
   "version": "2.7.9"
  }
 },
 "nbformat": 4,
 "nbformat_minor": 0
}
