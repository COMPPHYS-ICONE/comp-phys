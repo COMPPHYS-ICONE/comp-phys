{
 "cells": [
  {
   "cell_type": "code",
   "execution_count": 4,
   "metadata": {
    "collapsed": false
   },
   "outputs": [
    {
     "name": "stdout",
     "output_type": "stream",
     "text": [
      "With the for loop, the sum is 1.6449240669\n",
      "With the while loop, the sum is 1.6449240669\n",
      "correct answer: 1.64493406685\n"
     ]
    }
   ],
   "source": [
    "from math import pi\n",
    "s = 0\n",
    "max = 100000\n",
    "\n",
    "for i in range(max):\n",
    "    s += 1./(i+1)**2\n",
    "    \n",
    "print 'With the for loop, the sum is', s\n",
    "\n",
    "\n",
    "i = 1\n",
    "s = 0\n",
    "\n",
    "while i <= max:\n",
    "    s += 1./i**2\n",
    "    i = i+1\n",
    "    \n",
    "print 'With the while loop, the sum is', s    \n",
    "# correct answer is pi^2/6. Let's see how close we get:\n",
    "\n",
    "print 'correct answer:', pi**2/6\n"
   ]
  },
  {
   "cell_type": "raw",
   "metadata": {},
   "source": [
    "b = bool(1)\n",
    "print b"
   ]
  },
  {
   "cell_type": "code",
   "execution_count": 10,
   "metadata": {
    "collapsed": false
   },
   "outputs": [
    {
     "name": "stdout",
     "output_type": "stream",
     "text": [
      "True\n",
      "False\n"
     ]
    }
   ],
   "source": [
    "b = bool(77)\n",
    "print b\n",
    "b = bool(0)\n",
    "print b\n",
    "\n",
    "#anything other than zero evaluates to true"
   ]
  },
  {
   "cell_type": "code",
   "execution_count": 13,
   "metadata": {
    "collapsed": false
   },
   "outputs": [
    {
     "name": "stdout",
     "output_type": "stream",
     "text": [
      "True\n",
      "  -20  -4.0\n",
      "True\n",
      "  -15   5.0\n",
      "True\n",
      "   -5  23.0\n",
      "True\n",
      "    5  41.0\n",
      "True\n",
      "   10  50.0\n",
      "True\n",
      "   15  59.0\n",
      "True\n",
      "   20  68.0\n",
      "True\n",
      "   25  77.0\n",
      "True\n",
      "   30  86.0\n",
      "True\n",
      "   35  95.0\n",
      "True\n",
      "   40 104.0\n",
      "True\n",
      "   45 113.0\n",
      "True\n",
      "   50 122.0\n",
      "True\n",
      "   55 131.0\n",
      "True\n",
      "   60 140.0\n"
     ]
    }
   ],
   "source": [
    "CDegrees = [-20, -15, -5, 5, 10, 15, 20, 25, 30, 35, 40 ,45, 50, 55, 60]\n",
    "for C in CDegrees:\n",
    "    print C in CDegrees\n",
    "    F = (9./5)*C + 32.\n",
    "    print '%5d %5.1f' % (C, F)"
   ]
  },
  {
   "cell_type": "code",
   "execution_count": 5,
   "metadata": {
    "collapsed": false
   },
   "outputs": [
    {
     "name": "stdout",
     "output_type": "stream",
     "text": [
      "hello world\n"
     ]
    }
   ],
   "source": [
    "# str\n",
    "a = 'hello'\n",
    "space = ' '\n",
    "b = 'world'\n",
    "print a + space + b"
   ]
  },
  {
   "cell_type": "code",
   "execution_count": 18,
   "metadata": {
    "collapsed": false
   },
   "outputs": [
    {
     "name": "stdout",
     "output_type": "stream",
     "text": [
      "  -20  -4.0\n",
      "  -15   5.0\n",
      "  -10  14.0\n",
      "   -5  23.0\n",
      "    0  32.0\n",
      "    5  41.0\n",
      "   10  50.0\n",
      "   15  59.0\n",
      "   20  68.0\n",
      "   25  77.0\n",
      "   30  86.0\n",
      "   35  95.0\n",
      "   40 104.0\n",
      "   45 113.0\n",
      "   50 122.0\n",
      "   55 131.0\n",
      "   60 140.0\n"
     ]
    }
   ],
   "source": [
    "CDegrees = [-20, -15, -10, -5, 0, 5, 10, 15, 20, 25, 30, 35, 40 ,45, 50, 55, 60]\n",
    "C = -20\n",
    "while C in CDegrees:\n",
    "    F = (9./5)*C + 32.\n",
    "    print '%5d %5.1f' % (C, F)\n",
    "    C = C+5\n",
    "#teehee   \n",
    "    "
   ]
  },
  {
   "cell_type": "code",
   "execution_count": 21,
   "metadata": {
    "collapsed": false
   },
   "outputs": [
    {
     "name": "stdout",
     "output_type": "stream",
     "text": [
      "r == a: True\n",
      "r is a: False\n",
      "s == a: True\n",
      "s is a: True\n"
     ]
    }
   ],
   "source": [
    "a = [1,2,3,4,5,6,7,8,9,10]\n",
    "r = a[:]\n",
    "s = a\n",
    "print 'r == a:', r == a\n",
    "print 'r is a:', r is a\n",
    "print 's == a:', s == a\n",
    "print 's is a:', s is a\n"
   ]
  },
  {
   "cell_type": "code",
   "execution_count": 23,
   "metadata": {
    "collapsed": false
   },
   "outputs": [
    {
     "name": "stdout",
     "output_type": "stream",
     "text": [
      "c == a: True\n",
      "c is a: False\n"
     ]
    }
   ],
   "source": [
    "import copy\n",
    "c = copy.copy(a)\n",
    "print 'c == a:', c == a\n",
    "print 'c is a:', c is a"
   ]
  },
  {
   "cell_type": "code",
   "execution_count": 24,
   "metadata": {
    "collapsed": false
   },
   "outputs": [
    {
     "name": "stdout",
     "output_type": "stream",
     "text": [
      "a: [1, 2, 3, 4, 5, 6, 7, 8, 9, 10, 140000.0, 140000.0]\n",
      "r: [1, 2, 3, 4, 5, 6, 7, 8, 9, 10]\n",
      "s: [1, 2, 3, 4, 5, 6, 7, 8, 9, 10, 140000.0, 140000.0]\n",
      "c: [1, 2, 3, 4, 5, 6, 7, 8, 9, 10, 140000.0]\n"
     ]
    }
   ],
   "source": [
    "a.append(1.4e5)\n",
    "print 'a:', a\n",
    "print 'r:', r\n",
    "print 's:', s\n",
    "print 'c:', c\n"
   ]
  }
 ],
 "metadata": {
  "kernelspec": {
   "display_name": "Python 2",
   "language": "python",
   "name": "python2"
  },
  "language_info": {
   "codemirror_mode": {
    "name": "ipython",
    "version": 2
   },
   "file_extension": ".py",
   "mimetype": "text/x-python",
   "name": "python",
   "nbconvert_exporter": "python",
   "pygments_lexer": "ipython2",
   "version": "2.7.9"
  }
 },
 "nbformat": 4,
 "nbformat_minor": 0
}
