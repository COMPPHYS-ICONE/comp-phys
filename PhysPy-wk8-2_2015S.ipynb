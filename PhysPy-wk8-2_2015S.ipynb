{
 "cells": [
  {
   "cell_type": "markdown",
   "metadata": {},
   "source": [
    "# Topics\n",
    "\n",
    "## 1. Random Numbers and Histogram\n",
    "## 2. Monte Carlo"
   ]
  },
  {
   "cell_type": "markdown",
   "metadata": {
    "collapsed": false
   },
   "source": [
    "## random numbers and histogram\n",
    "### Distributions\n",
    "### 1. Uniform\n",
    "### 2. Gaussian\n",
    "### 3. Poisson"
   ]
  },
  {
   "cell_type": "markdown",
   "metadata": {},
   "source": [
    "## Random Number with Different Distribution and Plotting the Histogram"
   ]
  },
  {
   "cell_type": "code",
   "execution_count": 25,
   "metadata": {
    "collapsed": false
   },
   "outputs": [
    {
     "name": "stdout",
     "output_type": "stream",
     "text": [
      "n (normalized height, or probability density): [  9.53556183e-08   1.58926031e-07   4.76778092e-07   9.85341389e-07\n",
      "   2.63817211e-06   6.80203411e-06   1.37629942e-05   3.35651777e-05\n",
      "   7.14213581e-05   1.44749829e-04   2.71858868e-04   5.11932530e-04\n",
      "   8.96247457e-04   1.51847465e-03   2.43500107e-03   3.77732211e-03\n",
      "   5.60099831e-03   7.93301531e-03   1.07246146e-02   1.39104776e-02\n",
      "   1.72537092e-02   2.04903649e-02   2.33369526e-02   2.53732083e-02\n",
      "   2.64032079e-02   2.63720584e-02   2.51790642e-02   2.29317866e-02\n",
      "   2.00788101e-02   1.67980364e-02   1.34431397e-02   1.03442728e-02\n",
      "   7.56704045e-03   5.31572608e-03   3.58025383e-03   2.28630988e-03\n",
      "   1.42003587e-03   8.38779804e-04   4.72359948e-04   2.55807339e-04\n",
      "   1.32798591e-04   6.82110523e-05   3.12448576e-05   1.47165504e-05\n",
      "   6.03918916e-06   2.28853484e-06   9.21770977e-07   2.22496443e-07\n",
      "   3.17852061e-08   6.35704122e-08] 50\n",
      "bins (locations of bin edges): [  21.55501368   24.70113139   27.8472491    30.99336682   34.13948453\n",
      "   37.28560225   40.43171996   43.57783768   46.72395539   49.8700731\n",
      "   53.01619082   56.16230853   59.30842625   62.45454396   65.60066168\n",
      "   68.74677939   71.8928971    75.03901482   78.18513253   81.33125025\n",
      "   84.47736796   87.62348568   90.76960339   93.91572111   97.06183882\n",
      "  100.20795653  103.35407425  106.50019196  109.64630968  112.79242739\n",
      "  115.93854511  119.08466282  122.23078053  125.37689825  128.52301596\n",
      "  131.66913368  134.81525139  137.96136911  141.10748682  144.25360453\n",
      "  147.39972225  150.54583996  153.69195768  156.83807539  159.98419311\n",
      "  163.13031082  166.27642854  169.42254625  172.56866396  175.71478168\n",
      "  178.86089939] 51\n"
     ]
    },
    {
     "data": {
      "image/png": "[encoded data removed]",
      "text/plain": [
       "<matplotlib.figure.Figure at 0x115ef6e50>"
      ]
     },
     "metadata": {},
     "output_type": "display_data"
    }
   ],
   "source": [
    "%matplotlib inline\n",
    "'''Histogram Plot'''\n",
    "\n",
    "import numpy as np\n",
    "import matplotlib.pyplot as plt\n",
    "\n",
    "avg = 100.\n",
    "sig = 15.\n",
    "\n",
    "num_pts = 10000000\n",
    "\n",
    "x = np.random.randn(num_pts)*sig + avg\n",
    "fig = plt.figure()\n",
    "ax = fig.add_subplot(111)\n",
    "\n",
    "# the histogram of the data\n",
    "\n",
    "Nbins = 50\n",
    "# normed=1: the total area adds up to 1; # alpha: level of tranparency.\n",
    "n, bins, patches = ax.hist(x, Nbins, normed=1, facecolor='green', alpha=.5)\n",
    "print 'n (normalized height, or probability density):', n, len(n)\n",
    "print 'bins (locations of bin edges):', bins, len(bins)\n",
    "\n",
    "# hist uses np.histogram under the hood to create 'n' and 'bins'.\n",
    "# np.histogram returns the bin edges, so there will be Nbin probability\n",
    "# density values (n), Nbin+1 bin edges (bins), and finally, Nbin patches.\n",
    "\n",
    "ax.set_xlabel('IQ')\n",
    "ax.set_ylabel('Probability')\n",
    "# The is Latex, a typsetting \"program\".\n",
    "ax.set_title(r'$\\mathrm{Histogram\\ of\\ IQ:}\\ \\mu=100,\\ \\sigma=15$')\n",
    "# Pay attention to how the x and y axis limits are set.\n",
    "ax.set_xlim(0, 200)\n",
    "ax.set_ylim(0, 0.03)\n",
    "#ax.grid(True)\n",
    "\n",
    "plt.show()\n"
   ]
  },
  {
   "cell_type": "markdown",
   "metadata": {},
   "source": [
    "## What percentage of the population have IQ 1-sigma, 2-sigma, and 3-sigma above the mean?\n",
    "## Verify your number using the Gaussian random variables generated above.\n",
    "## What's the probability of finding someone with an IQ of 180?  How many such people are there in the US?"
   ]
  },
  {
   "cell_type": "code",
   "execution_count": 18,
   "metadata": {
    "collapsed": false
   },
   "outputs": [
    {
     "name": "stdout",
     "output_type": "stream",
     "text": [
      "15.865 %\n",
      "2.275 %\n",
      "0.135 %\n",
      "[ 110.15649787  125.9552355   114.4494531  ...,  116.80876108  132.88861844\n",
      "  110.31582173]\n",
      "[ 110.15649787  125.9552355    83.72238739 ...,   70.30997595   88.29412963\n",
      "   86.01657094]\n",
      "0\n"
     ]
    }
   ],
   "source": [
    "USpop = 300000000\n",
    "\n",
    "percent_one_sigma = (100-68.27)/2\n",
    "print percent_one_sigma,'%'\n",
    "percent_two_sigma = (100-95.45)/2\n",
    "print percent_two_sigma,'%'\n",
    "percent_three_sigma = (100-99.73)/2\n",
    "print percent_three_sigma,'%'\n",
    "\n"
   ]
  },
  {
   "cell_type": "code",
   "execution_count": 33,
   "metadata": {
    "collapsed": false
   },
   "outputs": [
    {
     "name": "stdout",
     "output_type": "stream",
     "text": [
      "15.86805 %\n",
      "2.2779 %\n",
      "0.13748 %\n"
     ]
    }
   ],
   "source": [
    "#x = np.linspace(1,10,10)*3\n",
    "ind = x<115\n",
    "ind2 = np.where(x<130)\n",
    "ind3 = x<145\n",
    "#print ind\n",
    "#print ind2\n",
    "\n",
    "\n",
    "\n",
    "largex = x[ind]\n",
    "large = x[ind2]\n",
    "larg = x[ind3]\n",
    "#print largex\n",
    "#print x\n",
    "#print large\n",
    "\n",
    "percentage_above_one = float((len(x)-len(largex)))/len(x)\n",
    "print percentage_above_one*100,'%'\n",
    "percentage_above_two = float((len(x)-len(large)))/len(x)\n",
    "print percentage_above_two*100,'%'\n",
    "percentage_above_three = float((len(x)-len(larg)))/len(x)\n",
    "print percentage_above_three*100,'%'"
   ]
  },
  {
   "cell_type": "markdown",
   "metadata": {},
   "source": [
    "## Plot a histogram for 10000 number generated with np.random.rand()"
   ]
  },
  {
   "cell_type": "code",
   "execution_count": 84,
   "metadata": {
    "collapsed": false
   },
   "outputs": [
    {
     "data": {
      "image/png": "[encoded data removed]",
      "text/plain": [
       "<matplotlib.figure.Figure at 0x11595ad50>"
      ]
     },
     "metadata": {},
     "output_type": "display_data"
    }
   ],
   "source": [
    "%matplotlib inline\n",
    "'''Histogram Plot'''\n",
    "\n",
    "import numpy as np\n",
    "import matplotlib.pyplot as plt\n",
    "\n",
    "avg = 100.\n",
    "sig = 15.\n",
    "\n",
    "num_pts = 10000000\n",
    "\n",
    "x = np.random.rand(10000)\n",
    "fig = plt.figure()\n",
    "ax = fig.add_subplot(111)\n",
    "#print x\n",
    "# the histogram of the data\n",
    "\n",
    "Nbins = 50\n",
    "# normed=1: the total area adds up to 1; # alpha: level of tranparency.\n",
    "n, bins, patches = ax.hist(x, Nbins, normed=1, facecolor='green', alpha=.5)\n",
    "#print 'n (normalized height, or probability density):', n, len(n)\n",
    "#print 'bins (locations of bin edges):', bins, len(bins)\n",
    "\n",
    "# hist uses np.histogram under the hood to create 'n' and 'bins'.\n",
    "# np.histogram returns the bin edges, so there will be Nbin probability\n",
    "# density values (n), Nbin+1 bin edges (bins), and finally, Nbin patches.\n",
    "\n",
    "ax.set_xlabel('value')\n",
    "ax.set_ylabel('Probability')\n",
    "# The is Latex, a typsetting \"program\".\n",
    "ax.set_title(r'$\\mathrm{Histogram\\ of\\ IQ:}\\ \\mu=100,\\ \\sigma=15$')\n",
    "# Pay attention to how the x and y axis limits are set.\n",
    "\n",
    "#ax.grid(True)\n",
    "\n",
    "plt.show()"
   ]
  },
  {
   "cell_type": "code",
   "execution_count": 91,
   "metadata": {
    "collapsed": false
   },
   "outputs": [
    {
     "data": {
      "image/png": "[encoded data removed]",
      "text/plain": [
       "<matplotlib.figure.Figure at 0x116506b90>"
      ]
     },
     "metadata": {},
     "output_type": "display_data"
    }
   ],
   "source": [
    "%matplotlib inline\n",
    "'''Histogram Plot'''\n",
    "\n",
    "import numpy as np\n",
    "import matplotlib.pyplot as plt\n",
    "s = np.random.poisson(5,10000)\n",
    "\n",
    "\n",
    "avg = 100.\n",
    "sig = 5.\n",
    "\n",
    "num_pts = 10000000\n",
    "\n",
    "x = np.random.rand(10000)\n",
    "fig = plt.figure()\n",
    "ax = fig.add_subplot(111)\n",
    "#print x\n",
    "# the histogram of the data\n",
    "\n",
    "Nbins = 15\n",
    "# normed=1: the total area adds up to 1; # alpha: level of tranparency.\n",
    "n, bins, patches = ax.hist(s, Nbins, normed=1, facecolor='green', alpha=.5)\n",
    "#print 'n (normalized height, or probability density):', n, len(n)\n",
    "#print 'bins (locations of bin edges):', bins, len(bins)\n",
    "\n",
    "# hist uses np.histogram under the hood to create 'n' and 'bins'.\n",
    "# np.histogram returns the bin edges, so there will be Nbin probability\n",
    "# density values (n), Nbin+1 bin edges (bins), and finally, Nbin patches.\n",
    "\n",
    "ax.set_xlabel('value')\n",
    "ax.set_ylabel('Probability')\n",
    "# The is Latex, a typsetting \"program\".\n",
    "ax.set_title(r'$\\mathrm{Histogram\\ of\\ IQ:}\\ \\mu=100,\\ \\sigma=15$')\n",
    "# Pay attention to how the x and y axis limits are set.\n",
    "\n",
    "#ax.grid(True)\n",
    "\n",
    "plt.show()"
   ]
  },
  {
   "cell_type": "markdown",
   "metadata": {},
   "source": [
    "## Integration"
   ]
  },
  {
   "cell_type": "code",
   "execution_count": 96,
   "metadata": {
    "collapsed": false
   },
   "outputs": [],
   "source": [
    "x,y = np.random.rand(1000), np.random.rand(1000)\n"
   ]
  },
  {
   "cell_type": "markdown",
   "metadata": {},
   "source": [
    "## Find the value of pi with MC"
   ]
  },
  {
   "cell_type": "code",
   "execution_count": 108,
   "metadata": {
    "collapsed": false
   },
   "outputs": [
    {
     "data": {
      "image/png": "[encoded data removed]",
      "text/plain": [
       "<matplotlib.figure.Figure at 0x123964590>"
      ]
     },
     "metadata": {},
     "output_type": "display_data"
    },
    {
     "name": "stdout",
     "output_type": "stream",
     "text": [
      "0.763\n"
     ]
    }
   ],
   "source": [
    "%matplotlib inline\n",
    "import numpy as np\n",
    "fx = x**2 + y**2\n",
    "x,y = np.random.rand(1000), np.random.rand(1000)\n",
    "\n",
    "import matplotlib.pyplot as plt\n",
    "fig = plt.figure()\n",
    "ax = fig.add_subplot(111)\n",
    "ax.scatter(x,y,5,'red',alpha = 0.5)\n",
    "\n",
    "plt.show()\n",
    "\n",
    "counter = 0\n",
    "\n",
    "ind = (((x-.5)**2) + ((y-.5)**2)) < .25\n",
    "largeX = x[ind]\n",
    "\n",
    "print float(len(largeX))/(len(x))*"
   ]
  },
  {
   "cell_type": "markdown",
   "metadata": {
    "collapsed": false
   },
   "source": [
    "## End of wk8-2"
   ]
  }
 ],
 "metadata": {
  "kernelspec": {
   "display_name": "Python 2",
   "language": "python",
   "name": "python2"
  },
  "language_info": {
   "codemirror_mode": {
    "name": "ipython",
    "version": 2
   },
   "file_extension": ".py",
   "mimetype": "text/x-python",
   "name": "python",
   "nbconvert_exporter": "python",
   "pygments_lexer": "ipython2",
   "version": "2.7.9"
  }
 },
 "nbformat": 4,
 "nbformat_minor": 0
}
