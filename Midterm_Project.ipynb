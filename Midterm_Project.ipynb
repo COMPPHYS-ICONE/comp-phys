{
 "cells": [
  {
   "cell_type": "code",
   "execution_count": 102,
   "metadata": {
    "collapsed": false
   },
   "outputs": [
    {
     "name": "stdout",
     "output_type": "stream",
     "text": [
      "33.0889711853\n",
      "Male\n"
     ]
    }
   ],
   "source": [
    "import numpy as np\n",
    "import random as rnd\n",
    "\n",
    "\n",
    "def gender():\n",
    "    if rnd.randint(0,2) == 0:\n",
    "        return 'Male'\n",
    "    else:\n",
    "        return 'Female'\n",
    "\n",
    "\n",
    "class Dolphins:\n",
    "    def __init__(self, name, mother, father, sex = gender()):\n",
    "        self.name = name\n",
    "        self.sex = sex\n",
    "        self.age = 0\n",
    "        self.mother = mother\n",
    "        self.father = father\n",
    "        self.death = rnd.gauss(mu = 35, sigma = 5)\n",
    "        self.active = 0\n",
    "    def aging(self):\n",
    "        self.age +=1\n",
    "    def got_laid(self):\n",
    "        if self.active == 0:\n",
    "            self.active = 1\n",
    "        else:\n",
    "            self.active = 0\n",
    "    def eligibiliy(self, partner):\n",
    "        if (self.age >= 8 and self.active == 0\\\n",
    "        and partner.age >=8 and partner.active == 0\\\n",
    "        and abs(self.age-partner.age) < 10\\\n",
    "        and (self.mother != partner.mother or self.father != partner.father)):\n",
    "            return True\n",
    "        \n",
    "        \n",
    "living_dolphins = []\n",
    "dead_dolphins = []\n",
    "\n",
    "        \n",
    "for i in ['Ted', 'Bobby']:\n",
    "    living_dolphins.append(Dolphins(i,0,0,'Male'))\n",
    "for i in ['Terry', 'Alisha']:\n",
    "    living_dolphins.append(Dolphins(i,0,0,'Female'))\n",
    "        \n",
    "        \n",
    "print rnd.gauss(mu = 35, sigma = 5)\n",
    "print gender()"
   ]
  }
 ],
 "metadata": {
  "kernelspec": {
   "display_name": "Python 2",
   "language": "python",
   "name": "python2"
  },
  "language_info": {
   "codemirror_mode": {
    "name": "ipython",
    "version": 2
   },
   "file_extension": ".py",
   "mimetype": "text/x-python",
   "name": "python",
   "nbconvert_exporter": "python",
   "pygments_lexer": "ipython2",
   "version": "2.7.9"
  }
 },
 "nbformat": 4,
 "nbformat_minor": 0
}
