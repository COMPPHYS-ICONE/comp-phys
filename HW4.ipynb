{
 "cells": [
  {
   "cell_type": "code",
   "execution_count": 4,
   "metadata": {
    "collapsed": false
   },
   "outputs": [
    {
     "name": "stdout",
     "output_type": "stream",
     "text": [
      "Flight \t  \t Destination \t  \t Gate \t  \t Time\n",
      "---------------------------------------------------------------\n",
      "Aeroflot 34 \t Moscow  \t  \t 5 \t  \t 9\n",
      "American 1 \t New York City  \t  \t 12 \t  \t 11.3\n",
      "Southwest 23 \t Santa Barbara  \t  \t 6 \t  \t 12.5\n",
      "Southwest 59 \t Los Angeles  \t  \t 11 \t  \t 14.5\n",
      "Southwest 145 \t Washington, D.C.  \t  \t 1 \t  \t 6\n",
      "Southwest 146 \t Chicago-Midway  \t  \t 1 \t  \t 9.6\n",
      "SpamAir 1 \t Austin, Minnesota  \t  \t 42 \t  \t 14.4\n",
      "USAirways 8 \t Miami  \t  \t 20 \t  \t 13.1\n",
      "United 2 \t Los Angeles  \t  \t 10 \t  \t 12.5\n",
      "United 31 \t Dulles  \t  \t 1 \t  \t 7.1\n",
      "United 46 \t Los Angeles  \t  \t 5 \t  \t 6.5\n",
      "United 302 \t London-Heathrow  \t  \t 5 \t  \t 6.5\n",
      "United 2032 \t Miami  \t  \t 21 \t  \t 15.1\n"
     ]
    }
   ],
   "source": [
    "airports = {\"DCA\": \"Washington, D.C.\", \"IAD\": \"Dulles\", \\\n",
    "            \"LHR\": \"London-Heathrow\", \"SVO\": \"Moscow\", \\\n",
    "            \"CDA\": \"Chicago-Midway\", \"SBA\": \"Santa Barbara\", \\\n",
    "            \"LAX\": \"Los Angeles\",\"JFK\": \"New York City\", \\\n",
    "            \"MIA\": \"Miami\", \"AUM\": \"Austin, Minnesota\"}\n",
    "\n",
    "# airline, number, heading to, gate, time (decimal hours)\n",
    "flights = [(\"Southwest\",145,\"DCA\",1,6.00),\\\n",
    "           (\"United\",31,\"IAD\",1,7.1),(\"United\",302,\"LHR\",5,6.5),\\\n",
    "           (\"Aeroflot\",34,\"SVO\",5,9.00),(\"Southwest\",146,\"CDA\",1,9.60),\\\n",
    "           (\"United\",46,\"LAX\",5,6.5), (\"Southwest\",23,\"SBA\",6,12.5),\\\n",
    "           (\"United\",2,\"LAX\",10,12.5),(\"Southwest\",59,\"LAX\",11,14.5),\\\n",
    "           (\"American\", 1,\"JFK\",12,11.3),(\"USAirways\", 8,\"MIA\",20,13.1),\\\n",
    "           (\"United\",2032,\"MIA\",21,15.1),(\"SpamAir\",1,\"AUM\",42,14.4)]\n",
    "\n",
    "def schedule(airport_dict,flight_list):\n",
    "    print 'Flight \\t  \\t Destination \\t  \\t Gate \\t  \\t Time'\n",
    "    print '---------------------------------------------------------------'\n",
    "    for i in range(0,len(flights)):\n",
    "        print '{:s} {:g} \\t {:s}  \\t  \\t {:g} \\t  \\t {:g}'.format(sorted(flights)[i][0],\\\n",
    "                                                             sorted(flights)[i][1],\\\n",
    "                                                             airports[sorted(flights)[i][2]],\\\n",
    "                                                             sorted(flights)[i][3],\\\n",
    "                                                             sorted(flights)[i][4])\n",
    "    \n",
    "    \n",
    "schedule(airports,flights)\n",
    "    "
   ]
  },
  {
   "cell_type": "code",
   "execution_count": 19,
   "metadata": {
    "collapsed": false
   },
   "outputs": [
    {
     "name": "stdout",
     "output_type": "stream",
     "text": [
      "A whale named Splash 0:00:00\n",
      "0:00:00\n"
     ]
    },
    {
     "data": {
      "text/plain": [
       "'\\x07 \\x07 \\x07 \\x07 \\x07'"
      ]
     },
     "execution_count": 19,
     "metadata": {},
     "output_type": "execute_result"
    }
   ],
   "source": [
    "import datetime\n",
    "\n",
    "\n",
    "class Whale:\n",
    "    def __init__(self, name, sex):\n",
    "        print 'A {:s} whale named {:s} is born'.format(sex, name)\n",
    "        self.name = name\n",
    "        self.sex = sex\n",
    "        self.age = datetime.timedelta()\n",
    "    def sing(self):\n",
    "        return '\\a \\a \\a \\a \\a'\n",
    "    def __str__(self):\n",
    "        return 'A whale named {:s} {:s}'.format(self.name, self.age)\n",
    "    \n",
    "\n",
    "#w = Whale('Splash', 'M')\n",
    "\n",
    "print w\n",
    "#print w.name\n",
    "\n",
    "print w.age\n",
    "w.sing()\n"
   ]
  }
 ],
 "metadata": {
  "kernelspec": {
   "display_name": "Python 2",
   "language": "python",
   "name": "python2"
  },
  "language_info": {
   "codemirror_mode": {
    "name": "ipython",
    "version": 2
   },
   "file_extension": ".py",
   "mimetype": "text/x-python",
   "name": "python",
   "nbconvert_exporter": "python",
   "pygments_lexer": "ipython2",
   "version": "2.7.9"
  }
 },
 "nbformat": 4,
 "nbformat_minor": 0
}
