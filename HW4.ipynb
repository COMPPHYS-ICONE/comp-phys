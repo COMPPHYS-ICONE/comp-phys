{
 "cells": [
  {
   "cell_type": "code",
   "execution_count": 91,
   "metadata": {
    "collapsed": false
   },
   "outputs": [
    {
     "name": "stdout",
     "output_type": "stream",
     "text": [
      "Flight \t  \t Destination \t      Gate \t  \t Time\n",
      "---------------------------------------------------------------\n",
      "Aeroflot 34 \t Moscow               5 \t  \t 9\n",
      "American 1 \t New York City        12 \t  \t 11.3\n",
      "Southwest 23 \t Santa Barbara        6 \t  \t 12.5\n",
      "Southwest 59 \t Los Angeles          11 \t  \t 14.5\n",
      "Southwest 145 \t Washington, D.C.     1 \t  \t 6\n",
      "Southwest 146 \t Chicago-Midway       1 \t  \t 9.6\n",
      "SpamAir 1 \t Austin, Minnesota    42 \t  \t 14.4\n",
      "USAirways 8 \t Miami                20 \t  \t 13.1\n",
      "United 2 \t Los Angeles          10 \t  \t 12.5\n",
      "United 31 \t Dulles               1 \t  \t 7.1\n",
      "United 46 \t Los Angeles          5 \t  \t 6.5\n",
      "United 302 \t London-Heathrow      5 \t  \t 6.5\n",
      "United 2032 \t Miami                21 \t  \t 15.1\n",
      "\n",
      "Flight \t  \t Destination \t      Gate \t  \t Time\n",
      "---------------------------------------------------------------\n",
      "Southwest 145 \t Washington, D.C.     1 \t  \t 6\n",
      "United 302 \t London-Heathrow      5 \t  \t 6.5\n",
      "United 46 \t Los Angeles          5 \t  \t 6.5\n",
      "United 31 \t Dulles               1 \t  \t 7.1\n",
      "Aeroflot 34 \t Moscow               5 \t  \t 9\n",
      "Southwest 146 \t Chicago-Midway       1 \t  \t 9.6\n",
      "American 1 \t New York City        12 \t  \t 11.3\n",
      "Southwest 23 \t Santa Barbara        6 \t  \t 12.5\n",
      "United 2 \t Los Angeles          10 \t  \t 12.5\n",
      "USAirways 8 \t Miami                20 \t  \t 13.1\n",
      "SpamAir 1 \t Austin, Minnesota    42 \t  \t 14.4\n",
      "Southwest 59 \t Los Angeles          11 \t  \t 14.5\n",
      "United 2032 \t Miami                21 \t  \t 15.1\n"
     ]
    }
   ],
   "source": [
    "airports = {\"DCA\": \"Washington, D.C.\", \"IAD\": \"Dulles\", \\\n",
    "            \"LHR\": \"London-Heathrow\", \"SVO\": \"Moscow\", \\\n",
    "            \"CDA\": \"Chicago-Midway\", \"SBA\": \"Santa Barbara\", \\\n",
    "            \"LAX\": \"Los Angeles\",\"JFK\": \"New York City\", \\\n",
    "            \"MIA\": \"Miami\", \"AUM\": \"Austin, Minnesota\"}\n",
    "\n",
    "# airline, number, heading to, gate, time (decimal hours)\n",
    "flights = [(\"Southwest\",145,\"DCA\",1,6.00),\\\n",
    "           (\"United\",31,\"IAD\",1,7.1),(\"United\",302,\"LHR\",5,6.5),\\\n",
    "           (\"Aeroflot\",34,\"SVO\",5,9.00),(\"Southwest\",146,\"CDA\",1,9.60),\\\n",
    "           (\"United\",46,\"LAX\",5,6.5), (\"Southwest\",23,\"SBA\",6,12.5),\\\n",
    "           (\"United\",2,\"LAX\",10,12.5),(\"Southwest\",59,\"LAX\",11,14.5),\\\n",
    "           (\"American\", 1,\"JFK\",12,11.3),(\"USAirways\", 8,\"MIA\",20,13.1),\\\n",
    "           (\"United\",2032,\"MIA\",21,15.1),(\"SpamAir\",1,\"AUM\",42,14.4)]\n",
    "\n",
    "def getkey(item):\n",
    "    return item[4]\n",
    "\n",
    "def schedule(airport_dict,flight_list):\n",
    "    print 'Flight \\t  \\t Destination \\t      Gate \\t  \\t Time'\n",
    "    print '---------------------------------------------------------------'\n",
    "    for i in range(0,len(flights)):\n",
    "        print '{:s} {:g} \\t {:20s} {:g} \\t  \\t {:g}'.format(sorted(flights)[i][0],\\\n",
    "                                                             sorted(flights)[i][1],\\\n",
    "                                                             airports[sorted(flights)[i][2]],\\\n",
    "                                                             sorted(flights)[i][3],\\\n",
    "                                                             sorted(flights)[i][4])\n",
    "    \n",
    "    \n",
    "\n",
    "def time(airport_dict,flight_list):\n",
    "    print 'Flight \\t  \\t Destination \\t      Gate \\t  \\t Time'\n",
    "    print '---------------------------------------------------------------'\n",
    "    for i in range(0,len(flights)):\n",
    "        print '{:s} {:g} \\t {:20s} {:g} \\t  \\t {:g}'.format(sorted(flights, key = getkey)[i][0],\\\n",
    "                                                             sorted(flights, key = getkey)[i][1],\\\n",
    "                                                             airports[sorted(flights, key = getkey)[i][2]],\\\n",
    "                                                             sorted(flights, key = getkey)[i][3],\\\n",
    "                                                             sorted(flights, key = getkey)[i][4])\n",
    "        \n",
    "schedule(airports,flights)\n",
    "print \n",
    "time(airports,flights)\n",
    "    "
   ]
  },
  {
   "cell_type": "code",
   "execution_count": 188,
   "metadata": {
    "collapsed": false,
    "scrolled": true
   },
   "outputs": [
    {
     "name": "stdout",
     "output_type": "stream",
     "text": [
      "A Female whale named Homer is born\n",
      "A Male whale named Bart is born\n",
      "A Female whale named Lisa is born\n",
      "A Male whale named Marge is born\n",
      "A Male whale named Maggie is born\n",
      "A Male whale named Santa's Little Helper is born\n",
      "A Female whale named Snowball is born\n",
      "A Female whale named Otto is born\n",
      "A Male whale named Moe is born\n",
      "A Female whale named Ned Flanders is born\n",
      "A Male whale named Maud Flanders is born\n",
      "A Male whale named Barney is born\n",
      "A Male whale named Krusty is born\n",
      "A Male whale named Sideshow Bob is born\n",
      "A Female whale named Groundskeeper Willie is born\n",
      "A Female whale named Principal Skinner is born\n",
      "A Male whale named Chief Wiggum is born\n",
      "A Female whale named Ralph is born\n",
      "A Male whale named Montgomerey Burns is born\n",
      "A Male whale named Waylon Smithers is born\n",
      "0:00:00.000556\n"
     ]
    }
   ],
   "source": [
    "import datetime\n",
    "import time\n",
    "import random\n",
    "\n",
    "\n",
    "def sex():\n",
    "    if random.randrange(2) == 0:\n",
    "        return 'Male'\n",
    "    else:\n",
    "        return 'Female'\n",
    "    \n",
    "    \n",
    "\n",
    "\n",
    "class Whale:\n",
    "    def __init__(self, name, sex):\n",
    "        print 'A {:s} whale named {:s} is born'.format(sex, name)\n",
    "        self.born = datetime.datetime.now()\n",
    "        self.name = name\n",
    "        self.sex = sex\n",
    "        self.age = whale_age\n",
    "        \n",
    "    def sing(self):\n",
    "        return '\\a \\a \\a \\a \\a'\n",
    "    \n",
    "    def whale_age(self):\n",
    "        return datetime.datetime.now() - self.born\n",
    "    \n",
    "    def __str__(self):\n",
    "        return 'A whale named {:s} {:s}'.format(self.name, self.age)\n",
    "    \n",
    "\n",
    "whale_names = ['Homer', 'Bart', 'Lisa', 'Marge', 'Maggie', \"Santa's Little Helper\",\\\n",
    "               'Snowball', 'Otto', 'Moe', 'Ned Flanders', 'Maud Flanders', 'Barney', 'Krusty', 'Sideshow Bob',\\\n",
    "              'Groundskeeper Willie', 'Principal Skinner', 'Chief Wiggum', 'Ralph', 'Montgomerey Burns',\\\n",
    "              'Waylon Smithers']\n",
    "\n",
    "\n",
    "whale = []\n",
    "    \n",
    "\n",
    "    \n",
    "for i in whale_names:\n",
    "    whale.append(Whale(i,sex()))\n",
    "\n",
    "#print w\n",
    "print whale[0].whale_age()\n",
    "\n",
    "#print w.age\n",
    "#w.sing()\n"
   ]
  },
  {
   "cell_type": "code",
   "execution_count": 187,
   "metadata": {
    "collapsed": false
   },
   "outputs": [
    {
     "name": "stdout",
     "output_type": "stream",
     "text": [
      "0:00:14.515034\n"
     ]
    }
   ],
   "source": [
    "print whale[0].whale_age()"
   ]
  },
  {
   "cell_type": "code",
   "execution_count": null,
   "metadata": {
    "collapsed": true
   },
   "outputs": [],
   "source": []
  },
  {
   "cell_type": "code",
   "execution_count": null,
   "metadata": {
    "collapsed": true
   },
   "outputs": [],
   "source": []
  }
 ],
 "metadata": {
  "kernelspec": {
   "display_name": "Python 2",
   "language": "python",
   "name": "python2"
  },
  "language_info": {
   "codemirror_mode": {
    "name": "ipython",
    "version": 2
   },
   "file_extension": ".py",
   "mimetype": "text/x-python",
   "name": "python",
   "nbconvert_exporter": "python",
   "pygments_lexer": "ipython2",
   "version": "2.7.9"
  }
 },
 "nbformat": 4,
 "nbformat_minor": 0
}
