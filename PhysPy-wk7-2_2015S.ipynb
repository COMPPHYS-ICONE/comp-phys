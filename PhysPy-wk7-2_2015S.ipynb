{
 "cells": [
  {
   "cell_type": "markdown",
   "metadata": {},
   "source": [
    "# Topics\n",
    "## 1. A Deeper Understanding of Objects in Python\n",
    "## 2. Relaxation Method\n"
   ]
  },
  {
   "cell_type": "markdown",
   "metadata": {},
   "source": [
    "## Everything in Python is an Object...for example:"
   ]
  },
  {
   "cell_type": "code",
   "execution_count": 5,
   "metadata": {
    "collapsed": false
   },
   "outputs": [
    {
     "name": "stdout",
     "output_type": "stream",
     "text": [
      "2 -3\n",
      "['__abs__', '__add__', '__and__', '__class__', '__cmp__', '__coerce__', '__delattr__', '__div__', '__divmod__', '__doc__', '__float__', '__floordiv__', '__format__', '__getattribute__', '__getnewargs__', '__hash__', '__hex__', '__index__', '__init__', '__int__', '__invert__', '__long__', '__lshift__', '__mod__', '__mul__', '__neg__', '__new__', '__nonzero__', '__oct__', '__or__', '__pos__', '__pow__', '__radd__', '__rand__', '__rdiv__', '__rdivmod__', '__reduce__', '__reduce_ex__', '__repr__', '__rfloordiv__', '__rlshift__', '__rmod__', '__rmul__', '__ror__', '__rpow__', '__rrshift__', '__rshift__', '__rsub__', '__rtruediv__', '__rxor__', '__setattr__', '__sizeof__', '__str__', '__sub__', '__subclasshook__', '__truediv__', '__trunc__', '__xor__', 'bit_length', 'conjugate', 'denominator', 'imag', 'numerator', 'real']\n"
     ]
    }
   ],
   "source": [
    "''' \n",
    "a = 2 in python has a very different meaning\n",
    "from int a = 2 in c.\n",
    "'''\n",
    "a = 2\n",
    "b = int(-3)\n",
    "print a, b\n",
    "# __...__ : double underscore, or \"dunder\"\n",
    "print dir(a)"
   ]
  },
  {
   "cell_type": "code",
   "execution_count": 6,
   "metadata": {
    "collapsed": false
   },
   "outputs": [
    {
     "name": "stdout",
     "output_type": "stream",
     "text": [
      "2 3\n"
     ]
    }
   ],
   "source": [
    "print a.__abs__(), b.__abs__()"
   ]
  },
  {
   "cell_type": "code",
   "execution_count": 7,
   "metadata": {
    "collapsed": false
   },
   "outputs": [
    {
     "name": "stdout",
     "output_type": "stream",
     "text": [
      "0\n"
     ]
    }
   ],
   "source": [
    "# The default value at instantiation is 0\n",
    "c = int()\n",
    "print c"
   ]
  },
  {
   "cell_type": "code",
   "execution_count": 8,
   "metadata": {
    "collapsed": true
   },
   "outputs": [],
   "source": [
    "# Is it legal? If so, what does this mean? If not, why not? \n",
    "gint = int"
   ]
  },
  {
   "cell_type": "code",
   "execution_count": 9,
   "metadata": {
    "collapsed": false
   },
   "outputs": [
    {
     "name": "stdout",
     "output_type": "stream",
     "text": [
      "4 <type 'int'>\n"
     ]
    }
   ],
   "source": [
    "d = gint(4)\n",
    "print d, type(d)"
   ]
  },
  {
   "cell_type": "code",
   "execution_count": 10,
   "metadata": {
    "collapsed": false
   },
   "outputs": [
    {
     "name": "stdout",
     "output_type": "stream",
     "text": [
      "5 <class '__main__.hint'>\n",
      "True True\n"
     ]
    }
   ],
   "source": [
    "class hint(int):\n",
    "    pass\n",
    "\n",
    "e = hint(5)\n",
    "print e, type(e)\n",
    "print isinstance(e, hint), isinstance(e, int)"
   ]
  },
  {
   "cell_type": "code",
   "execution_count": 11,
   "metadata": {
    "collapsed": false
   },
   "outputs": [
    {
     "name": "stdout",
     "output_type": "stream",
     "text": [
      "5\n"
     ]
    }
   ],
   "source": [
    "# Is this ok?\n",
    "print (-5).__abs__()"
   ]
  },
  {
   "cell_type": "markdown",
   "metadata": {},
   "source": [
    "## Relaxation Methods: The Jacobi Method\n",
    "### Solving a linear set of equations"
   ]
  },
  {
   "cell_type": "code",
   "execution_count": 51,
   "metadata": {
    "collapsed": false
   },
   "outputs": [
    {
     "name": "stdout",
     "output_type": "stream",
     "text": [
      "The diagonal elements:\n",
      "[ 10.  11.  10.   8.]\n",
      "The diagonal matrix:\n",
      "[[ 10.   0.   0.   0.]\n",
      " [  0.  11.   0.   0.]\n",
      " [  0.   0.  10.   0.]\n",
      " [  0.   0.   0.   8.]]\n",
      "The remainder matrix:\n",
      "[[ 0. -1.  2.  0.]\n",
      " [-1.  0. -1.  3.]\n",
      " [ 2. -1.  0. -1.]\n",
      " [ 0.  3. -1.  0.]]\n",
      "System of Linear Equations:\n",
      "10.0*x1 + -1.0*x2 + 2.0*x3 + 0.0*x4=6.0\n",
      "-1.0*x1 + 11.0*x2 + -1.0*x3 + 3.0*x4=25.0\n",
      "2.0*x1 + -1.0*x2 + 10.0*x3 + -1.0*x4=-11.0\n",
      "0.0*x1 + 3.0*x2 + -1.0*x3 + 8.0*x4=15.0\n",
      "\n",
      "\n",
      "\n",
      "Starting Jacobi method iterations...\n",
      "Iteration 0:[ 0.11434137  0.91784846  0.33025659  0.24472061]\n",
      "Iteration 1:[ 0.62573353  2.24640328 -1.00661137  1.5720889 ]\n",
      "Iteration 2:[ 1.0259626   1.8093505  -0.84329749  0.90677235]\n",
      "Iteration 3:[ 0.94959455  2.04203164 -1.03358024  1.09108138]\n",
      "Iteration 4:[ 1.01091921  1.96752456 -0.97660761  0.9800406 ]\n",
      "Iteration 5:[ 0.99207398  2.00856271 -1.00742733  1.01510234]\n",
      "Iteration 6:[ 1.00234174  1.99448542 -0.99604829  0.99586057]\n",
      "Iteration 7:[ 0.9986582   2.00170107 -1.00143375  1.00256193]\n",
      "Iteration 8:[ 1.00045686  1.99904897 -0.99930534  0.99918288]\n",
      "Iteration 9:[ 0.99976596  2.00032753 -1.00026819  1.00044347]\n",
      "Iteration 10:[ 1.00008639  1.9998334  -0.99987609  0.99984365]\n",
      "Iteration 11:[ 0.99995856  2.00006176 -1.00004957  1.00007796]\n",
      "Iteration 12:[ 1.00001609  1.99997046 -0.99997774  0.99997064]\n",
      "Tolerance achieved.  Printing results...\n",
      "\n",
      "\n",
      "\n",
      "Solution: [ 1.00001609  1.99997046 -0.99997774  0.99997064]\n",
      "Estimated Error: [  3.91605508e-05  -1.80530987e-05  -2.85164065e-05  -2.30480407e-05]\n"
     ]
    }
   ],
   "source": [
    "import numpy as np\n",
    "\n",
    "max_iter = 100\n",
    "\n",
    "# initialize the matrix\n",
    "A = np.array([[10., -1., 2., 0.],\n",
    "              [-1., 11., -1., 3.],\n",
    "              [2., -1., 10., -1.],\n",
    "              [0.0, 3., -1., 8.]])\n",
    "\n",
    "D = np.diag(A)\n",
    "print \"The diagonal elements:\\n\", D\n",
    "print \"The diagonal matrix:\\n\", np.diagflat(D)\n",
    "R = A - np.diagflat(D)\n",
    "print \"The remainder matrix:\\n\", R\n",
    "\n",
    "# initialize the RHS vector\n",
    "b = np.array([6., 25., -11., 15.])\n",
    "\n",
    "\n",
    "# prints the linear system\n",
    "print(\"System of Linear Equations:\")\n",
    "for i in range(A.shape[0]):\n",
    "    row = [\"{}*x{}\".format(A[i, j], j + 1) for j in range(A.shape[1])]\n",
    "    print \" + \".join(row) + \"=\" + str(b[i])\n",
    "print '\\n\\n'\n",
    "\n",
    "# Initial Guess: Usually you would want an \"educated\" guess, \n",
    "# typcially x_guess = D^(-1)b. \n",
    "# But because the method is so robust, it hardly matters...\n",
    "# We will try all 0's and a set of random numbers.\n",
    "#x = np.zeros(b.shape)\n",
    "x = np.random.rand(b.shape[0])\n",
    "# specify tolerance\n",
    "tol = 1e-4\n",
    "\n",
    "counter = 0\n",
    "print 'Starting Jacobi method iterations...'\n",
    "while counter < max_iter:\n",
    "    print \"Iteration {:d}:{}\".format(counter, x)\n",
    "    # Just to create a numpy array that has the same dimension as x.\n",
    "    x_new = np.empty(x.shape)\n",
    "\n",
    "    for i in range(A.shape[0]):\n",
    "        # np.dot computes dot product\n",
    "        \n",
    "        s = np.dot(R[i,], x)\n",
    "        x_new[i] = (b[i] - s) / A[i, i]\n",
    "            \n",
    "    counter += 1      \n",
    "    # Returns True if two arrays are element-wise equal within a tolerance.\n",
    "    if np.allclose(x, x_new, rtol=tol):\n",
    "        print 'Tolerance achieved.  Printing results...'\n",
    "        break      \n",
    "    else:\n",
    "        if counter == max_iter:\n",
    "            raise Exception('max_iter exceeded!')\n",
    "\n",
    "    x = x_new\n",
    "\n",
    "print '\\n\\n'\n",
    "print \"Solution:\", x \n",
    "print \"Estimated Error:\", (np.dot(A, x) - b)/b "
   ]
  },
  {
   "cell_type": "code",
   "execution_count": 52,
   "metadata": {
    "collapsed": false
   },
   "outputs": [
    {
     "name": "stdout",
     "output_type": "stream",
     "text": [
      "[[ 0.  0.  0.]\n",
      " [ 0.  0.  0.]\n",
      " [ 0.  0.  0.]\n",
      " [ 0.  0.  0.]\n",
      " [ 0.  0.  0.]]\n",
      "(5, 3)\n",
      "[[ 0.  0.  0.]\n",
      " [ 0.  0.  0.]\n",
      " [ 0.  0.  0.]\n",
      " [ 0.  0.  0.]\n",
      " [ 0.  0.  0.]]\n"
     ]
    }
   ],
   "source": [
    "import numpy as np\n",
    "\n",
    "z = np.empty((5,3))\n",
    "\n",
    "print z\n",
    "print z.shape\n",
    "\n",
    "\n",
    "w = np.zeros(z.shape)\n",
    "\n",
    "print w"
   ]
  },
  {
   "cell_type": "markdown",
   "metadata": {},
   "source": [
    "## Relaxation Methods: The Laplace Equation\n"
   ]
  },
  {
   "cell_type": "markdown",
   "metadata": {},
   "source": [
    "More at http://en.wikipedia.org/wiki/Relaxation_(iterative_method)"
   ]
  },
  {
   "cell_type": "markdown",
   "metadata": {},
   "source": [
    "## The Physics:\n",
    "### This corresponds to the electric potential of a parallel plate capacitor \n",
    "### (length, width >> thickness)"
   ]
  },
  {
   "cell_type": "code",
   "execution_count": 2,
   "metadata": {
    "collapsed": false
   },
   "outputs": [
    {
     "name": "stdout",
     "output_type": "stream",
     "text": [
      "[ 0.          0.09998692  0.19997634  0.29996902  0.39996537  0.49996537\n",
      "  0.59996867  0.69997466  0.79998249  0.89999124  1.        ]\n"
     ]
    },
    {
     "data": {
      "image/png": "[encoded data removed]",
      "text/plain": [
       "<matplotlib.figure.Figure at 0x103ebee10>"
      ]
     },
     "metadata": {},
     "output_type": "display_data"
    }
   ],
   "source": [
    "%matplotlib inline\n",
    "import sys\n",
    "import numpy as np\n",
    "import matplotlib.pyplot as plt\n",
    "\n",
    "NX = 11\n",
    "\n",
    "#initialization\n",
    "V = np.zeros(NX)\n",
    "\n",
    "#Boundary Conditions:\n",
    "V[NX-1] = 1.\n",
    "V[0] = 0\n",
    "maxdiff = 1e-6\n",
    "diff = 1\n",
    "x = np.arange(NX)\n",
    "\n",
    "while diff > maxdiff:\n",
    "    for i in range(1, NX-1):    # start from 1 and end at NX-1: because you don't want to change the BC!!!!  \n",
    "        newV = (V[i-1]+V[i+1])/2\n",
    "        diff = abs(newV - V[i])\n",
    "        V[i] = newV\n",
    "   \n",
    "            \n",
    "print V\n",
    "plt.plot(x, V)\n",
    "plt.show()\n",
    "          "
   ]
  },
  {
   "cell_type": "code",
   "execution_count": 54,
   "metadata": {
    "collapsed": false
   },
   "outputs": [
    {
     "name": "stdout",
     "output_type": "stream",
     "text": [
      "[ 0.          0.10001357  0.20002455  0.30003214  0.40003593  0.50003593\n",
      "  0.6000325   0.70002629  0.80001817  0.90000908  1.        ]\n"
     ]
    },
    {
     "data": {
      "image/png": "[encoded data removed]",
      "text/plain": [
       "<matplotlib.figure.Figure at 0x10c18fb10>"
      ]
     },
     "metadata": {},
     "output_type": "display_data"
    }
   ],
   "source": [
    "%matplotlib inline\n",
    "# I can use random numbers to initialize the interior points.\n",
    "\n",
    "import numpy as np\n",
    "from numpy.random import rand\n",
    "import matplotlib.pyplot as plt\n",
    "\n",
    "NX = 11\n",
    "\n",
    "#initialization\n",
    "V = rand(NX)    #yes I can initialize with random numbers!\n",
    "\n",
    "\n",
    "#V = rand(NX)*1e12    # or even crazily large random numbers!\n",
    "\n",
    "#print V\n",
    "\n",
    "#Boundary Conditions:\n",
    "V[NX-1] = 1.\n",
    "V[0] = 0\n",
    "maxdiff = 1e-6\n",
    "diff = 1\n",
    "x = np.arange(NX)\n",
    "\n",
    "while diff > maxdiff:\n",
    "    for i in range(1, NX-1):    # start from 1 and end at NX-1: because you don't want to change the BC!!!!  \n",
    "        newV = (V[i-1]+V[i+1])/2\n",
    "        diff = abs(newV - V[i])\n",
    "        V[i] = newV\n",
    " \n",
    "  \n",
    "            \n",
    "print V\n",
    "plt.plot(x, V)\n",
    "plt.show()\n",
    "\n",
    "# A very robust method!\n",
    "        "
   ]
  },
  {
   "cell_type": "markdown",
   "metadata": {},
   "source": [
    "## Breakout Problem:\n",
    "### For a long rectangular tube (say 10 by 10), the potential on two opposite sides = 1 volt, and the potential on the other two sides = 0.  \n",
    "### Write a program to find V(x, y) in the interior of the tube. \n",
    "### Then plot the result as a surface plot."
   ]
  },
  {
   "cell_type": "markdown",
   "metadata": {},
   "source": [
    "## We will see the connection between PDE and linear algebra next week."
   ]
  },
  {
   "cell_type": "markdown",
   "metadata": {},
   "source": [
    "## End of week 7-2"
   ]
  }
 ],
 "metadata": {
  "kernelspec": {
   "display_name": "Python 2",
   "language": "python",
   "name": "python2"
  },
  "language_info": {
   "codemirror_mode": {
    "name": "ipython",
    "version": 2
   },
   "file_extension": ".py",
   "mimetype": "text/x-python",
   "name": "python",
   "nbconvert_exporter": "python",
   "pygments_lexer": "ipython2",
   "version": "2.7.9"
  }
 },
 "nbformat": 4,
 "nbformat_minor": 0
}
