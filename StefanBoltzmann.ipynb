{
 "cells": [
  {
   "cell_type": "code",
   "execution_count": 1,
   "metadata": {
    "collapsed": false
   },
   "outputs": [
    {
     "name": "stdout",
     "output_type": "stream",
     "text": [
      "running...\n",
      "\n",
      "\n",
      "number of steps:  100\n",
      "dy = 1.0000\n",
      "integral = 6.4949811\n",
      "frac_diff = N/A\n",
      "\n",
      "\n",
      "number of steps:  200\n",
      "dy = 0.5000\n",
      "integral = 6.4940045\n",
      "frac_diff = 0.0001504 %\n",
      "\n",
      "\n",
      "number of steps:  400\n",
      "dy = 0.2500\n",
      "integral = 6.4939435\n",
      "frac_diff = 0.0000094 %\n",
      "\n",
      "\n",
      "number of steps:  800\n",
      "dy = 0.1250\n",
      "integral = 6.4939397\n",
      "frac_diff = 0.0000006 %\n",
      "\n",
      "\n",
      "The integral evaluated to within specified accuracy: 6.4939397\n",
      "The upper limit of its fraction error is estimated to be: 0.0000006 %\n",
      "The correct answer is: 6.4939394\n",
      "The actual fractional error is: 0.0000000 %\n"
     ]
    }
   ],
   "source": [
    "from math import *\n",
    "import numpy\n",
    "dy = 1.\n",
    "steps = 100\n",
    "total = 0\n",
    "last_total = 0\n",
    "def h(y):\n",
    "    return (y**3)/((e**y)-1)\n",
    "frac_diff = 0\n",
    "correct_answer = (pi**4)/15\n",
    "\n",
    "def frac_diff():\n",
    "    if last_total == 0:\n",
    "        return 'N/A'\n",
    "    else:\n",
    "        return abs(total-last_total)/total\n",
    "\n",
    "# integral = dy*(h(y+(dy/2)) + h(y-(dy/2))/2 for trapezoidal approximation\n",
    "# integral = dy*(h(y+dy/2)) for rectaungular\n",
    "# integral = (dy/6)*(h(y) +h(y+dy) +4*(2y+dy/2)) for simpsons approximation\n",
    "\n",
    "if 1 == True:\n",
    "    print 'running...'\n",
    "    print '\\n'\n",
    "\n",
    "while frac_diff() > 10**-6 or frac_diff() == 'N/A':\n",
    "    last_total = total\n",
    "    total = 0\n",
    "    for y in numpy.linspace (0.0000000001, 100, steps+1):\n",
    "        #total += dy*(h(y+(dy/2)) + h(y-(dy/2)))/2\n",
    "        #total += dy*h((2*y + dy)/2)\n",
    "        #total += dy*(h(y) + h(y+dy))/2\n",
    "        total += (dy/6)*(h(y) +h(y+dy) +4*h((2*y+dy)/2))\n",
    "    print 'number of steps:', \"{:4.0f}\".format(steps)\n",
    "    print 'dy =', \"{:0.4f}\".format(dy)\n",
    "    print 'integral =', \"{:0.7f}\".format(total)\n",
    "    if frac_diff() == 'N/A':\n",
    "        print 'frac_diff =', frac_diff()\n",
    "    else:\n",
    "        print 'frac_diff =', \"{:0.7f}\".format(frac_diff()),\"%\"\n",
    "    steps *=2\n",
    "    dy /=2\n",
    "    print '\\n'\n",
    "    \n",
    "actual_difference = abs(correct_answer-total)/correct_answer\n",
    "\n",
    "print 'The integral evaluated to within specified accuracy:', \"{:0.7f}\".format(total)\n",
    "print 'The upper limit of its fraction error is estimated to be:', \"{:0.7f}\".format(frac_diff()),'%'\n",
    "print 'The correct answer is:', \"{:0.7f}\".format(correct_answer)\n",
    "print 'The actual fractional error is:', \"{:0.7f}\".format(actual_difference),'%'"
   ]
  },
  {
   "cell_type": "code",
   "execution_count": null,
   "metadata": {
    "collapsed": false
   },
   "outputs": [],
   "source": []
  }
 ],
 "metadata": {
  "kernelspec": {
   "display_name": "Python 2",
   "language": "python",
   "name": "python2"
  },
  "language_info": {
   "codemirror_mode": {
    "name": "ipython",
    "version": 2
   },
   "file_extension": ".py",
   "mimetype": "text/x-python",
   "name": "python",
   "nbconvert_exporter": "python",
   "pygments_lexer": "ipython2",
   "version": "2.7.9"
  }
 },
 "nbformat": 4,
 "nbformat_minor": 0
}
