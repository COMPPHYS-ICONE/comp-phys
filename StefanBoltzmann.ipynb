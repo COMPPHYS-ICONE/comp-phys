{
 "metadata": {
  "name": "",
  "signature": "sha256:784148e9e15e4d9bb3c9f70c50729995ab675b8b43cddd52083d22b145e9b94b"
 },
 "nbformat": 3,
 "nbformat_minor": 0,
 "worksheets": [
  {
   "cells": [
    {
     "cell_type": "code",
     "collapsed": false,
     "input": [
      "from math import *\n",
      "import numpy\n",
      "dy = 1.\n",
      "steps = 100\n",
      "total = 0\n",
      "last_total = 0\n",
      "def h(y):\n",
      "    return (y**3)/((e**y)-1)\n",
      "frac_diff = 0\n",
      "correct_answer = (pi**4)/15\n",
      "\n",
      "def frac_diff():\n",
      "    if last_total == 0:\n",
      "        return 'N/A'\n",
      "    else:\n",
      "        return abs(total-last_total)/total\n",
      "\n",
      "# integral = dy*(h(y+(dy/2)) + h(y-(dy/2))/2 for trapezoidal approximation\n",
      "# integral = dy*(h(y+dy/2)) for rectaungular\n",
      "# integral = (dy/6)*(h(y) +h(y+dy) +4*(2y+dy/2)) for simpsons approximation\n",
      "\n",
      "if 1 == True:\n",
      "    print 'running...'\n",
      "    print '\\n'\n",
      "\n",
      "while frac_diff() > 10**-6 or frac_diff() == 'N/A':\n",
      "    last_total = total\n",
      "    total = 0\n",
      "    for y in numpy.linspace (0.000000001, 100, steps+1):\n",
      "        #total += dy*(h(y+(dy/2)) + h(y-(dy/2)))/2\n",
      "        #total += dy*h((2*y + dy)/2)\n",
      "        #total += dy*(h(y) + h(y+dy))/2\n",
      "        total += (dy/6)*(h(y) +h(y+dy) +4*h((2*y+dy)/2))\n",
      "    print 'number of steps:', \"{:4.0f}\".format(steps)\n",
      "    print 'dy =', \"{:0.4f}\".format(dy)\n",
      "    print 'integral =', \"{:0.7f}\".format(total)\n",
      "    if frac_diff() == 'N/A':\n",
      "        print 'frac_diff =', frac_diff()\n",
      "    else:\n",
      "        print 'frac_diff =', \"{:0.7f}\".format(frac_diff()*100),\"%\"\n",
      "    steps *=2\n",
      "    dy /=2\n",
      "    print '\\n'\n",
      "    \n",
      "actual_difference = abs(correct_answer-total)/correct_answer\n",
      "\n",
      "print 'The integral evaluated to within specified accuracy:', \"{:0.7f}\".format(total)\n",
      "print 'The upper limit of its fraction error is estimated to be:', \"{:0.7f}\".format(frac_diff()*100),'%'\n",
      "print 'The correct answer is:', \"{:0.7f}\".format(correct_answer)\n",
      "print 'The actual fractional error is:', \"{:0.7f}\".format(actual_difference*100),'%'"
     ],
     "language": "python",
     "metadata": {},
     "outputs": [
      {
       "output_type": "stream",
       "stream": "stdout",
       "text": [
        "running...\n",
        "\n",
        "\n",
        "number of steps:  100\n",
        "dy = 1.0000\n",
        "integral = 6.4949811\n",
        "frac_diff = N/A\n",
        "\n",
        "\n",
        "number of steps:  200\n",
        "dy = 0.5000\n",
        "integral = 6.4940045\n",
        "frac_diff = 0.0150379 %\n",
        "\n",
        "\n",
        "number of steps:  400\n",
        "dy = 0.2500\n",
        "integral = 6.4939435\n",
        "frac_diff = 0.0009399 %\n",
        "\n",
        "\n",
        "number of steps:"
       ]
      },
      {
       "output_type": "stream",
       "stream": "stdout",
       "text": [
        "  800\n",
        "dy = 0.1250\n",
        "integral = 6.4939397\n",
        "frac_diff = 0.0000587 %\n",
        "\n",
        "\n",
        "The integral evaluated to within specified accuracy: 6.4939397\n",
        "The upper limit of its fraction error is estimated to be: 0.0000587 %\n",
        "The correct answer is: 6.4939394\n",
        "The actual fractional error is: 0.0000039 %\n"
       ]
      }
     ],
     "prompt_number": 1
    },
    {
     "cell_type": "code",
     "collapsed": false,
     "input": [],
     "language": "python",
     "metadata": {},
     "outputs": []
    }
   ],
   "metadata": {}
  }
 ]
}