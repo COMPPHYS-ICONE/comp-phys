{
 "cells": [
  {
   "cell_type": "raw",
   "metadata": {},
   "source": [
    "can save notebook as .py -->Download as -->Python(.py)\n",
    "\n",
    "Scientific computing: numpy, scipy, matplotlib\n",
    "\n",
    "Array\n",
    "\n",
    "All elements of an array have to be the same type\n",
    "Number of elements must be known whtne the array is created\n",
    "Not a part of standard python, part of numpy\n",
    "In numpy, a wide range of operations can be done directly on complete arrays, thereby removing the need for lopps over array elements. Commonly called vectorization\n",
    "Arrays with one index are often called vectors. Arrays with two indicies are used as an efficient data strcture for tables, instead of lists of lists. Arrays can have three or more indicies"
   ]
  },
  {
   "cell_type": "code",
   "execution_count": 2,
   "metadata": {
    "collapsed": true
   },
   "outputs": [],
   "source": [
    "#typically\n",
    "import numpy as np"
   ]
  },
  {
   "cell_type": "code",
   "execution_count": 3,
   "metadata": {
    "collapsed": false
   },
   "outputs": [
    {
     "name": "stdout",
     "output_type": "stream",
     "text": [
      "<type 'list'> <type 'numpy.ndarray'>\n",
      "[1 2 3 4 5 6 7 8 9]\n"
     ]
    }
   ],
   "source": [
    "r = range(1,10)\n",
    "a = np.array(r) # a is an array; or vector\n",
    "print type(r), type(a)\n",
    "print a"
   ]
  },
  {
   "cell_type": "code",
   "execution_count": 14,
   "metadata": {
    "collapsed": false
   },
   "outputs": [
    {
     "name": "stdout",
     "output_type": "stream",
     "text": [
      "[ 0.  0.  0.  0.  0.  0.  0.  0.  0.  0.] <type 'numpy.ndarray'>\n"
     ]
    }
   ],
   "source": [
    "b = np.zeros(10)\n",
    "print b, type(b)"
   ]
  },
  {
   "cell_type": "code",
   "execution_count": 7,
   "metadata": {
    "collapsed": false
   },
   "outputs": [
    {
     "name": "stdout",
     "output_type": "stream",
     "text": [
      "[ 1.  1.  1.  1.  1.  1.  1.  1.  1.  1.] <type 'numpy.ndarray'>\n"
     ]
    }
   ],
   "source": [
    "c = np.ones(10)\n",
    "print c, type(c)"
   ]
  },
  {
   "cell_type": "code",
   "execution_count": 8,
   "metadata": {
    "collapsed": false
   },
   "outputs": [
    {
     "name": "stdout",
     "output_type": "stream",
     "text": [
      "[  1.    1.6   2.2   2.8   3.4   4.    4.6   5.2   5.8   6.4   7.    7.6\n",
      "   8.2   8.8   9.4  10.   10.6  11.2  11.8  12.4] <type 'numpy.ndarray'> 20\n"
     ]
    }
   ],
   "source": [
    "d = np.linspace(1,12.4,20)\n",
    "print d, type(d), len(d)"
   ]
  },
  {
   "cell_type": "code",
   "execution_count": 9,
   "metadata": {
    "collapsed": false
   },
   "outputs": [
    {
     "data": {
      "text/plain": [
       "4"
      ]
     },
     "execution_count": 9,
     "metadata": {},
     "output_type": "execute_result"
    }
   ],
   "source": [
    "#accessing an individual element of an array\n",
    "a[3]"
   ]
  },
  {
   "cell_type": "code",
   "execution_count": 15,
   "metadata": {
    "collapsed": false
   },
   "outputs": [
    {
     "name": "stdout",
     "output_type": "stream",
     "text": [
      "d= [ 0.   0.   0.   0.2  0.   0.   0.   0. ]\n",
      "b= [ 0.   0.   0.   0.   0.2  0.   0.   0.   0.   0. ]\n",
      "e= [ 0.  0.  0.  0.  0.  0.  0.  0.  0.  0.]\n"
     ]
    }
   ],
   "source": [
    "#array slicing\n",
    "import copy\n",
    "d = b[1:-1]\n",
    "e = copy.copy(b)\n",
    "d[3] = 0.2\n",
    "print 'd=', d\n",
    "print 'b=', b\n",
    "print 'e=', e"
   ]
  },
  {
   "cell_type": "code",
   "execution_count": 21,
   "metadata": {
    "collapsed": false
   },
   "outputs": [
    {
     "name": "stdout",
     "output_type": "stream",
     "text": [
      "[-1.   -0.98 -0.96 -0.94 -0.92 -0.9  -0.88 -0.86 -0.84 -0.82 -0.8  -0.78\n",
      " -0.76 -0.74 -0.72 -0.7  -0.68 -0.66 -0.64 -0.62 -0.6  -0.58 -0.56 -0.54\n",
      " -0.52 -0.5  -0.48 -0.46 -0.44 -0.42 -0.4  -0.38 -0.36 -0.34 -0.32 -0.3\n",
      " -0.28 -0.26 -0.24 -0.22 -0.2  -0.18 -0.16 -0.14 -0.12 -0.1  -0.08 -0.06\n",
      " -0.04 -0.02  0.    0.02  0.04  0.06  0.08  0.1   0.12  0.14  0.16  0.18\n",
      "  0.2   0.22  0.24  0.26  0.28  0.3   0.32  0.34  0.36  0.38  0.4   0.42\n",
      "  0.44  0.46  0.48  0.5   0.52  0.54  0.56  0.58  0.6   0.62  0.64  0.66\n",
      "  0.68  0.7   0.72  0.74  0.76  0.78  0.8   0.82  0.84  0.86  0.88  0.9\n",
      "  0.92  0.94  0.96  0.98  1.  ]\n",
      "[ 0.36787944  0.3753111   0.38289289  0.39062784  0.39851904  0.40656966\n",
      "  0.41478291  0.42316208  0.43171052  0.44043165  0.44932896  0.45840601\n",
      "  0.46766643  0.47711392  0.48675226  0.4965853   0.50661699  0.51685133\n",
      "  0.52729242  0.53794444  0.54881164  0.55989837  0.57120906  0.58274825\n",
      "  0.59452055  0.60653066  0.61878339  0.63128365  0.64403642  0.65704682\n",
      "  0.67032005  0.68386141  0.69767633  0.71177032  0.72614904  0.74081822\n",
      "  0.75578374  0.77105159  0.78662786  0.8025188   0.81873075  0.83527021\n",
      "  0.85214379  0.86935824  0.88692044  0.90483742  0.92311635  0.94176453\n",
      "  0.96078944  0.98019867  1.          1.02020134  1.04081077  1.06183655\n",
      "  1.08328707  1.10517092  1.12749685  1.1502738   1.17351087  1.19721736\n",
      "  1.22140276  1.24607673  1.27124915  1.29693009  1.32312981  1.34985881\n",
      "  1.37712776  1.40494759  1.43332941  1.46228459  1.4918247   1.52196156\n",
      "  1.55270722  1.58407398  1.6160744   1.64872127  1.68202765  1.71600686\n",
      "  1.7506725   1.78603843  1.8221188   1.85892804  1.89648088  1.93479233\n",
      "  1.97387773  2.01375271  2.05443321  2.09593551  2.13827622  2.18147227\n",
      "  2.22554093  2.27049984  2.31636698  2.36316069  2.41089971  2.45960311\n",
      "  2.50929039  2.55998142  2.61169647  2.66445624  2.71828183]\n"
     ]
    }
   ],
   "source": [
    "\n",
    "x = np.linspace(-1,1.,101)\n",
    "print x\n",
    "y = np.exp(x)\n",
    "print y"
   ]
  },
  {
   "cell_type": "code",
   "execution_count": 27,
   "metadata": {
    "collapsed": false
   },
   "outputs": [
    {
     "name": "stdout",
     "output_type": "stream",
     "text": [
      "[  32.    33.8   35.6   37.4   39.2   41.    42.8   44.6   46.4   48.2\n",
      "   50.    51.8   53.6   55.4   57.2   59.    60.8   62.6   64.4   66.2\n",
      "   68.    69.8   71.6   73.4   75.2   77.    78.8   80.6   82.4   84.2\n",
      "   86.    87.8   89.6   91.4   93.2   95.    96.8   98.6  100.4  102.2\n",
      "  104.   105.8  107.6  109.4  111.2  113.   114.8  116.6  118.4  120.2\n",
      "  122. ]\n"
     ]
    }
   ],
   "source": [
    "def temp_conv(start_temp, end_temp):\n",
    "    C = np.linspace(start_temp,end_temp,abs(start_temp)+abs(end_temp)+1)\n",
    "    F = np.array((9./5)*C + 32)\n",
    "    print F\n",
    "    \n",
    "temp_conv(0,50)"
   ]
  },
  {
   "cell_type": "code",
   "execution_count": 32,
   "metadata": {
    "collapsed": false
   },
   "outputs": [
    {
     "data": {
      "text/plain": [
       "[32.0]"
      ]
     },
     "execution_count": 32,
     "metadata": {},
     "output_type": "execute_result"
    }
   ],
   "source": [
    "def temper_conv(start_temp, end_temp): \n",
    "    F = [(9./5)*C + 32 for C in range(start_temp, end_temp, abs(start_temp)+abs(end_temp)+1)]\n",
    "    return F\n",
    "\n",
    "temper_conv(0, 40)"
   ]
  },
  {
   "cell_type": "code",
   "execution_count": 35,
   "metadata": {
    "collapsed": false
   },
   "outputs": [
    {
     "name": "stdout",
     "output_type": "stream",
     "text": [
      "<type 'numpy.ndarray'> float64\n",
      "[ 1.  2.  3.  4.  5.  6.  7.  8.  9.]\n",
      "<type 'numpy.ndarray'> int64\n",
      "[1 2 3 4 5 6 7 8 9]\n"
     ]
    }
   ],
   "source": [
    "x = np.arange(1,10, 1.)\n",
    "print type(x), x.dtype\n",
    "print x\n",
    "y = np.arange(1,10,1., dtype = np.int64)\n",
    "print type(y), y.dtype\n",
    "print y"
   ]
  },
  {
   "cell_type": "code",
   "execution_count": 36,
   "metadata": {
    "collapsed": false
   },
   "outputs": [
    {
     "data": {
      "text/plain": [
       "'1.9.2'"
      ]
     },
     "execution_count": 36,
     "metadata": {},
     "output_type": "execute_result"
    }
   ],
   "source": [
    "import numpy as np\n",
    "np.__version__"
   ]
  },
  {
   "cell_type": "code",
   "execution_count": 38,
   "metadata": {
    "collapsed": false
   },
   "outputs": [
    {
     "name": "stdout",
     "output_type": "stream",
     "text": [
      "[False False False False False  True  True  True  True  True]\n",
      "number of elements with value grater than 5: 5\n",
      "[  6.   7.   8.   9.  10.]\n"
     ]
    }
   ],
   "source": [
    "x = np.linspace(1, 10, 10)\n",
    "idx = x > 5\n",
    "print idx\n",
    "print 'number of elements with value grater than 5:', sum(idx)\n",
    "y = x[idx]\n",
    "print y"
   ]
  },
  {
   "cell_type": "code",
   "execution_count": 40,
   "metadata": {
    "collapsed": false
   },
   "outputs": [
    {
     "name": "stdout",
     "output_type": "stream",
     "text": [
      "(array([5, 6, 7, 8, 9]),)\n",
      "number of elements with value grater than 5: 5\n",
      "[  6.   7.   8.   9.  10.]\n"
     ]
    }
   ],
   "source": [
    "x = np.linspace(1, 10, 10)\n",
    "idx = np.where(x>5)\n",
    "print idx\n",
    "print 'number of elements with value grater than 5:', len(idx[0])\n",
    "y = x[idx]\n",
    "print y"
   ]
  },
  {
   "cell_type": "code",
   "execution_count": 44,
   "metadata": {
    "collapsed": false
   },
   "outputs": [],
   "source": [
    "#%matplotlib inline\n",
    "%matplotlib osx\n",
    "import matplotlib.pyplot as plt\n",
    "y = np.linspace(1,100,10)\n",
    "#x is assumed to be the index\n",
    "plt.plot(y)\n",
    "plt.show()"
   ]
  },
  {
   "cell_type": "code",
   "execution_count": 46,
   "metadata": {
    "collapsed": false
   },
   "outputs": [],
   "source": [
    "#%matplotlib inline\n",
    "%matplotlib osx\n",
    "import numpy as np\n",
    "import matplotlib.pyplot as plt\n",
    "y = np.linspace(1e-6, 15, 1000)\n",
    "b = y**3/(np.exp(y)-1)\n",
    "plt.plot(y,b)\n",
    "plt.xlabel('Frequency')\n",
    "plt.ylabel('Energy Density')\n",
    "plt.title('Black Body Spectrum')\n",
    "#plt.savefig('planck.pdf')\n",
    "plt.show()\n",
    "#introduce the where function in numpy here"
   ]
  },
  {
   "cell_type": "code",
   "execution_count": 69,
   "metadata": {
    "collapsed": false
   },
   "outputs": [
    {
     "data": {
      "image/png": "[encoded data removed]",
      "text/plain": [
       "<matplotlib.figure.Figure at 0x10107ce90>"
      ]
     },
     "metadata": {},
     "output_type": "display_data"
    }
   ],
   "source": [
    "%matplotlib inline\n",
    "#%matplotlib osx\n",
    "import numpy as np\n",
    "import matplotlib.pyplot as plt\n",
    "#x = np.linspace(1e-6, np.pi, 15100)\n",
    "x = np.arange(0., np.pi, 0.0001)\n",
    "y = np.cos((-np.exp(x)))\n",
    "plt.xlabel('X')\n",
    "plt.ylabel('Y')\n",
    "plt.title('Frequency Modulation')\n",
    "plt.text(0.5, 0.8, 'y = cos(-e^x)', fontsize = 16)\n",
    "plt.plot(x,y, '--', lw = 2)\n",
    "#plt.savefig('planck.pdf')\n",
    "plt.show()"
   ]
  },
  {
   "cell_type": "code",
   "execution_count": 73,
   "metadata": {
    "collapsed": false
   },
   "outputs": [
    {
     "data": {
      "image/png": "[encoded data removed]",
      "text/plain": [
       "<matplotlib.figure.Figure at 0x11248fed0>"
      ]
     },
     "metadata": {},
     "output_type": "display_data"
    }
   ],
   "source": [
    "from pylab import *\n",
    "Xmin = -5.0; Xmax = 5.0\n",
    "Npoints = 500\n",
    "DelX = (Xmax - Xmin)/Npoints\n",
    "x = np.arange(Xmin, Xmax, DelX)\n",
    "y1 = -np.sin(x)*np.cos(x**2)\n",
    "y2 = np.exp(-x/4.)*np.sin(x)\n",
    "\n",
    "\n",
    "fig = plt.figure()\n",
    "ax = fig.add_subplot(211) #2 rows, 1 column, first of the two\n",
    "fig.subplots_adjust(top=0.85) # without this, won't be able to see plot title(moves plot down a little bit)\n",
    "plt.title('Two Functions')\n",
    "\n",
    "plt.plot(x, y1, 'r.', lw = 2)\n",
    "plt.grid(True)\n",
    "ax.set_ylabel('y1')\n",
    "\n",
    "plt.subplot(212)# 2 rows, 1 column, second of two       #both ways are perfectly legal\n",
    "plt.plot(x, y2, 'g--', lw = 2)\n",
    "plt.xlabel('x')\n",
    "plt.ylabel('y2')\n",
    "\n",
    "plt.show()\n"
   ]
  },
  {
   "cell_type": "code",
   "execution_count": 75,
   "metadata": {
    "collapsed": false
   },
   "outputs": [
    {
     "name": "stdout",
     "output_type": "stream",
     "text": [
      "13.0\n"
     ]
    }
   ],
   "source": [
    "def g(x,y):\n",
    "    return x**2+y**2\n",
    "z = g(2.,3.)\n",
    "print z"
   ]
  },
  {
   "cell_type": "code",
   "execution_count": 1,
   "metadata": {
    "collapsed": false
   },
   "outputs": [
    {
     "ename": "NameError",
     "evalue": "name 'g' is not defined",
     "output_type": "error",
     "traceback": [
      "\u001b[0;31m---------------------------------------------------------------------------\u001b[0m",
      "\u001b[0;31mNameError\u001b[0m                                 Traceback (most recent call last)",
      "\u001b[0;32m<ipython-input-1-edd06ec703ab>\u001b[0m in \u001b[0;36m<module>\u001b[0;34m()\u001b[0m\n\u001b[1;32m      9\u001b[0m \u001b[0mx\u001b[0m \u001b[0;34m=\u001b[0m \u001b[0my\u001b[0m \u001b[0;34m=\u001b[0m \u001b[0mnp\u001b[0m\u001b[0;34m.\u001b[0m\u001b[0mlinspace\u001b[0m\u001b[0;34m(\u001b[0m\u001b[0;34m-\u001b[0m\u001b[0;36m5\u001b[0m\u001b[0;34m,\u001b[0m\u001b[0;36m5\u001b[0m\u001b[0;34m,\u001b[0m\u001b[0;36m100\u001b[0m\u001b[0;34m)\u001b[0m\u001b[0;34m\u001b[0m\u001b[0m\n\u001b[1;32m     10\u001b[0m \u001b[0mxv\u001b[0m\u001b[0;34m,\u001b[0m \u001b[0myv\u001b[0m \u001b[0;34m=\u001b[0m \u001b[0mnp\u001b[0m\u001b[0;34m.\u001b[0m\u001b[0mmeshgrid\u001b[0m\u001b[0;34m(\u001b[0m\u001b[0mx\u001b[0m\u001b[0;34m,\u001b[0m\u001b[0my\u001b[0m\u001b[0;34m)\u001b[0m\u001b[0;34m\u001b[0m\u001b[0m\n\u001b[0;32m---> 11\u001b[0;31m \u001b[0mz\u001b[0m \u001b[0;34m=\u001b[0m \u001b[0mg\u001b[0m\u001b[0;34m(\u001b[0m\u001b[0mxv\u001b[0m\u001b[0;34m,\u001b[0m \u001b[0myv\u001b[0m\u001b[0;34m)\u001b[0m\u001b[0;34m\u001b[0m\u001b[0m\n\u001b[0m\u001b[1;32m     12\u001b[0m \u001b[0;31m#ax.plot_wireframe(xv, yv, z, rstride=10, cstride=10, linewidth = 1)\u001b[0m\u001b[0;34m\u001b[0m\u001b[0;34m\u001b[0m\u001b[0m\n\u001b[1;32m     13\u001b[0m \u001b[0max\u001b[0m\u001b[0;34m.\u001b[0m\u001b[0mplot_surface\u001b[0m\u001b[0;34m(\u001b[0m\u001b[0mxv\u001b[0m\u001b[0;34m,\u001b[0m \u001b[0myv\u001b[0m\u001b[0;34m,\u001b[0m \u001b[0mz\u001b[0m\u001b[0;34m,\u001b[0m \u001b[0mrstride\u001b[0m\u001b[0;34m=\u001b[0m\u001b[0;36m1\u001b[0m\u001b[0;34m,\u001b[0m \u001b[0mcstride\u001b[0m\u001b[0;34m=\u001b[0m\u001b[0;36m1\u001b[0m\u001b[0;34m,\u001b[0m \u001b[0mcmap\u001b[0m\u001b[0;34m=\u001b[0m\u001b[0mcm\u001b[0m\u001b[0;34m.\u001b[0m\u001b[0mcoolwarm\u001b[0m\u001b[0;34m,\u001b[0m \u001b[0mlinewidth\u001b[0m \u001b[0;34m=\u001b[0m \u001b[0;36m0\u001b[0m\u001b[0;34m)\u001b[0m\u001b[0;34m\u001b[0m\u001b[0m\n",
      "\u001b[0;31mNameError\u001b[0m: name 'g' is not defined"
     ]
    },
    {
     "data": {
      "image/png": "[encoded data removed]",
      "text/plain": [
       "<matplotlib.figure.Figure at 0x101cb5c90>"
      ]
     },
     "metadata": {},
     "output_type": "display_data"
    }
   ],
   "source": [
    "%matplotlib inline\n",
    "from mpl_toolkits.mplot3d import axes3d\n",
    "import matplotlib.pyplot as plt\n",
    "import numpy as np\n",
    "from matplotlib import cm\n",
    "\n",
    "fig = plt.figure()\n",
    "ax = fig.add_subplot(111, projection ='3d')\n",
    "x = y = np.linspace(-5,5,100)\n",
    "xv, yv = np.meshgrid(x,y)\n",
    "z = g(xv, yv)\n",
    "#ax.plot_wireframe(xv, yv, z, rstride=10, cstride=10, linewidth = 1)\n",
    "ax.plot_surface(xv, yv, z, rstride=1, cstride=1, cmap=cm.coolwarm, linewidth = 0)\n",
    "plt.show()"
   ]
  },
  {
   "cell_type": "code",
   "execution_count": null,
   "metadata": {
    "collapsed": true
   },
   "outputs": [],
   "source": []
  }
 ],
 "metadata": {
  "kernelspec": {
   "display_name": "Python 2",
   "language": "python",
   "name": "python2"
  },
  "language_info": {
   "codemirror_mode": {
    "name": "ipython",
    "version": 2
   },
   "file_extension": ".py",
   "mimetype": "text/x-python",
   "name": "python",
   "nbconvert_exporter": "python",
   "pygments_lexer": "ipython2",
   "version": "2.7.9"
  }
 },
 "nbformat": 4,
 "nbformat_minor": 0
}
