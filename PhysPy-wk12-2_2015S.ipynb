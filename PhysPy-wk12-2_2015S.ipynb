{
 "cells": [
  {
   "cell_type": "markdown",
   "metadata": {},
   "source": [
    "# Topics\n",
    "\n",
    "\n",
    "\n",
    "## 1. Fourier Transform of 2D Images -- Slides\n",
    "###      i) FT of 2D images.\n",
    "###      ii) FT Video\n",
    "###      iii) Why we need PCA -- the gateway to machine learning.\n"
   ]
  },
  {
   "cell_type": "markdown",
   "metadata": {},
   "source": [
    "## How to sort frequencies and Fourier components"
   ]
  },
  {
   "cell_type": "code",
   "execution_count": null,
   "metadata": {
    "collapsed": false
   },
   "outputs": [],
   "source": [
    "%matplotlib inline\n",
    "\n",
    "\n",
    "'''Breakout Solutions'''\n",
    "import numpy as np\n",
    "import matplotlib.pyplot as plt\n",
    "from scipy.io.wavfile import read, write\n",
    "import os\n",
    "\n",
    "\n",
    "def get_tone(f, duration, sample_rate = 44100, amp = 2**14, play_sound = False):\n",
    "\n",
    "\n",
    "    time_pts = np.linspace(0, duration, duration*sample_rate)\n",
    "#     tone = np.int16(amp*np.sin(np.pi*2*f*time_pts))\n",
    "    tone = amp*np.sin(np.pi*2*f*time_pts)\n",
    "    if play_sound:\n",
    "        playsound(tone)\n",
    "    \n",
    "    return tone\n",
    "\n",
    "\n",
    "def plot_fourier(sample_rate, signal, freq_lim = 1000., plotting = False):\n",
    "    '''\n",
    "    Given sample_rate and signal, plots the real and imaginary parts of DFT.\n",
    "    '''\n",
    "    \n",
    "    # note: This conversion to float64 is crucial -- or else the numerical error will be greater.\n",
    "    #ft = np.fft.fft(np.float64(signal))\n",
    "    ft = np.fft.fft(np.float64(signal))\n",
    "\n",
    "    freq = np.fft.fftfreq(signal.shape[-1], d = 1./sample_rate)\n",
    "    if plotting:\n",
    "        plt.figure()\n",
    "        plt.title('Real')\n",
    "        plt.plot(freq, ft.real, 'b-')\n",
    "        plt.xlim([420, 460])\n",
    "\n",
    "    #    plt.xlim([-freq_lim, freq_lim])\n",
    "        plt.figure()\n",
    "        plt.title('Imaginary')\n",
    "        plt.plot(freq, ft.imag, 'g-')\n",
    "        plt.xlim([420, 460])\n",
    "\n",
    "    #    plt.xlim([-freq_lim, freq_lim])\n",
    "        plt.show()\n",
    "    \n",
    "    return ft, freq\n",
    "\n",
    "\n",
    "def signal_rec(ft, filt = None):\n",
    "    \n",
    "    '''\n",
    "    does inverse fft and returns the array of sound data.\n",
    "    '''\n",
    "        \n",
    "    import copy\n",
    "    ft_filt = copy.copy(ft)\n",
    "    try:\n",
    "        len(filt)\n",
    "    except:\n",
    "        pass\n",
    "    else:\n",
    "        ft_filt *= filt\n",
    "\n",
    "    tone_data_rec = np.fft.ifft(ft_filt)\n",
    "\n",
    "    Re_to_Im = np.abs(float(np.abs(tone_data_rec.imag).max())/np.abs(tone_data_rec.real).max())\n",
    "    if Re_to_Im > 1e-14:\n",
    "        print 'WARNING: max the imaginary part may be too large:', Re_to_Im\n",
    "        plt.figure()\n",
    "        plt.title('imag/real')\n",
    "        plt.plot(tone_data_rec.imag/tone_data_rec.real, 'k--')\n",
    "        plt.show()\n",
    "\n",
    "    # Rejecting the imaginary part\n",
    "    tone_data_rec = tone_data_rec.real\n",
    "\n",
    "    return tone_data_rec\n",
    "\n",
    "    \n",
    "def plotsound(time_pts, sound, fig = None, t_lim = 0.02, s_lim = 'auto', plot_style = 'b-'):\n",
    "    \n",
    "    if fig == None:\n",
    "        plt.figure()\n",
    "    plt.title(\"Sound Wave vs. Time\")\n",
    "    plt.plot(time_pts, sound, plot_style)\n",
    "    plt.xlim([0, t_lim])\n",
    "    if s_lim  != 'auto':\n",
    "        plt.ylim([-s_lim, s_lim])\n",
    "        \n",
    "    return \n",
    "\n",
    "def playsound(sndarr, sample_rate = 44100, vol = 0.1):\n",
    "    from scipy.io.wavfile import write\n",
    "    import os\n",
    "    write('tmp.wav', sample_rate, np.int16(vol*sndarr))\n",
    "    os.system(\"afplay tmp.wav\") \n",
    "    os.system(\"rm tmp.wav\") \n",
    "    return\n",
    "\n",
    "\n",
    "\n",
    "\n",
    "f = 440.\n",
    "sample_rate = 44100\n",
    "duration = 2.\n",
    "time_pts = np.linspace(0, duration, duration*sample_rate)\n",
    "\n",
    "\n",
    "tone = get_tone(f, duration)\n",
    "\n",
    "tone = np.int16(tone)\n",
    "ft, freq = plot_fourier(sample_rate, tone)\n",
    "\n",
    "#playsound(tone, vol = 0.5)\n",
    "\n",
    "# BEFORE SORTING\n",
    "plt.figure()\n",
    "plt.title('frequency before sorting')\n",
    "plt.plot(freq)\n",
    "\n",
    "plt.figure()\n",
    "plt.title('ft.real before sorting')\n",
    "plt.plot(ft.real)\n",
    "\n",
    "\n",
    "plt.figure()\n",
    "plt.title('ft.real vs. freq before sorting')\n",
    "plt.plot(freq, ft.real)\n",
    "plt.xlim([420, 460])\n",
    "\n",
    "# # How to sort frequencies and Fourier components together.\n",
    "idx = np.argsort(freq)\n",
    "freq = freq[idx]\n",
    "ft = ft[idx]\n",
    "\n",
    "# AFTER SORTING\n",
    "\n",
    "plt.figure()\n",
    "plt.title('frequency after sorting')\n",
    "plt.plot(freq)\n",
    "\n",
    "plt.figure()\n",
    "plt.title('ft.real after sorting')\n",
    "plt.plot(ft.real)\n",
    "\n",
    "\n",
    "plt.figure()\n",
    "plt.title('ft.real vs. freq after sorting')\n",
    "plt.plot(freq, ft.real)\n",
    "plt.xlim([420, 460])\n",
    "\n"
   ]
  },
  {
   "cell_type": "markdown",
   "metadata": {},
   "source": [
    "## 2D Fourier Transform: numpy.fft.fft2()\n",
    "### - In general: numpy.fft.fftn(), and you can specify the dimensionality.\n",
    "### - For higher dimension FT, the advantage of FFT is more obvious\n",
    "### - Therefore, take full advantage of it: Whenever possible use image dimensions that are powers of 2.  The FFT algorithm depends on the divisibility by 2."
   ]
  },
  {
   "cell_type": "code",
   "execution_count": null,
   "metadata": {
    "collapsed": false
   },
   "outputs": [],
   "source": [
    "%matplotlib inline\n",
    "\n",
    "import matplotlib.pyplot as plt\n",
    "import matplotlib.image as mpimg\n",
    "im = mpimg.imread('straight_stripes.gif')\n",
    "im = im[:,:,0]\n",
    "print type(im), im.shape, im.dtype\n",
    "\n",
    "\n",
    "plt.figure(figsize = (8, 5))\n",
    "plt.imshow(im, cmap = plt.cm.Greys_r )\n",
    "plt.show()\n"
   ]
  },
  {
   "cell_type": "markdown",
   "metadata": {},
   "source": [
    "## From the documentation of numpy.fft.fft2\n",
    "\n",
    "### \"Compute the 2-dimensional inverse discrete Fourier Transform.  This function computes the inverse of the 2-dimensional discrete Fourier Transform over any number of axes in an M-dimensional array by means of the Fast Fourier Transform (FFT). In other words, ifft2(fft2(a)) == a to within numerical accuracy. By default, the inverse transform is computed over the last two axes of the input array.\"\n",
    "\n",
    "\n",
    "http://jiffyclub.github.io/numpy/reference/generated/numpy.fft.ifft2.html\n",
    "\n",
    "\n",
    "\n",
    "I'm fairly sure that if one applies fft to a 2D image, it perform a 1D fft on the last axis.  That is if the image is 256x256, it performs 256 1D FT's.  That's why the result is two vertical lines.  This equivalent of saying the result of the 2-slid interference experiment is \n",
    "the familier interference stripes.  That is, the 2-slit experiement does 1D FT for each row.\n"
   ]
  },
  {
   "cell_type": "code",
   "execution_count": null,
   "metadata": {
    "collapsed": false
   },
   "outputs": [],
   "source": [
    "import numpy as np\n",
    "ft2d = np.fft.fft2(im)\n",
    "\n",
    "print type(ft2d), ft2d.shape, ft2d.dtype\n",
    "\n",
    "ft2d_sq = np.abs(ft2d)**2\n",
    "print type(ft2d_sq), ft2d_sq.shape, ft2d_sq.dtype\n",
    "\n",
    "plt.figure()\n",
    "plt.title(\"Before sorting\")\n",
    "plt.imshow(np.abs(ft2d),  cmap = plt.cm.gray)\n",
    "\n",
    "print np.array([ft2d_sq[0, 0], ft2d_sq[0, -1], ft2d_sq[-1, 0], ft2d_sq[-1, -1]]).max()\n",
    "print ft2d_sq[0, 0], ft2d_sq[0, -1], ft2d_sq[-1, 0], ft2d_sq[-1, -1]\n",
    "\n",
    "print ft2d[0, 0]\n",
    "print im.sum()\n",
    "\n",
    "\n",
    "# Create k (\"frequency\") values\n",
    "kx = np.fft.fftfreq(ft2d.shape[1])\n",
    "ky = np.fft.fftfreq(ft2d.shape[0])\n",
    "\n",
    "# Sort kx, ky and Fourier components\n",
    "xidx = np.argsort(kx)\n",
    "yidx = np.argsort(ky)\n",
    "\n",
    "# Note how the sorting is done for 2D Fourier map\n",
    "ft2d = ft2d[:, xidx]\n",
    "ft2d = ft2d[yidx, :]\n",
    "\n",
    "kx = kx[xidx]\n",
    "ky = kx[yidx]\n",
    "\n",
    "# print kx\n",
    "# print ky\n",
    "\n",
    "plt.figure()\n",
    "plt.title(\"After sorting\")\n",
    "#plt.imshow(np.abs(ft2d), cmap = plt.cm.gray)\n",
    "# To see better, use sqrt scale\n",
    "plt.imshow(np.sqrt(np.abs(ft2d)), cmap = plt.cm.gray)\n",
    "\n",
    "plt.colorbar()\n",
    "plt.show()"
   ]
  },
  {
   "cell_type": "markdown",
   "metadata": {},
   "source": [
    "## Breakout 1: write function FT2D(im) and it should returns (properly sorted) ft2d, kx, ky"
   ]
  },
  {
   "cell_type": "code",
   "execution_count": null,
   "metadata": {
    "collapsed": false
   },
   "outputs": [],
   "source": [
    "%matplotlib inline\n",
    "'''\n",
    "The main reason for additional (minor) components: a diagonal can only be approximated by the square pixels \n",
    "of the image, hence, additional frequencies are needed to compose the image.\n",
    "0\n",
    "'''\n",
    "\n",
    "\n",
    "import matplotlib.pyplot as plt\n",
    "import matplotlib.image as mpimg\n",
    "im = mpimg.imread('slant_stripes.gif')\n",
    "im = im[:,:,0]\n",
    "print type(im), im.shape, im.dtype\n",
    "\n",
    "\n",
    "plt.figure(figsize = (8, 5))\n",
    "plt.imshow(im, cmap = plt.cm.Greys_r )\n",
    "\n",
    "ft2d, kx, ky = ft2d(im)\n",
    "plt.figure()\n",
    "#To see better, use sqrt scale\n",
    "plt.imshow(np.sqrt(np.abs(ft2d)), cmap = plt.cm.gray)\n",
    "plt.colorbar()\n",
    "\n",
    "plt.show()\n",
    "\n"
   ]
  },
  {
   "cell_type": "markdown",
   "metadata": {},
   "source": [
    "## Simple application: Remember we said for character recognition, it's not ideal to have the rotated version -- often for a text, we can figure out whether it's rotated or not."
   ]
  },
  {
   "cell_type": "code",
   "execution_count": null,
   "metadata": {
    "collapsed": false
   },
   "outputs": [],
   "source": [
    "%matplotlib inline\n",
    "'''\n",
    "The main reason for additional (minor) components: a diagonal can only be approximated by the square pixels \n",
    "of the image, hence, additional frequencies are needed to compose the image.\n",
    "\n",
    "'''\n",
    "\n",
    "\n",
    "import matplotlib.pyplot as plt\n",
    "import matplotlib.image as mpimg\n",
    "im = mpimg.imread('sonnet.gif')\n",
    "im = im[:,:,0]\n",
    "print type(im), im.shape, im.dtype\n",
    "\n",
    "\n",
    "plt.figure(figsize = (8, 5))\n",
    "plt.imshow(im, cmap = plt.cm.Greys_r )\n",
    "\n",
    "ft2d, kx, ky = FT2D(im)\n",
    "plt.figure()\n",
    "#To see better, use sqrt scale\n",
    "plt.imshow(np.log(np.abs(ft2d)), cmap = plt.cm.gray)\n",
    "plt.colorbar()\n",
    "\n",
    "plt.figure()\n",
    "plt.plot(kx)\n",
    "\n",
    "plt.show()\n"
   ]
  },
  {
   "cell_type": "code",
   "execution_count": null,
   "metadata": {
    "collapsed": false
   },
   "outputs": [],
   "source": [
    "%matplotlib inline\n",
    "'''\n",
    "The main reason for additional (minor) components: a diagonal can only be approximated by the square pixels \n",
    "of the image, hence, additional frequencies are needed to compose the image.\n",
    "\n",
    "'''\n",
    "\n",
    "\n",
    "import matplotlib.pyplot as plt\n",
    "import matplotlib.image as mpimg\n",
    "im_slant = mpimg.imread('slant_sonnet.gif')\n",
    "#im = im[:,:,0]\n",
    "print type(im_slant), im_slant.shape, im_slant.dtype\n",
    "\n",
    "\n",
    "plt.figure(figsize = (8, 5))\n",
    "plt.imshow(im, cmap = plt.cm.Greys_r )\n",
    "\n",
    "ft2d_slant, kx, ky = FT2D(im_slant)\n",
    "plt.figure()\n",
    "#To see better, use sqrt scale\n",
    "plt.imshow(np.log(np.abs(ft2d_slant)), cmap = plt.cm.gray)\n",
    "plt.colorbar()\n",
    "\n",
    "plt.show()\n",
    "\n"
   ]
  },
  {
   "cell_type": "markdown",
   "metadata": {},
   "source": [
    "## Breakout 2:\n",
    "\n",
    "### - Generate a image that has a circular shape in the middle that has values 1, and everywhere else the value should be zero.\n",
    "### - Image size: 256x256\n",
    "### - circle size: r = 8"
   ]
  },
  {
   "cell_type": "code",
   "execution_count": 36,
   "metadata": {
    "collapsed": false
   },
   "outputs": [
    {
     "data": {
      "image/png": "[encoded data removed]",
      "text/plain": [
       "<matplotlib.figure.Figure at 0x10f98d850>"
      ]
     },
     "metadata": {},
     "output_type": "display_data"
    }
   ],
   "source": [
    "arraydude = np.zeros((256,256))\n",
    "x = arraydude[0]\n",
    "y = arraydude[1]\n",
    "for dudes in np.arange(0,len(arraydude[0])):\n",
    "    for dudettes in np.arange(0, len(arraydude[1])):\n",
    "        if x[dudes]**2 + y[dudettes]**2 < .5:\n",
    "            x[dudes] = 1\n",
    "            y[dudettes] = 1\n",
    "            \n",
    "plt.figure()\n",
    "plt.plot(x,y)\n",
    "plt.show()\n",
    "    \n"
   ]
  },
  {
   "cell_type": "code",
   "execution_count": null,
   "metadata": {
    "collapsed": false
   },
   "outputs": [],
   "source": [
    "ft2d, kx, ky = FT2D(cir_im)\n",
    "plt.figure()\n",
    "#To see better, use sqrt scale\n",
    "plt.imshow(np.sqrt(np.abs(ft2d)), cmap = plt.cm.gray)\n",
    "plt.colorbar()\n",
    "\n",
    "\n",
    "plt.show()"
   ]
  },
  {
   "cell_type": "markdown",
   "metadata": {},
   "source": [
    "## Breakout 3: \n",
    "### For the image of vertical stripes,\n",
    "\n",
    "### - Part a): Suppose we used np.fft.fft(), what would we get?\n",
    "\n",
    "### - Part b): find the cross section through the middle of the Fourier map."
   ]
  },
  {
   "cell_type": "markdown",
   "metadata": {},
   "source": [
    "## Physics Question: What's the physical interpretation of this?"
   ]
  },
  {
   "cell_type": "markdown",
   "metadata": {},
   "source": [
    "## Just how many Fourier components do we need to adequately reconstruct an image?"
   ]
  },
  {
   "cell_type": "code",
   "execution_count": null,
   "metadata": {
    "collapsed": false
   },
   "outputs": [],
   "source": [
    "'''\n",
    "\n",
    "Turn off sound -- it's a giveaway.\n",
    "\n",
    "See who guesses it first...\n",
    "\n",
    "'''\n",
    "\n",
    "from IPython.display import YouTubeVideo\n",
    "YouTubeVideo('D9ziTuJ3OCw')\n"
   ]
  },
  {
   "cell_type": "markdown",
   "metadata": {},
   "source": [
    "# What is a computational physicist to do??\n",
    "# Principal Component Analysis!!\n"
   ]
  },
  {
   "cell_type": "markdown",
   "metadata": {},
   "source": [
    "## Breakout 4: At the end of the cell below, you are given an image N.  Plot it and then find its power spectrum and plot it."
   ]
  },
  {
   "cell_type": "code",
   "execution_count": null,
   "metadata": {
    "collapsed": false
   },
   "outputs": [],
   "source": [
    "%matplotlib inline\n",
    "\n",
    "'''\n",
    "\n",
    "Breakout:\n",
    "Give students the dust map, and ask them to figure out the power spectrum\n",
    "\n",
    "'''\n",
    "\n",
    "\n",
    "import numpy as np\n",
    "import matplotlib.pyplot as plt\n",
    "import matplotlib as mpl\n",
    "\n",
    "def dust_map(Ndim, k, A, phz, imax, jmax, Nfac = 1.):\n",
    "    \n",
    "    '''\n",
    "        Produces dust density map \n",
    "    '''\n",
    "        \n",
    "    \n",
    "    \n",
    "    ### Setting up the phases for the Fourier components.\n",
    "    \n",
    "    # Left half (0<j<jmax/2)\n",
    "    phz[1:, 1:jmax/2] = np.random.rand(phz[1:, 1:jmax/2].shape[0], phz[1:, 1:jmax/2].shape[1])\n",
    "    #phz[1:, imax/2+1:] = -phz[1:, imax/2+1:][::-1, ::-1]\n",
    "    \n",
    "    # The column of jmax/2:\n",
    "    phz[1:imax/2, jmax/2] = np.random.rand(phz[1:imax/2, jmax/2].size)\n",
    "    phz[imax/2+1:, jmax/2] = -phz[1:imax/2, jmax/2][::-1]\n",
    "    \n",
    "    # The 0th column\n",
    "    phz[1:imax/2, 0] = np.random.rand(phz[1:imax/2, 0].size)\n",
    "    phz[imax/2+1:, 0] = -phz[1:imax/2, 0][::-1]\n",
    "    \n",
    "    # Left half of the 0th row\n",
    "    phz[0, 1:jmax/2] = np.random.rand(phz[0, 1:jmax/2].size)\n",
    "    \n",
    "    # (imax/2+1)th element in 0th column; (jmax/2+1)th element in 0th row; the Nyquist element.\n",
    "    phz[imax/2, 0] = np.random.randint(2)/2.\n",
    "    phz[0, jmax/2] = np.random.randint(2)/2.\n",
    "    phz[imax/2, jmax/2] = np.random.randint(2)/2.\n",
    "    \n",
    "    \n",
    "    # (Half of the) Fourier components for a real field.\n",
    "    rFS = A*np.exp(phz*1j*2*np.pi)\n",
    "    \n",
    "    \n",
    "    ### Generating the density field.\n",
    "    N = np.fft.irfftn(rFS)\n",
    "       \n",
    "    return N\n",
    "\n",
    "Ndim = 128\n",
    "kmin = 0.\n",
    "kstart = 1.\n",
    "kend = Ndim\n",
    "kpts = Ndim\n",
    "\n",
    "k_neg = -np.linspace(kend, kstart, kpts)\n",
    "k_pos = -k_neg[1:][::-1]\n",
    "kx = np.concatenate([np.array([0]), k_pos, k_neg])\n",
    "ky = np.concatenate([np.array([0]), k_pos, k_neg[0].reshape((1,))])\n",
    "\n",
    "kyy, kxx = np.meshgrid(ky, kx)\n",
    "k = np.sqrt(kxx**2 + kyy**2)\n",
    "### For this step see the comment above the def of kmin.\n",
    "k = np.sqrt(k**2 + kmin**2)\n",
    "\n",
    "imax = kx.size\n",
    "jmax = (ky.size-1)*2  # I'm defining jmax this way to remind myself I'm only generating half of the Fourier field.\n",
    "\n",
    "phz = np.zeros(k.shape)\n",
    "\n",
    "\n",
    "half_gamma = -2.75/2\n",
    "\n",
    "\n",
    "A = np.ones(k.shape)*1e-16\n",
    "A = np.zeros(k.shape)\n",
    "# To avoid the (0, 0) corner.\n",
    "A[0, 1:] = k[0, 1:]**half_gamma#+0.002*np.random.randn(k[0, 1:].shape[0])\n",
    "A[1:, :] = k[1:, :]**half_gamma#+0.002*np.random.randn(k[1:, :].shape[0], k[1:, :].shape[1])\n",
    "\n",
    "\n",
    "\n",
    "N = dust_map(Ndim, k, A, phz, imax, jmax)\n"
   ]
  },
  {
   "cell_type": "markdown",
   "metadata": {},
   "source": [
    "## End of Week 12, Lecture 2"
   ]
  }
 ],
 "metadata": {
  "kernelspec": {
   "display_name": "Python 2",
   "language": "python",
   "name": "python2"
  },
  "language_info": {
   "codemirror_mode": {
    "name": "ipython",
    "version": 2
   },
   "file_extension": ".py",
   "mimetype": "text/x-python",
   "name": "python",
   "nbconvert_exporter": "python",
   "pygments_lexer": "ipython2",
   "version": "2.7.9"
  }
 },
 "nbformat": 4,
 "nbformat_minor": 0
}
