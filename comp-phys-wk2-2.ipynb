{
 "cells": [
  {
   "cell_type": "code",
   "execution_count": null,
   "metadata": {
    "collapsed": true
   },
   "outputs": [],
   "source": [
    "docstring: triple single quotes\n",
    "xrange is like range but creates elements one at a time. can save memory if list is a million elements\n",
    "enumerate"
   ]
  },
  {
   "cell_type": "code",
   "execution_count": 4,
   "metadata": {
    "collapsed": false
   },
   "outputs": [
    {
     "name": "stdout",
     "output_type": "stream",
     "text": [
      "0 5 5\n",
      "1 10 12\n",
      "2 15 19\n",
      "3 20 26\n"
     ]
    }
   ],
   "source": [
    "Cdegrees = [5,10,15,20]\n",
    "\n",
    "for i, c in enumerate(Cdegrees):\n",
    "    Cdegrees[i] = c+2*i\n",
    "    print i, Cdegrees[i]"
   ]
  },
  {
   "cell_type": "code",
   "execution_count": 28,
   "metadata": {
    "collapsed": false
   },
   "outputs": [
    {
     "name": "stdout",
     "output_type": "stream",
     "text": [
      " C    F\n",
      "-5.0 23.0\n",
      "-4.5 23.9\n",
      "-4.0 24.8\n",
      "-3.5 25.7\n",
      "-3.0 26.6\n",
      "-2.5 27.5\n",
      "-2.0 28.4\n",
      "-1.5 29.3\n",
      "-1.0 30.2\n",
      "-0.5 31.1\n",
      "0.0 32.0\n",
      "0.5 32.9\n",
      "1.0 33.8\n",
      "1.5 34.7\n",
      "2.0 35.6\n",
      "2.5 36.5\n",
      "3.0 37.4\n",
      "3.5 38.3\n",
      "4.0 39.2\n",
      "4.5 40.1\n",
      "5.0 41.0\n"
     ]
    }
   ],
   "source": [
    "Cdegrees = []\n",
    "Fdegrees = []\n",
    "print ' C    F'\n",
    "for i in range(-10,11,1):\n",
    "    Cdegrees.append(float(i)/2)\n",
    "    Fdegrees.append(((float(i)/2)*(9.0/5)) +32)\n",
    "    print Cdegrees[i+10], Fdegrees[i+10]"
   ]
  },
  {
   "cell_type": "code",
   "execution_count": 20,
   "metadata": {
    "collapsed": false
   },
   "outputs": [
    {
     "name": "stdout",
     "output_type": "stream",
     "text": [
      "[-5.0, -4.5, -4.0, -3.5, -3.0, -2.5, -2.0, -1.5, -1.0, -0.5, 0.0, 0.5, 1.0, 1.5, 2.0, 2.5, 3.0, 3.5, 4.0, 4.5, 5.0] [23.0, 23.9, 24.8, 25.7, 26.6, 27.5, 28.4, 29.3, 30.2, 31.1, 32.0, 32.9, 33.8, 34.7, 35.6, 36.5, 37.4, 38.3, 39.2, 40.1, 41.0]\n"
     ]
    }
   ],
   "source": [
    "x = [-5 + 0.5*i for i in range(0,21)]\n",
    "y = [((9.0/5)*x[i]) + 32 for i in range(0,21)]\n",
    "print x, y"
   ]
  },
  {
   "cell_type": "code",
   "execution_count": 30,
   "metadata": {
    "collapsed": false
   },
   "outputs": [
    {
     "name": "stdout",
     "output_type": "stream",
     "text": [
      " -5.0,  23.0\n",
      " -4.5,  23.9\n",
      " -4.0,  24.8\n",
      " -3.5,  25.7\n",
      " -3.0,  26.6\n",
      " -2.5,  27.5\n",
      " -2.0,  28.4\n",
      " -1.5,  29.3\n",
      " -1.0,  30.2\n",
      " -0.5,  31.1\n",
      "  0.0,  32.0\n",
      "  0.5,  32.9\n",
      "  1.0,  33.8\n",
      "  1.5,  34.7\n",
      "  2.0,  35.6\n",
      "  2.5,  36.5\n",
      "  3.0,  37.4\n",
      "  3.5,  38.3\n",
      "  4.0,  39.2\n",
      "  4.5,  40.1\n",
      "  5.0,  41.0\n"
     ]
    }
   ],
   "source": [
    "for C, F in zip(Cdegrees, Fdegrees):\n",
    "    print \"{:5.1f}, {:5.1f}\".format(C, F)"
   ]
  },
  {
   "cell_type": "code",
   "execution_count": 31,
   "metadata": {
    "collapsed": false
   },
   "outputs": [
    {
     "data": {
      "text/plain": [
       "[-0.21739130434782608,\n",
       " -0.1882845188284519,\n",
       " -0.16129032258064516,\n",
       " -0.13618677042801558,\n",
       " -0.11278195488721804,\n",
       " -0.09090909090909091,\n",
       " -0.07042253521126761,\n",
       " -0.051194539249146756,\n",
       " -0.033112582781456956,\n",
       " -0.01607717041800643,\n",
       " 0.0,\n",
       " 0.015197568389057751,\n",
       " 0.02958579881656805,\n",
       " 0.04322766570605187,\n",
       " 0.056179775280898875,\n",
       " 0.0684931506849315,\n",
       " 0.08021390374331551,\n",
       " 0.09138381201044388,\n",
       " 0.1020408163265306,\n",
       " 0.11221945137157106,\n",
       " 0.12195121951219512]"
      ]
     },
     "execution_count": 31,
     "metadata": {},
     "output_type": "execute_result"
    }
   ],
   "source": [
    "## multi-list comprehension\n",
    "\n",
    "[C/F for C, F in zip(Cdegrees, Fdegrees)]"
   ]
  },
  {
   "cell_type": "code",
   "execution_count": 35,
   "metadata": {
    "collapsed": false
   },
   "outputs": [
    {
     "name": "stdout",
     "output_type": "stream",
     "text": [
      "[[-5.0, 23.0], [-4.5, 23.9], [-4.0, 24.8], [-3.5, 25.7], [-3.0, 26.6], [-2.5, 27.5], [-2.0, 28.4], [-1.5, 29.3], [-1.0, 30.2], [-0.5, 31.1], [0.0, 32.0], [0.5, 32.9], [1.0, 33.8], [1.5, 34.7], [2.0, 35.6], [2.5, 36.5], [3.0, 37.4], [3.5, 38.3], [4.0, 39.2], [4.5, 40.1], [5.0, 41.0]]\n"
     ]
    }
   ],
   "source": [
    "table1 = [[C,F] for C,F in zip(Cdegrees, Fdegrees)]\n",
    "print table1"
   ]
  },
  {
   "cell_type": "code",
   "execution_count": 43,
   "metadata": {
    "collapsed": false
   },
   "outputs": [
    {
     "name": "stdout",
     "output_type": "stream",
     "text": [
      "[[-5.0, 23.0]]\n",
      "[-5.0, 23.0]\n"
     ]
    }
   ],
   "source": [
    "print table1[0:1]\n",
    "print table1[0:1][0]\n"
   ]
  },
  {
   "cell_type": "code",
   "execution_count": 44,
   "metadata": {
    "collapsed": false
   },
   "outputs": [
    {
     "name": "stdout",
     "output_type": "stream",
     "text": [
      "[[-5.0, 23.0],\n",
      " [-4.5, 23.9],\n",
      " [-4.0, 24.8],\n",
      " [-3.5, 25.7],\n",
      " [-3.0, 26.6],\n",
      " [-2.5, 27.5],\n",
      " [-2.0, 28.4],\n",
      " [-1.5, 29.3],\n",
      " [-1.0, 30.2],\n",
      " [-0.5, 31.1],\n",
      " [0.0, 32.0],\n",
      " [0.5, 32.9],\n",
      " [1.0, 33.8],\n",
      " [1.5, 34.7],\n",
      " [2.0, 35.6],\n",
      " [2.5, 36.5],\n",
      " [3.0, 37.4],\n",
      " [3.5, 38.3],\n",
      " [4.0, 39.2],\n",
      " [4.5, 40.1],\n",
      " [5.0, 41.0]]\n"
     ]
    }
   ],
   "source": [
    "from pprint import pprint\n",
    "pprint(table1)"
   ]
  },
  {
   "cell_type": "code",
   "execution_count": 46,
   "metadata": {
    "collapsed": false
   },
   "outputs": [
    {
     "name": "stdout",
     "output_type": "stream",
     "text": [
      "16\n",
      "  3.0  37.4\n",
      "  3.5  38.3\n",
      "  4.0  39.2\n",
      "  4.5  40.1\n"
     ]
    }
   ],
   "source": [
    "print Cdegrees.index(3.0)\n",
    "\n",
    "for C, F in table1[Cdegrees.index(3.):Cdegrees.index(5.)]:\n",
    "    print '{:5.1f} {:5.1f}'.format(C,F)"
   ]
  },
  {
   "cell_type": "code",
   "execution_count": 56,
   "metadata": {
    "collapsed": false,
    "scrolled": true
   },
   "outputs": [
    {
     "name": "stdout",
     "output_type": "stream",
     "text": [
      "  12   16   11   12\n",
      "   9\n",
      "   6    9   11   14   17   15   14   20\n"
     ]
    }
   ],
   "source": [
    "scores = []\n",
    "scores.append([12,16,11,12])\n",
    "scores.append([9])\n",
    "scores.append([6,9,11,14,17,15,14,20])\n",
    "\n",
    "for p in scores:\n",
    "    for g in p:\n",
    "        print '{:4d}'.format(g),\n",
    "    print\n",
    "        \n",
    "        "
   ]
  },
  {
   "cell_type": "code",
   "execution_count": 62,
   "metadata": {
    "collapsed": false
   },
   "outputs": [
    {
     "name": "stdout",
     "output_type": "stream",
     "text": [
      "2\n",
      "('shark', 2, 'text.txt', 6.0, 4, 5, 3)\n"
     ]
    }
   ],
   "source": [
    "#CANNOT CHANGE ELEMENTS IN A TUPLE!!!\n",
    "t = ('shark', 2, 'text.txt', 6.0)\n",
    "print t[1]\n",
    "t = t + (4,5)\n",
    "t = t + (3,)\n",
    "print t"
   ]
  },
  {
   "cell_type": "code",
   "execution_count": 61,
   "metadata": {
    "collapsed": false
   },
   "outputs": [
    {
     "name": "stdout",
     "output_type": "stream",
     "text": [
      "2\n",
      "4\n",
      "['shark', 4, 'text.txt', 6.0, 4, 5]\n"
     ]
    }
   ],
   "source": [
    "t = ['shark', 2, 'text.txt', 6.0]\n",
    "print t[1]\n",
    "t[1] = 4\n",
    "print t[1]\n",
    "t = t + [4,5]\n",
    "print t"
   ]
  },
  {
   "cell_type": "code",
   "execution_count": 63,
   "metadata": {
    "collapsed": false
   },
   "outputs": [
    {
     "data": {
      "text/plain": [
       "50.0"
      ]
     },
     "execution_count": 63,
     "metadata": {},
     "output_type": "execute_result"
    }
   ],
   "source": [
    "def F(C):\n",
    "    return (9./5)*C + 32.\n",
    "a = 10.\n",
    "F1 = F(a)\n",
    "F1"
   ]
  },
  {
   "cell_type": "code",
   "execution_count": null,
   "metadata": {
    "collapsed": true
   },
   "outputs": [],
   "source": []
  }
 ],
 "metadata": {
  "kernelspec": {
   "display_name": "Python 2",
   "language": "python",
   "name": "python2"
  },
  "language_info": {
   "codemirror_mode": {
    "name": "ipython",
    "version": 2
   },
   "file_extension": ".py",
   "mimetype": "text/x-python",
   "name": "python",
   "nbconvert_exporter": "python",
   "pygments_lexer": "ipython2",
   "version": "2.7.9"
  }
 },
 "nbformat": 4,
 "nbformat_minor": 0
}
