{
 "metadata": {
  "name": "",
  "signature": "sha256:0a1f4b7ccf6d0f4297d0dfc997013cb04bd7f3dc525fa1db3f417f4e4af5e243"
 },
 "nbformat": 3,
 "nbformat_minor": 0,
 "worksheets": [
  {
   "cells": [
    {
     "cell_type": "code",
     "collapsed": false,
     "input": [
      "from math import *\n",
      "import numpy\n",
      "dy = 1.\n",
      "steps = 100\n",
      "total = 0\n",
      "last_total = 0\n",
      "def h(y):\n",
      "    return (y**3)/((e**y)-1)\n",
      "frac_diff = 0\n",
      "correct_answer = (pi**4)/15\n",
      "\n",
      "def frac_diff():\n",
      "    if last_total == 0:\n",
      "        return 'N/A'\n",
      "    else:\n",
      "        return abs(total-last_total)/total\n",
      "\n",
      "# integral = dy*(h(y+(dy/2)) + h(y-(dy/2))/2 for trapezoidal approximation\n",
      "\n",
      "if 1 == True:\n",
      "    print 'running...'\n",
      "    print '\\n'\n",
      "\n",
      "while frac_diff() > 10**-6 or frac_diff() == 'N/A':\n",
      "    last_total = total\n",
      "    total = 0\n",
      "    for y in numpy.linspace (1, 100, steps+1):\n",
      "        total += dy*(h(y+(dy/2)) + h(y-(dy/2)))/2\n",
      "    print 'number of steps:', steps\n",
      "    print 'dy =', dy\n",
      "    print 'integral =', total\n",
      "    if frac_diff() == 'N/A':\n",
      "        print 'frac_diff =', frac_diff()\n",
      "    else:\n",
      "        print 'frac_diff =', frac_diff(),\"%\"\n",
      "    steps *=2\n",
      "    dy /=2\n",
      "    print '\\n'\n",
      "    \n",
      "actual_difference = abs(correct_answer-total)/correct_answer\n",
      "\n",
      "print 'The integral evaluated to within specified accuracy:', total\n",
      "print 'The upper limit of its fraction error is estimated to be:', frac_diff()\n",
      "print 'The correct answer is:', correct_answer\n",
      "print 'The actual fractional error is:', actual_difference,'%'"
     ],
     "language": "python",
     "metadata": {},
     "outputs": [
      {
       "output_type": "stream",
       "stream": "stdout",
       "text": [
        "running...\n",
        "\n",
        "\n",
        "number of steps: 100\n",
        "dy = 1.0\n",
        "integral = 6.46417116383\n",
        "frac_diff = N/A\n",
        "\n",
        "\n",
        "number of steps: 200\n",
        "dy = 0.5\n",
        "integral = 6.43547287923\n",
        "frac_diff = 0.00445939018619 %\n",
        "\n",
        "\n",
        "number of steps: 400\n",
        "dy = 0.25\n",
        "integral = 6.39445362691\n",
        "frac_diff = 0.00641481738832 %\n",
        "\n",
        "\n",
        "number of steps:"
       ]
      },
      {
       "output_type": "stream",
       "stream": "stdout",
       "text": [
        " 800\n",
        "dy = 0.125\n",
        "integral = 6.3661388948\n",
        "frac_diff = 0.00444770881983 %\n",
        "\n",
        "\n",
        "number of steps:"
       ]
      },
      {
       "output_type": "stream",
       "stream": "stdout",
       "text": [
        " 1600\n",
        "dy = 0.0625\n",
        "integral = 6.34997219284\n",
        "frac_diff = 0.00254594846535 %\n",
        "\n",
        "\n",
        "number of steps:"
       ]
      },
      {
       "output_type": "stream",
       "stream": "stdout",
       "text": [
        " 3200\n",
        "dy = 0.03125\n",
        "integral = 6.34138388023\n",
        "frac_diff = 0.00135432782086 %\n",
        "\n",
        "\n",
        "number of steps:"
       ]
      },
      {
       "output_type": "stream",
       "stream": "stdout",
       "text": [
        " 6400\n",
        "dy = 0.015625\n",
        "integral = 6.33696342537\n",
        "frac_diff = 0.000697566731756 %\n",
        "\n",
        "\n",
        "number of steps:"
       ]
      },
      {
       "output_type": "stream",
       "stream": "stdout",
       "text": [
        " 12800\n",
        "dy = 0.0078125\n",
        "integral = 6.33472163233\n",
        "frac_diff = 0.000353889746561 %\n",
        "\n",
        "\n",
        "number of steps:"
       ]
      },
      {
       "output_type": "stream",
       "stream": "stdout",
       "text": [
        " 25600\n",
        "dy = 0.00390625\n",
        "integral = 6.33359284655\n",
        "frac_diff = 0.000178222031748 %\n",
        "\n",
        "\n",
        "number of steps:"
       ]
      },
      {
       "output_type": "stream",
       "stream": "stdout",
       "text": [
        " 51200\n",
        "dy = 0.001953125\n",
        "integral = 6.33302648167\n",
        "frac_diff = 8.94303668479e-05 %\n",
        "\n",
        "\n",
        "number of steps:"
       ]
      },
      {
       "output_type": "stream",
       "stream": "stdout",
       "text": [
        " 102400\n",
        "dy = 0.0009765625\n",
        "integral = 6.33274280627\n",
        "frac_diff = 4.47950282945e-05 %\n",
        "\n",
        "\n",
        "number of steps:"
       ]
      },
      {
       "output_type": "stream",
       "stream": "stdout",
       "text": [
        " 204800\n",
        "dy = 0.00048828125\n",
        "integral = 6.33260084534\n",
        "frac_diff = 2.24174762501e-05 %\n",
        "\n",
        "\n",
        "number of steps:"
       ]
      },
      {
       "output_type": "stream",
       "stream": "stdout",
       "text": [
        " 409600\n",
        "dy = 0.000244140625\n",
        "integral = 6.33252983407\n",
        "frac_diff = 1.12137288321e-05 %\n",
        "\n",
        "\n",
        "number of steps:"
       ]
      },
      {
       "output_type": "stream",
       "stream": "stdout",
       "text": [
        " 819200\n",
        "dy = 0.0001220703125\n",
        "integral = 6.33249432073\n",
        "frac_diff = 5.6081122359e-06 %\n",
        "\n",
        "\n",
        "number of steps:"
       ]
      },
      {
       "output_type": "stream",
       "stream": "stdout",
       "text": [
        " 1638400\n",
        "dy = 6.103515625e-05\n",
        "integral = 6.33247656214\n",
        "frac_diff = 2.80436833278e-06 %\n",
        "\n",
        "\n",
        "number of steps:"
       ]
      },
      {
       "output_type": "stream",
       "stream": "stdout",
       "text": [
        " 3276800\n",
        "dy = 3.0517578125e-05\n",
        "integral = 6.33246768235\n",
        "frac_diff = 1.40226280571e-06 %\n",
        "\n",
        "\n",
        "number of steps:"
       ]
      },
      {
       "output_type": "stream",
       "stream": "stdout",
       "text": [
        " 6553600\n",
        "dy = 1.52587890625e-05\n",
        "integral = 6.33246324233\n",
        "frac_diff = 7.01152315522e-07 %\n",
        "\n",
        "\n"
       ]
      },
      {
       "ename": "NameError",
       "evalue": "name 'correct' is not defined",
       "output_type": "pyerr",
       "traceback": [
        "\u001b[1;31m---------------------------------------------------------------------------\u001b[0m\n\u001b[1;31mNameError\u001b[0m                                 Traceback (most recent call last)",
        "\u001b[1;32m<ipython-input-4-f7fe2fe935da>\u001b[0m in \u001b[0;36m<module>\u001b[1;34m()\u001b[0m\n\u001b[0;32m     38\u001b[0m     \u001b[1;32mprint\u001b[0m \u001b[1;34m'\\n'\u001b[0m\u001b[1;33m\u001b[0m\u001b[0m\n\u001b[0;32m     39\u001b[0m \u001b[1;33m\u001b[0m\u001b[0m\n\u001b[1;32m---> 40\u001b[1;33m \u001b[0mactual_difference\u001b[0m \u001b[1;33m=\u001b[0m \u001b[0mabs\u001b[0m\u001b[1;33m(\u001b[0m\u001b[0mcorrect_answer\u001b[0m\u001b[1;33m-\u001b[0m\u001b[0mtotal\u001b[0m\u001b[1;33m)\u001b[0m\u001b[1;33m/\u001b[0m\u001b[0mcorrect\u001b[0m\u001b[1;33m-\u001b[0m\u001b[0manswer\u001b[0m\u001b[1;33m\u001b[0m\u001b[0m\n\u001b[0m\u001b[0;32m     41\u001b[0m \u001b[1;33m\u001b[0m\u001b[0m\n\u001b[0;32m     42\u001b[0m \u001b[1;32mprint\u001b[0m \u001b[1;34m'The integral evaluated to within specified accuracy:'\u001b[0m\u001b[1;33m,\u001b[0m \u001b[0mtotal\u001b[0m\u001b[1;33m\u001b[0m\u001b[0m\n",
        "\u001b[1;31mNameError\u001b[0m: name 'correct' is not defined"
       ]
      }
     ],
     "prompt_number": 4
    },
    {
     "cell_type": "code",
     "collapsed": false,
     "input": [],
     "language": "python",
     "metadata": {},
     "outputs": []
    }
   ],
   "metadata": {}
  }
 ]
}