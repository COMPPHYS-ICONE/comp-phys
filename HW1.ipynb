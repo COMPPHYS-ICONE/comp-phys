{
 "metadata": {
  "name": "",
  "signature": "sha256:513af0884f3823604a66e0a910f843ace11d07970825ffc15d65eaf2d4b7ea56"
 },
 "nbformat": 3,
 "nbformat_minor": 0,
 "worksheets": [
  {
   "cells": [
    {
     "cell_type": "code",
     "collapsed": false,
     "input": [
      "from math import *\n",
      "dy = 1\n",
      "def h(y):\n",
      "    return (y**3)/((e**y)-1)\n",
      "frac_diff = 0\n",
      "correct_answer = (pi**4)/15\n",
      "\n",
      "# integral = dy*h(dy/2) for rectangular approximation\n",
      "\n",
      "\n",
      "\n",
      "print correct_answer\n",
      "print h(4)"
     ],
     "language": "python",
     "metadata": {},
     "outputs": [
      {
       "output_type": "stream",
       "stream": "stdout",
       "text": [
        "6.49393940227\n",
        "1.19407106328\n"
       ]
      }
     ],
     "prompt_number": 7
    }
   ],
   "metadata": {}
  }
 ]
}