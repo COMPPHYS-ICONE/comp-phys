{
 "metadata": {
  "name": "",
  "signature": "sha256:927d1d46ac42bbafe8600a4972af24e3a7734528d570df534e0597f4260976be"
 },
 "nbformat": 3,
 "nbformat_minor": 0,
 "worksheets": [
  {
   "cells": [
    {
     "cell_type": "code",
     "collapsed": false,
     "input": [
      "from math import *\n",
      "import numpy\n",
      "dy = 1.\n",
      "steps = 100\n",
      "total = 0\n",
      "last_total = 0\n",
      "def h(y):\n",
      "    return (y**3)/((e**y)-1)\n",
      "frac_diff = 0\n",
      "correct_answer = (pi**4)/15\n",
      "\n",
      "def frac_diff():\n",
      "    if last_total == 0:\n",
      "        return 'N/A'\n",
      "    else:\n",
      "        return abs(total-last_total)/total\n",
      "\n",
      "# integral = dy*(h(y+(dy/2)) + h(y-(dy/2))/2 for trapezoidal approximation\n",
      "# integral = dy*(h(y+dy/2)) for rectaungular\n",
      "# integral = (dy/6)*(h(y) +h(y+dy) +4*(2y+dy/2)) for simpsons approximation\n",
      "\n",
      "if 1 == True:\n",
      "    print 'running...'\n",
      "    print '\\n'\n",
      "\n",
      "while frac_diff() > 10**-6 or frac_diff() == 'N/A':\n",
      "    last_total = total\n",
      "    total = 0\n",
      "    for y in numpy.linspace (.00000001, 100, steps+2):\n",
      "        #total += dy*(h(y+(dy/2)) + h(y-(dy/2)))/2\n",
      "        #total += dy*h((2*y + dy)/2)\n",
      "        #total += dy*(h(y) + h(y+dy))/2\n",
      "        total += (dy/6)*(h(y) +h(y+dy) +4*h((2*y+dy)/2))\n",
      "    print 'number of steps:', steps\n",
      "    print 'dy =', dy\n",
      "    print 'integral =', total\n",
      "    if frac_diff() == 'N/A':\n",
      "        print 'frac_diff =', frac_diff()\n",
      "    else:\n",
      "        print 'frac_diff =', frac_diff(),\"%\"\n",
      "    steps *=2\n",
      "    dy /=2\n",
      "    print '\\n'\n",
      "    \n",
      "actual_difference = abs(correct_answer-total)/correct_answer\n",
      "\n",
      "print 'The integral evaluated to within specified accuracy:', total\n",
      "print 'The upper limit of its fraction error is estimated to be:', frac_diff()\n",
      "print 'The correct answer is:', correct_answer\n",
      "print 'The actual fractional error is:', actual_difference,'%'"
     ],
     "language": "python",
     "metadata": {},
     "outputs": [
      {
       "output_type": "stream",
       "stream": "stdout",
       "text": [
        "running...\n",
        "\n",
        "\n",
        "number of steps: 100\n",
        "dy = 1.0\n",
        "integral = 6.55987923862\n",
        "frac_diff = N/A\n",
        "\n",
        "\n",
        "number of steps: 200\n",
        "dy = 0.5\n",
        "integral = 6.52647294106\n",
        "frac_diff = 0.0051185836297 %\n",
        "\n",
        "\n",
        "number of steps:"
       ]
      },
      {
       "output_type": "stream",
       "stream": "stdout",
       "text": [
        " 400\n",
        "dy = 0.25\n",
        "integral = 6.51017828137\n",
        "frac_diff = 0.00250295137705 %\n",
        "\n",
        "\n",
        "number of steps:"
       ]
      },
      {
       "output_type": "stream",
       "stream": "stdout",
       "text": [
        " 800\n",
        "dy = 0.125\n",
        "integral = 6.50205708027\n",
        "frac_diff = 0.00124902027103 %\n",
        "\n",
        "\n",
        "number of steps:"
       ]
      },
      {
       "output_type": "stream",
       "stream": "stdout",
       "text": [
        " 1600\n",
        "dy = 0.0625\n",
        "integral = 6.4979981309\n",
        "frac_diff = 0.000624646127464 %\n",
        "\n",
        "\n",
        "number of steps:"
       ]
      },
      {
       "output_type": "stream",
       "stream": "stdout",
       "text": [
        " 3200\n",
        "dy = 0.03125\n",
        "integral = 6.49596875997\n",
        "frac_diff = 0.000312404662474 %\n",
        "\n",
        "\n",
        "number of steps:"
       ]
      },
      {
       "output_type": "stream",
       "stream": "stdout",
       "text": [
        " 6400\n",
        "dy = 0.015625\n",
        "integral = 6.49495408101\n",
        "frac_diff = 0.000156225732964 %\n",
        "\n",
        "\n",
        "number of steps:"
       ]
      },
      {
       "output_type": "stream",
       "stream": "stdout",
       "text": [
        " 12800\n",
        "dy = 0.0078125\n",
        "integral = 6.49444674194\n",
        "frac_diff = 7.81189059214e-05 %\n",
        "\n",
        "\n",
        "number of steps:"
       ]
      },
      {
       "output_type": "stream",
       "stream": "stdout",
       "text": [
        " 25600\n",
        "dy = 0.00390625\n",
        "integral = 6.49419307242\n",
        "frac_diff = 3.90609747454e-05 %\n",
        "\n",
        "\n",
        "number of steps:"
       ]
      },
      {
       "output_type": "stream",
       "stream": "stdout",
       "text": [
        " 51200\n",
        "dy = 0.001953125\n",
        "integral = 6.49406623767\n",
        "frac_diff = 1.95308685966e-05 %\n",
        "\n",
        "\n",
        "number of steps:"
       ]
      },
      {
       "output_type": "stream",
       "stream": "stdout",
       "text": [
        " 102400\n",
        "dy = 0.0009765625\n",
        "integral = 6.49400282029\n",
        "frac_diff = 9.76552964283e-06 %\n",
        "\n",
        "\n",
        "number of steps:"
       ]
      },
      {
       "output_type": "stream",
       "stream": "stdout",
       "text": [
        " 204800\n",
        "dy = 0.00048828125\n",
        "integral = 6.4939711116\n",
        "frac_diff = 4.88278871052e-06 %\n",
        "\n",
        "\n",
        "number of steps:"
       ]
      },
      {
       "output_type": "stream",
       "stream": "stdout",
       "text": [
        " 409600\n",
        "dy = 0.000244140625\n",
        "integral = 6.49395525726\n",
        "frac_diff = 2.4414004121e-06 %\n",
        "\n",
        "\n",
        "number of steps:"
       ]
      },
      {
       "output_type": "stream",
       "stream": "stdout",
       "text": [
        " 819200\n",
        "dy = 0.0001220703125\n",
        "integral = 6.49394733009\n",
        "frac_diff = 1.22070183998e-06 %\n",
        "\n",
        "\n",
        "number of steps:"
       ]
      },
      {
       "output_type": "stream",
       "stream": "stdout",
       "text": [
        " 1638400\n",
        "dy = 6.103515625e-05\n",
        "integral = 6.4939433665\n",
        "frac_diff = 6.10351611329e-07 %\n",
        "\n",
        "\n",
        "The integral evaluated to within specified accuracy: 6.4939433665\n",
        "The upper limit of its fraction error is estimated to be: 6.10351611329e-07\n",
        "The correct answer is: 6.49393940227\n",
        "The actual fractional error is: 6.10450721586e-07 %\n"
       ]
      }
     ],
     "prompt_number": 20
    },
    {
     "cell_type": "code",
     "collapsed": false,
     "input": [],
     "language": "python",
     "metadata": {},
     "outputs": []
    }
   ],
   "metadata": {}
  }
 ]
}