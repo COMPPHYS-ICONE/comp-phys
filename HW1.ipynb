{
 "metadata": {
  "name": "",
  "signature": "sha256:f894423fbbdc661b2c96e97a9bc0cfbff2965a4d6447de6a4d8474ede2b90d4a"
 },
 "nbformat": 3,
 "nbformat_minor": 0,
 "worksheets": [
  {
   "cells": [
    {
     "cell_type": "code",
     "collapsed": false,
     "input": [
      "from math import *\n",
      "import numpy\n",
      "dy = 1.\n",
      "steps = 100\n",
      "total = 0\n",
      "last_total = 0\n",
      "def h(y):\n",
      "    return (y**3)/((e**y)-1)\n",
      "frac_diff = 0\n",
      "correct_answer = (pi**4)/15\n",
      "\n",
      "def frac_diff():\n",
      "    if last_total == 0:\n",
      "        return 'N/A'\n",
      "    else:\n",
      "        return abs(total-last_total)/total\n",
      "\n",
      "# integral = dy*(h(y+(dy/2)) + h(y-(dy/2))/2 for trapezoidal approximation\n",
      "\n",
      "if 1 == True:\n",
      "    print 'running...'\n",
      "\n",
      "while frac_diff() > 10**-6 or frac_diff() == 'N/A':\n",
      "    last_total = total\n",
      "    total = 0\n",
      "    for y in numpy.linspace (1, 100, steps+1):\n",
      "        total += dy*(h(y+(dy/2)) + h(y-(dy/2)))/2\n",
      "    print 'number of steps:', steps\n",
      "    print 'dy =', dy\n",
      "    print 'integral =', total\n",
      "    if frac_diff() == 'N/A':\n",
      "        print 'frac_diff =', frac_diff()\n",
      "    else:\n",
      "        print 'frac_diff =', frac_diff(),\"%\"\n",
      "    steps *=2\n",
      "    dy /=2\n",
      "    print '/n'\n",
      "    \n",
      "actual_difference = abs(correct_answer-total)/correct-answer\n",
      "\n",
      "print 'The integral evaluated to within specified accuracy:', total\n",
      "print 'The upper limit of its fraction error is estimated to be:', frac_diff()\n",
      "print 'The correct answer is:', correct_answer\n",
      "print 'The actual fractional error is:', actual_difference,'%'"
     ],
     "language": "python",
     "metadata": {},
     "outputs": []
    }
   ],
   "metadata": {}
  }
 ]
}