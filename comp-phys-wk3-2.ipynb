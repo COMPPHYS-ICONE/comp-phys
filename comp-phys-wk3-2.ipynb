{
 "cells": [
  {
   "cell_type": "code",
   "execution_count": 1,
   "metadata": {
    "collapsed": false
   },
   "outputs": [
    {
     "name": "stdout",
     "output_type": "stream",
     "text": [
      "The slowest run took 4.14 times longer than the fastest. This could mean that an intermediate result is being cached \n",
      "1000000 loops, best of 3: 460 ns per loop\n"
     ]
    }
   ],
   "source": [
    "%%timeit y = range(10)\n",
    "max(y)"
   ]
  },
  {
   "cell_type": "code",
   "execution_count": 4,
   "metadata": {
    "collapsed": false
   },
   "outputs": [
    {
     "name": "stdout",
     "output_type": "stream",
     "text": [
      "Taylor Series Approximation: 2.3978893379\n",
      "exact_val 2.3978952728\n",
      "log1p output 2.3978952728\n"
     ]
    }
   ],
   "source": [
    "import pdb\n",
    "from math import *\n",
    "from numpy import *\n",
    "\n",
    "def L(x, n):\n",
    "    if x <= -1:\n",
    "        return 'Please enter a value of x greater than negative one!'\n",
    "    approx = 0\n",
    "    for i in range(0, n + 1):\n",
    "        #pdb.set_trace()\n",
    "        approx += (1./(i+1))*(x/(1.+x))**(i+1)\n",
    "        if i == n-1:\n",
    "            last_approx = approx\n",
    "    if abs(last_approx-approx)/approx > 1e-6:\n",
    "        print 'Please increase the value of n for increased accuracy!'\n",
    "        print 'The error is', (abs(last_approx-approx)/approx)*100, '%'\n",
    "    return approx\n",
    "\n",
    "\n",
    "\n",
    "x = 10\n",
    "\n",
    "    \n",
    "\n",
    "y = L(x, 100)\n",
    "#pdb.set_trace()\n",
    "print 'Taylor Series Approximation:', y\n",
    "from math import log  #you would guess math module would have log...yes!\n",
    "if x > -1:\n",
    "    exact_val = log(1+x)\n",
    "    print 'exact_val', exact_val\n",
    "    from math import log1p  #more accurate for small x.\n",
    "    print 'log1p output', log1p(x)"
   ]
  },
  {
   "cell_type": "code",
   "execution_count": 9,
   "metadata": {
    "collapsed": false
   },
   "outputs": [
    {
     "name": "stdout",
     "output_type": "stream",
     "text": [
      "10000 loops, best of 3: 53.4 µs per loop\n",
      "The slowest run took 11.94 times longer than the fastest. This could mean that an intermediate result is being cached \n",
      "10000000 loops, best of 3: 180 ns per loop\n",
      "The slowest run took 13.20 times longer than the fastest. This could mean that an intermediate result is being cached \n",
      "10000000 loops, best of 3: 145 ns per loop\n"
     ]
    }
   ],
   "source": [
    "x = 10\n",
    "%timeit y = L(x,100)\n",
    "from math import log\n",
    "%timeit exact_val = log(1+x)\n",
    "from math import log1p\n",
    "%timeit log1p(x)"
   ]
  },
  {
   "cell_type": "code",
   "execution_count": null,
   "metadata": {
    "collapsed": true
   },
   "outputs": [],
   "source": [
    "def hello():\n",
    "    print 'hello world'\n",
    "    return\n",
    "\n",
    "x = hello()\n",
    "print type(x)\n",
    "\n",
    "#type is none"
   ]
  },
  {
   "cell_type": "code",
   "execution_count": 10,
   "metadata": {
    "collapsed": false
   },
   "outputs": [
    {
     "name": "stdout",
     "output_type": "stream",
     "text": [
      "h = 1e-01: 44.615\n",
      "h = 1e-02: 42.025\n",
      "h = 1e-03: 42\n",
      "h = 1e-04: 42\n",
      "h = 1e-05: 42\n",
      "h = 1e-06: 42.001\n",
      "h = 1e-07: 41.944\n",
      "h = 1e-08: 47.74\n",
      "h = 1e-09: -666.13\n",
      "h = 1e-10: 0\n",
      "h = 1e-11: 0\n",
      "h = 1e-12: -6.6613e+08\n",
      "h = 1e-13: 6.6613e+10\n",
      "h = 1e-14: 0\n"
     ]
    }
   ],
   "source": [
    "def g(t):\n",
    "    return t**-6\n",
    "\n",
    "def diff2(f, x, h=1e-6):\n",
    "    r = (f(x-h) - 2*f(x) + f(x+h))/float(h*h)\n",
    "    return r\n",
    "\n",
    "for k in range(1,15):\n",
    "    h = 10**(-k)\n",
    "    d2g = diff2(g, 1, h)\n",
    "    print 'h = {:.0e}: {:.5g}'.format(h, d2g)"
   ]
  },
  {
   "cell_type": "code",
   "execution_count": 13,
   "metadata": {
    "collapsed": false
   },
   "outputs": [
    {
     "name": "stdout",
     "output_type": "stream",
     "text": [
      "h = 1e-01: 44.615\n",
      "h = 1e-02: 42.025\n",
      "h = 1e-03: 42.000\n",
      "h = 1e-04: 42.000\n",
      "h = 1e-05: 42.000\n",
      "h = 1e-06: 42.000\n",
      "h = 1e-07: 42.000\n",
      "h = 1e-08: 42.000\n",
      "h = 1e-09: 42.000\n",
      "h = 1e-10: 42.000\n",
      "h = 1e-11: 42.000\n",
      "h = 1e-12: 42.000\n",
      "h = 1e-13: 42.000\n",
      "h = 1e-14: 42.00\n"
     ]
    }
   ],
   "source": [
    "#To get better preciscion. use decimal!!!\n",
    "\n",
    "import decimal\n",
    "decimal.getcontext().prec = 30\n",
    "D = decimal.Decimal\n",
    "\n",
    "def g(t):\n",
    "    return t**-6\n",
    "\n",
    "def diff2(f, x, h=1E-9):\n",
    "    x = D(str(x)); h = D(str(h))\n",
    "    r = (f(x-h) - 2*f(x) + f(x+h))/(h*h)\n",
    "    return r\n",
    "\n",
    "for k in range(1,15):\n",
    "    h = 10**(-k)\n",
    "    d2g = diff2(g, 1, h)\n",
    "    print 'h = {:.0e}: {:.5g}'.format(h, d2g)"
   ]
  },
  {
   "cell_type": "code",
   "execution_count": 14,
   "metadata": {
    "collapsed": false
   },
   "outputs": [
    {
     "name": "stdout",
     "output_type": "stream",
     "text": [
      "13\n",
      "13\n"
     ]
    }
   ],
   "source": [
    "# lambda function\n",
    "\n",
    "def f(x):\n",
    "    return x**2 + 4\n",
    "\n",
    "g = lambda x: x**2 + 4\n",
    "\n",
    "print g(3)\n",
    "print f(3)"
   ]
  },
  {
   "cell_type": "code",
   "execution_count": null,
   "metadata": {
    "collapsed": true
   },
   "outputs": [],
   "source": [
    "x = 3\n",
    "a = 2 if x < 1 else 0"
   ]
  },
  {
   "cell_type": "code",
   "execution_count": 17,
   "metadata": {
    "collapsed": false
   },
   "outputs": [
    {
     "name": "stdout",
     "output_type": "stream",
     "text": [
      "42.0000025200000924000023\n",
      "<type 'function'>\n",
      "1.0\n"
     ]
    }
   ],
   "source": [
    "d2 = diff2(lambda t: t**(-6), 1, h = 1e-4)\n",
    "print d2\n",
    "\n",
    "from math import pi, sin\n",
    "x = pi/2\n",
    "f = lambda x: sin(x) if 0 <= x <= 2*pi else 0\n",
    "print type(f)\n",
    "print f(x)\n"
   ]
  },
  {
   "cell_type": "code",
   "execution_count": null,
   "metadata": {
    "collapsed": true
   },
   "outputs": [],
   "source": [
    "#doctest required from HW2 ONWARD\n",
    "'''\n",
    "\n",
    ">>> L(1) - 0.69314718056 < 1e-6\n",
    "True\n",
    "\n",
    "\n",
    "'''\n",
    "\n",
    "\n",
    "\n",
    "import pdb\n",
    "from math import *\n",
    "from numpy import *\n",
    "\n",
    "def L(x, n):\n",
    "    if x <= -1:\n",
    "        return 'Please enter a value of x greater than negative one!'\n",
    "    approx = 0\n",
    "    for i in range(0, n + 1):\n",
    "        #pdb.set_trace()\n",
    "        approx += (1./(i+1))*(x/(1.+x))**(i+1)\n",
    "        if i == n-1:\n",
    "            last_approx = approx\n",
    "    if abs(last_approx-approx)/approx > 1e-6:\n",
    "        print 'Please increase the value of n for increased accuracy!'\n",
    "        print 'The error is', (abs(last_approx-approx)/approx)*100, '%'\n",
    "    return approx\n",
    "\n",
    "if __name__ ==\"__main__\":\n",
    "    import doctest\n",
    "    doctest.testmod()\n",
    "\n",
    "    x = 10\n",
    "\n",
    "    \n",
    "\n",
    "    y = L(x, 100)\n",
    "    #pdb.set_trace()\n",
    "    print 'Taylor Series Approximation:', y\n",
    "    from math import log  #you would guess math module would have log...yes!\n",
    "    if x > -1:\n",
    "        exact_val = log(1+x)\n",
    "        print 'exact_val', exact_val\n",
    "        from math import log1p  #more accurate for small x.\n",
    "        print 'log1p output', log1p(x)"
   ]
  },
  {
   "cell_type": "code",
   "execution_count": null,
   "metadata": {
    "collapsed": true
   },
   "outputs": [],
   "source": [
    "#add a doctest for temperature conversion function"
   ]
  }
 ],
 "metadata": {
  "kernelspec": {
   "display_name": "Python 2",
   "language": "python",
   "name": "python2"
  },
  "language_info": {
   "codemirror_mode": {
    "name": "ipython",
    "version": 2
   },
   "file_extension": ".py",
   "mimetype": "text/x-python",
   "name": "python",
   "nbconvert_exporter": "python",
   "pygments_lexer": "ipython2",
   "version": "2.7.9"
  }
 },
 "nbformat": 4,
 "nbformat_minor": 0
}
