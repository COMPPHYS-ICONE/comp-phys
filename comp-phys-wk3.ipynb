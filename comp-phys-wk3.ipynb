{
 "cells": [
  {
   "cell_type": "code",
   "execution_count": 5,
   "metadata": {
    "collapsed": false
   },
   "outputs": [
    {
     "name": "stdout",
     "output_type": "stream",
     "text": [
      "Outside f(), a =  3\n"
     ]
    },
    {
     "ename": "UnboundLocalError",
     "evalue": "local variable 'a' referenced before assignment",
     "output_type": "error",
     "traceback": [
      "\u001b[0;31m---------------------------------------------------------------------------\u001b[0m",
      "\u001b[0;31mUnboundLocalError\u001b[0m                         Traceback (most recent call last)",
      "\u001b[0;32m<ipython-input-5-b87013cfba3c>\u001b[0m in \u001b[0;36m<module>\u001b[0;34m()\u001b[0m\n\u001b[1;32m      9\u001b[0m     \u001b[0;32mprint\u001b[0m \u001b[0;34m\"Inside f(), a = \"\u001b[0m\u001b[0;34m,\u001b[0m \u001b[0ma\u001b[0m\u001b[0;34m\u001b[0m\u001b[0m\n\u001b[1;32m     10\u001b[0m     \u001b[0;32mreturn\u001b[0m\u001b[0;34m\u001b[0m\u001b[0m\n\u001b[0;32m---> 11\u001b[0;31m \u001b[0mf\u001b[0m\u001b[0;34m(\u001b[0m\u001b[0;34m)\u001b[0m\u001b[0;34m\u001b[0m\u001b[0m\n\u001b[0m\u001b[1;32m     12\u001b[0m \u001b[0;34m\u001b[0m\u001b[0m\n\u001b[1;32m     13\u001b[0m \u001b[0;32mprint\u001b[0m \u001b[0;34m\"Outisde f(), a =\"\u001b[0m\u001b[0;34m,\u001b[0m \u001b[0ma\u001b[0m\u001b[0;34m\u001b[0m\u001b[0m\n",
      "\u001b[0;32m<ipython-input-5-b87013cfba3c>\u001b[0m in \u001b[0;36mf\u001b[0;34m()\u001b[0m\n\u001b[1;32m      6\u001b[0m \u001b[0;32mdef\u001b[0m \u001b[0mf\u001b[0m\u001b[0;34m(\u001b[0m\u001b[0;34m)\u001b[0m\u001b[0;34m:\u001b[0m\u001b[0;34m\u001b[0m\u001b[0m\n\u001b[1;32m      7\u001b[0m     \u001b[0mb\u001b[0m \u001b[0;34m=\u001b[0m \u001b[0;36m3\u001b[0m\u001b[0;34m\u001b[0m\u001b[0m\n\u001b[0;32m----> 8\u001b[0;31m     \u001b[0ma\u001b[0m\u001b[0;34m=\u001b[0m\u001b[0;36m1.\u001b[0m\u001b[0;34m/\u001b[0m\u001b[0ma\u001b[0m\u001b[0;34m\u001b[0m\u001b[0m\n\u001b[0m\u001b[1;32m      9\u001b[0m     \u001b[0;32mprint\u001b[0m \u001b[0;34m\"Inside f(), a = \"\u001b[0m\u001b[0;34m,\u001b[0m \u001b[0ma\u001b[0m\u001b[0;34m\u001b[0m\u001b[0m\n\u001b[1;32m     10\u001b[0m     \u001b[0;32mreturn\u001b[0m\u001b[0;34m\u001b[0m\u001b[0m\n",
      "\u001b[0;31mUnboundLocalError\u001b[0m: local variable 'a' referenced before assignment"
     ]
    }
   ],
   "source": [
    "#namespace: where a variable live. Local is only inside funciton, global is defined inside and outside function\n",
    "#global variables can be called inside any function, however must be definied as 'global x' if you want to change x\n",
    "\n",
    "a = 3\n",
    "print \"Outside f(), a = \", a\n",
    "def f():\n",
    "    b = 3\n",
    "    a=1./a\n",
    "    print \"Inside f(), a = \", a\n",
    "    return\n",
    "f()\n",
    "\n",
    "print \"Outisde f(), a =\", a\n",
    "\n",
    "# a = 1./a throws an error becuase python reads from right to left. \n",
    "# Thinks right a is the gloabl variable, so the left variable is also treated as global, but it is a local variable\n",
    "#so python gets confused"
   ]
  },
  {
   "cell_type": "code",
   "execution_count": 6,
   "metadata": {
    "collapsed": false
   },
   "outputs": [
    {
     "name": "stdout",
     "output_type": "stream",
     "text": [
      "509.5\n",
      "-48050.0\n",
      "docstring for yfunc():  \n",
      "    \n",
      "    finds displacement with constant gravitational\n",
      "    acceleration on Earth, using positional arguments\n",
      "    \n",
      "    \n"
     ]
    }
   ],
   "source": [
    "#positional arguments\n",
    "def yfunc(t, v0):\n",
    "    \"\"\" \n",
    "    \n",
    "    finds displacement with constant gravitational\n",
    "    acceleration on Earth, using positional arguments\n",
    "    \n",
    "    \"\"\"\n",
    "    g = 9.81\n",
    "    return v0*t - 0.5*g*t**2\n",
    "print yfunc(10,100)\n",
    "print yfunc(100,10)\n",
    "print 'docstring for yfunc():', yfunc.__doc__"
   ]
  },
  {
   "cell_type": "code",
   "execution_count": 10,
   "metadata": {
    "collapsed": false
   },
   "outputs": [
    {
     "name": "stdout",
     "output_type": "stream",
     "text": [
      "range(stop) -> list of integers\n",
      "range(start, stop[, step]) -> list of integers\n",
      "\n",
      "Return a list containing an arithmetic progression of integers.\n",
      "range(i, j) returns [i, i+1, i+2, ..., j-1]; start (!) defaults to 0.\n",
      "When step is given, it specifies the increment (or decrement).\n",
      "For example, range(4) returns [0, 1, 2, 3].  The end point is omitted!\n",
      "These are exactly the valid indices for a list of 4 elements.\n"
     ]
    }
   ],
   "source": [
    "print range.__doc__  ###Super important"
   ]
  },
  {
   "cell_type": "code",
   "execution_count": 13,
   "metadata": {
    "collapsed": false
   },
   "outputs": [
    {
     "name": "stdout",
     "output_type": "stream",
     "text": [
      "509.5\n",
      "509.5\n",
      "-4.905\n",
      "docstring for yfunc():  \n",
      "    \n",
      "    finds displacement with constant gravitational\n",
      "    acceleration on Earth, using positional arguments\n",
      "    \n",
      "    \n"
     ]
    }
   ],
   "source": [
    "#keyword arguments\n",
    "def yfunc(t = 1, v0 = 0):\n",
    "    \"\"\" \n",
    "    \n",
    "    finds displacement with constant gravitational\n",
    "    acceleration on Earth, using positional arguments\n",
    "    \n",
    "    \"\"\"\n",
    "    g = 9.81\n",
    "    return v0*t - 0.5*g*t**2\n",
    "print yfunc(v0 = 100,t = 10)\n",
    "print yfunc(t = 10,v0 = 100)\n",
    "print yfunc()\n",
    "print 'docstring for yfunc():', yfunc.__doc__"
   ]
  },
  {
   "cell_type": "code",
   "execution_count": 16,
   "metadata": {
    "collapsed": false
   },
   "outputs": [
    {
     "name": "stdout",
     "output_type": "stream",
     "text": [
      "100000 loops, best of 3: 8.42 µs per loop\n"
     ]
    }
   ],
   "source": [
    "# line magic\n",
    "%timeit range(1000)"
   ]
  },
  {
   "cell_type": "code",
   "execution_count": 17,
   "metadata": {
    "collapsed": false
   },
   "outputs": [
    {
     "ename": "SyntaxError",
     "evalue": "invalid syntax (<ipython-input-17-109114401258>, line 2)",
     "output_type": "error",
     "traceback": [
      "\u001b[0;36m  File \u001b[0;32m\"<ipython-input-17-109114401258>\"\u001b[0;36m, line \u001b[0;32m2\u001b[0m\n\u001b[0;31m    %%timeit x = range(10000)\u001b[0m\n\u001b[0m    ^\u001b[0m\n\u001b[0;31mSyntaxError\u001b[0m\u001b[0;31m:\u001b[0m invalid syntax\n"
     ]
    }
   ],
   "source": [
    "# cell magic\n",
    "%%timeit x = range(1000)\n",
    "max(x)"
   ]
  },
  {
   "cell_type": "code",
   "execution_count": 18,
   "metadata": {
    "collapsed": false
   },
   "outputs": [
    {
     "name": "stdout",
     "output_type": "stream",
     "text": [
      "[0, 0.5, 1.0, 1.5, 2.0, 2.5, 3.0, 3.5, 4.0, 4.5, 5.0, 5.5, 6.0, 6.5, 7.0, 7.5, 8.0, 8.5, 9.0, 9.5, 10.0, 10.5, 11.0, 11.5, 12.0, 12.5, 13.0, 13.5, 14.0, 14.5, 15.0, 15.5, 16.0, 16.5, 17.0, 17.5, 18.0, 18.5, 19.0, 19.5, 20.0, 20.5, 21.0, 21.5, 22.0, 22.5, 23.0, 23.5, 24.0, 24.5, 25.0, 25.5, 26.0, 26.5, 27.0, 27.5, 28.0, 28.5, 29.0, 29.5, 30.0, 30.5, 31.0, 31.5, 32.0, 32.5, 33.0, 33.5, 34.0, 34.5, 35.0, 35.5, 36.0, 36.5, 37.0, 37.5, 38.0, 38.5, 39.0, 39.5, 40.0, 40.5, 41.0, 41.5, 42.0, 42.5, 43.0, 43.5, 44.0, 44.5, 45.0, 45.5, 46.0, 46.5, 47.0, 47.5, 48.0, 48.5, 49.0, 49.5, 50.0, 50.5, 51.0, 51.5, 52.0, 52.5, 53.0, 53.5, 54.0, 54.5, 55.0, 55.5, 56.0, 56.5, 57.0, 57.5, 58.0, 58.5, 59.0, 59.5, 60.0, 60.5, 61.0, 61.5, 62.0, 62.5, 63.0, 63.5, 64.0, 64.5, 65.0, 65.5, 66.0, 66.5, 67.0, 67.5, 68.0, 68.5, 69.0, 69.5, 70.0, 70.5, 71.0, 71.5, 72.0, 72.5, 73.0, 73.5, 74.0, 74.5, 75.0, 75.5, 76.0, 76.5, 77.0, 77.5, 78.0, 78.5, 79.0, 79.5, 80.0, 80.5, 81.0, 81.5, 82.0, 82.5, 83.0, 83.5, 84.0, 84.5, 85.0, 85.5, 86.0, 86.5, 87.0, 87.5, 88.0, 88.5, 89.0, 89.5, 90.0, 90.5, 91.0, 91.5, 92.0, 92.5, 93.0, 93.5, 94.0, 94.5, 95.0, 95.5, 96.0, 96.5, 97.0, 97.5, 98.0, 98.5, 99.0, 99.5, 100.0]\n"
     ]
    }
   ],
   "source": [
    "def makelist(start, stop, inc):\n",
    "    value = start\n",
    "    result = []\n",
    "    while value <= stop:\n",
    "        result.append(value)\n",
    "        value += inc\n",
    "    return result\n",
    "\n",
    "mylist = makelist(0, 100, .5)\n",
    "print mylist"
   ]
  },
  {
   "cell_type": "code",
   "execution_count": 21,
   "metadata": {
    "collapsed": false
   },
   "outputs": [
    {
     "name": "stdout",
     "output_type": "stream",
     "text": [
      "10000 loops, best of 3: 20.2 µs per loop\n",
      "1000000 loops, best of 3: 1.03 µs per loop\n"
     ]
    }
   ],
   "source": [
    "%timeit y = makelist(0, 100, 1)\n",
    "%timeit y = range(0, 100, 1)"
   ]
  },
  {
   "cell_type": "code",
   "execution_count": 22,
   "metadata": {
    "collapsed": false
   },
   "outputs": [
    {
     "name": "stdout",
     "output_type": "stream",
     "text": [
      "position =       0.38 velocity =       -9.6\n",
      "position =      +0.38 velocity =       -9.6\n",
      "position =      +0.38 velocity =       -9.6\n"
     ]
    }
   ],
   "source": [
    "#more than one return value\n",
    "def yfunc2(t, v0):\n",
    "    \"\"\" \n",
    "    \n",
    "    finds displacement with constant gravitational\n",
    "    acceleration on Earth, using positional arguments\n",
    "    \n",
    "    \"\"\"\n",
    "    g = 9.81\n",
    "    y = v0*t - 0.5*g*t**2\n",
    "    yprime = v0 -g*t\n",
    "    return y, yprime\n",
    "\n",
    "pos, vel = yfunc2(2,10)   #The LHS is  tuple\n",
    "#the difference between using and not using the + sign(gives + and - explicitly)\n",
    "print 'position = {:10.2g} velocity = {:10.2g}'.format(pos,vel)\n",
    "print 'position = {:+10.2g} velocity = {:+10.2g}'.format(pos,vel)\n",
    "\n",
    "#Or, equivalently(and it seems mysterious...)\n",
    "print 'position = {:+10.2g} velocity = {:+10.2g}'.format(*yfunc2(2,10))\n"
   ]
  },
  {
   "cell_type": "code",
   "execution_count": 26,
   "metadata": {
    "collapsed": false
   },
   "outputs": [
    {
     "name": "stdout",
     "output_type": "stream",
     "text": [
      "[3, 4, 5]\n",
      "[3, 4, 5]\n",
      "[3, 4, 5]\n"
     ]
    },
    {
     "ename": "TypeError",
     "evalue": "range() integer end argument expected, got tuple.",
     "output_type": "error",
     "traceback": [
      "\u001b[0;31m---------------------------------------------------------------------------\u001b[0m",
      "\u001b[0;31mTypeError\u001b[0m                                 Traceback (most recent call last)",
      "\u001b[0;32m<ipython-input-26-5dfb2df6544a>\u001b[0m in \u001b[0;36m<module>\u001b[0;34m()\u001b[0m\n\u001b[1;32m      7\u001b[0m \u001b[0;32mprint\u001b[0m \u001b[0mrange\u001b[0m\u001b[0;34m(\u001b[0m\u001b[0;34m*\u001b[0m\u001b[0mrange_params\u001b[0m\u001b[0;34m)\u001b[0m    \u001b[0;31m# call with arguments unpacked from a\u001b[0m\u001b[0;34m\u001b[0m\u001b[0m\n\u001b[1;32m      8\u001b[0m \u001b[0;34m\u001b[0m\u001b[0m\n\u001b[0;32m----> 9\u001b[0;31m \u001b[0;32mprint\u001b[0m \u001b[0mrange\u001b[0m\u001b[0;34m(\u001b[0m\u001b[0mrange_params\u001b[0m\u001b[0;34m)\u001b[0m\u001b[0;34m\u001b[0m\u001b[0m\n\u001b[0m\u001b[1;32m     10\u001b[0m \u001b[0;31m# Explain why print range(range_params) won't work\u001b[0m\u001b[0;34m\u001b[0m\u001b[0;34m\u001b[0m\u001b[0m\n",
      "\u001b[0;31mTypeError\u001b[0m: range() integer end argument expected, got tuple."
     ]
    }
   ],
   "source": [
    "#asterisk operator is the \"unpacking operator\"\n",
    "\n",
    "print range(3,6)    # normal call with separate arguments\n",
    "range_params = [3,6]\n",
    "print range(*range_params)   # call with arguments unpacked from a\n",
    "range_params = 3,6\n",
    "print range(*range_params)    # call with arguments unpacked from a\n",
    "\n",
    "#print range(range_params)\n",
    "# Explain why print range(range_params) won't work"
   ]
  },
  {
   "cell_type": "code",
   "execution_count": null,
   "metadata": {
    "collapsed": true
   },
   "outputs": [],
   "source": [
    "#debugging tools\n",
    "\n",
    "#Esp. useful commands in pdb\n",
    "\n",
    "# - n(ext)\n",
    "# - s(tep)\n",
    "# - p(rint)\n",
    "# - unt(il)\n",
    "# - c(ontinue)\n",
    "# - l(ist)\n",
    "# - w(here)\n",
    "# - h(elp)\n",
    "# - q(uit)\n",
    "\n",
    "#You can get full list by googling python pdb"
   ]
  },
  {
   "cell_type": "code",
   "execution_count": 9,
   "metadata": {
    "collapsed": false
   },
   "outputs": [
    {
     "name": "stdout",
     "output_type": "stream",
     "text": [
      "Taylor Series Approximation: -3.30325372032e+28\n",
      "exact_val 1.09861228867\n",
      "log1p output 1.09861228867\n"
     ]
    }
   ],
   "source": [
    "import pdb\n",
    "\n",
    "def L(x, n):\n",
    "    approx = 0\n",
    "    for i in range(0, n + 1):\n",
    "        #pdb.set_trace()\n",
    "        approx += ((-1)**(i))*(1./(i+1))*((x)**(i+1))\n",
    "    return approx\n",
    "\n",
    "\n",
    "\n",
    "x = 2\n",
    "y = L(x, 101)\n",
    "#pdb.set_trace()\n",
    "print 'Taylor Series Approximation:', y\n",
    "from math import log  #you would guess math module would have log...yes!\n",
    "exact_val = log(1+x)\n",
    "print 'exact_val', exact_val\n",
    "from math import log1p  #more accurate for small x.\n",
    "print 'log1p output', log1p(x)"
   ]
  },
  {
   "cell_type": "code",
   "execution_count": null,
   "metadata": {
    "collapsed": true
   },
   "outputs": [],
   "source": []
  }
 ],
 "metadata": {
  "kernelspec": {
   "display_name": "Python 2",
   "language": "python",
   "name": "python2"
  },
  "language_info": {
   "codemirror_mode": {
    "name": "ipython",
    "version": 2
   },
   "file_extension": ".py",
   "mimetype": "text/x-python",
   "name": "python",
   "nbconvert_exporter": "python",
   "pygments_lexer": "ipython2",
   "version": "2.7.9"
  }
 },
 "nbformat": 4,
 "nbformat_minor": 0
}
