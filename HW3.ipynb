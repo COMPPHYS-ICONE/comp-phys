{
 "cells": [
  {
   "cell_type": "code",
   "execution_count": null,
   "metadata": {
    "collapsed": true
   },
   "outputs": [],
   "source": [
    "'''\n",
    "\n",
    "HW03\n",
    "Ian Cone\n",
    "Partner: Ritesh Pakala\n",
    "\n",
    "This function finds all prime numbers between 2 given integers. \n",
    "Given integers are entered via command line, and then all prime\n",
    "numbers in between are printed\n",
    "\n",
    "'''\n",
    "import numpy as np\n",
    "prime_list = []\n",
    "divis_by = 0\n",
    "\n",
    "def find_primes(a,b):\n",
    "    while a <= b:\n",
    "        for i in np.arange(0,a+1):\n",
    "            for b in np.arange(1,a+1):\n",
    "                if a % b == 0:\n",
    "                    divis_by += 1\n",
    "                prime_list.append(a)\n",
    "    \n",
    "    \n",
    "    \n",
    "    \n",
    "#if __name__ == \"__main__\":\n",
    "    #import doctest\n",
    "    #import argparse\n",
    "    \n",
    "    \n",
    "    #parser = argparse.ArgumentParser()\n",
    "    #parser.add_argument('a', type = int)\n",
    "    #parser.add_argument('b', type = int)\n",
    "    #args = parser.parse_args()\n",
    "    #a = args.a\n",
    "    #b = args.b\n",
    "    "
   ]
  },
  {
   "cell_type": "code",
   "execution_count": 7,
   "metadata": {
    "collapsed": false
   },
   "outputs": [
    {
     "name": "stderr",
     "output_type": "stream",
     "text": [
      "usage: __main__.py [-h] [-x1 X1] [-x2 X2]\n",
      "__main__.py: error: unrecognized arguments: -f C:\\Users\\IanCone\\AppData\\Roaming\\jupyter\\runtime\\kernel-b426418d-5a5f-492f-8763-48dfa8286316.json\n"
     ]
    },
    {
     "ename": "SystemExit",
     "evalue": "2",
     "output_type": "error",
     "traceback": [
      "An exception has occurred, use %tb to see the full traceback.\n",
      "\u001b[1;31mSystemExit\u001b[0m\u001b[1;31m:\u001b[0m 2\n"
     ]
    },
    {
     "name": "stderr",
     "output_type": "stream",
     "text": [
      "To exit: use 'exit', 'quit', or Ctrl-D.\n"
     ]
    }
   ],
   "source": [
    "'''\n",
    "\n",
    "HW03\n",
    "Ian Cone\n",
    "Partner: Ritesh Pakala\n",
    "\n",
    "This function models the wavefunction of two fermions of \n",
    "opposite spin and then plots the wavefunction and probablility \n",
    "density. x1 and x2 are inputted by the user at the command prompt\n",
    "\n",
    "   \n",
    "Call signature  :\n",
    "\n",
    "    python gamma.py -t 9.784 -tol .001 \n",
    "    \n",
    "    To run doctests in verbose mode:\n",
    "    \n",
    "    python -m doctest -v gamma.py\n",
    "    \n",
    "    \n",
    "'''\n",
    "\n",
    "def antisym(x1, x2, n1 = 1, n2 = 2, a = 1.0):\n",
    "    psi = (2/a)*((sin(n1*np.pi*x1/a)*sin(n2*np.pi*x1/a)) - (sin(n1*np.pi*x2/a)*sin(n2*np.pi*x1)))\n",
    "    return psi, (psi**2)\n",
    "    \n",
    "if __name__ == \"__main__\":\n",
    "    import doctest\n",
    "    import argparse\n",
    "    \n",
    "    \n",
    "    parser = argparse.ArgumentParser()\n",
    "    parser.add_argument('-x1', type = float)\n",
    "    parser.add_argument('-x2', type = float)\n",
    "    args = parser.parse_args()\n",
    "    x1 = args.x2\n",
    "    x2 = args.x2\n",
    "    \n",
    "    %matplotlib inline \n",
    "    from mpl_toolkits.mplot3d import axes3d\n",
    "    import matplotlib.pyplot as plt\n",
    "    import numpy as np\n",
    "    from matplotlib import cm\n",
    "    \n",
    "    \n",
    "    fig = plt.figure()\n",
    "    plt.title('Antisymmetric Spatial Wave Function')\n",
    "    ax = fig.add_subplot(121, projection = '3d')\n",
    "    x1 = x2 = np.linspace(-5,5,100)\n",
    "    x1v, x2v = np.meshgrid(x1,x2)\n",
    "    wave_f, prob_dens = antisym(x1v,x2v,n1 = 1, n2 = 2, a = 1.0)#2 rows, 1 column, first of the two\n",
    "    #ax.plot_wireframe(xv, yv, z, rstride=10, cstride=10, linewidth = 1)\n",
    "    ax.plot_surface(x1v, x2v, wave_f, rstride=1, cstride=1, cmap=cm.RdYlBu, linewidth = 0)\n",
    "    fig.subplots_adjust(top=0.85) # without this, won't be able to see plot title(moves plot down a little bit)\n",
    "    plt.subtitle('Wave Function')\n",
    "\n",
    "    plt.plot(x, y1, 'r.', lw = 2)\n",
    "    plt.grid(True)\n",
    "    ax.set_ylabel('y1')\n",
    "\n",
    "    plt.subplot(122, projection ='3d')# 2 rows, 1 column, second of two       #both ways are perfectly legal\n",
    "    #ax.plot_wireframe(xv, yv, z, rstride=10, cstride=10, linewidth = 1)\n",
    "    ax.plot_surface(x1v, x2v, prob_dens, rstride=1, cstride=1, cmap=cm.RdYlBu, linewidth = 0)\n",
    "    fig.subplots_adjust(top=0.85)\n",
    "    plt.subtitle('Probability Density')\n",
    "    \n",
    "    #plt.xlabel('x')\n",
    "    #plt.ylabel('y2')\n",
    "\n",
    "    plt.show()\n",
    "    \n",
    "    "
   ]
  },
  {
   "cell_type": "code",
   "execution_count": null,
   "metadata": {
    "collapsed": true
   },
   "outputs": [],
   "source": []
  }
 ],
 "metadata": {
  "kernelspec": {
   "display_name": "Python 2",
   "language": "python",
   "name": "python2"
  },
  "language_info": {
   "codemirror_mode": {
    "name": "ipython",
    "version": 2
   },
   "file_extension": ".py",
   "mimetype": "text/x-python",
   "name": "python",
   "nbconvert_exporter": "python",
   "pygments_lexer": "ipython2",
   "version": "2.7.9"
  }
 },
 "nbformat": 4,
 "nbformat_minor": 0
}
