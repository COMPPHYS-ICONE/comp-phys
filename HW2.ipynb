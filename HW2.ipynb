{
 "metadata": {
  "name": "",
  "signature": "sha256:72a400c5e358d8ca9b942966883cd7b3c87c60456bd1ff83ee94ade7c4a638a7"
 },
 "nbformat": 3,
 "nbformat_minor": 0,
 "worksheets": [
  {
   "cells": [
    {
     "cell_type": "code",
     "collapsed": false,
     "input": [
      "from math import *\n",
      "import numpy\n",
      "dy = 1.\n",
      "steps = 100\n",
      "total = 0\n",
      "last_total = 0\n",
      "def h(y):\n",
      "    return (y**3)/((e**y)-1)\n",
      "frac_diff = 0\n",
      "correct_answer = (pi**4)/15\n",
      "\n",
      "def frac_diff():\n",
      "    if last_total == 0:\n",
      "        return 'N/A'\n",
      "    else:\n",
      "        return abs(total-last_total)/total\n",
      "\n",
      "# integral = dy*(h(y+(dy/2)) + h(y-(dy/2))/2 for trapezoidal approximation\n",
      "# integral = dy*(h(y+dy/2)) for rectaungular\n",
      "# integral = (dy/6)*(h(y) +h(y+dy) +4*(2y+dy/2)) for simpsons approximation\n",
      "\n",
      "if 1 == True:\n",
      "    print 'running...'\n",
      "    print '\\n'\n",
      "\n",
      "while frac_diff() > 10**-6 or frac_diff() == 'N/A':\n",
      "    last_total = total\n",
      "    total = 0\n",
      "    for y in numpy.linspace (0.0000000001, 100, steps+1):\n",
      "        #total += dy*(h(y+(dy/2)) + h(y-(dy/2)))/2\n",
      "        #total += dy*h((2*y + dy)/2)\n",
      "        #total += dy*(h(y) + h(y+dy))/2\n",
      "        total += (dy/6)*(h(y) +h(y+dy) +4*h((2*y+dy)/2))\n",
      "    print 'number of steps:', \"{:4.0f}\".format(steps)\n",
      "    print 'dy =', \"{:0.4f}\".format(dy)\n",
      "    print 'integral =', \"{:0.7f}\".format(total)\n",
      "    if frac_diff() == 'N/A':\n",
      "        print 'frac_diff =', frac_diff()\n",
      "    else:\n",
      "        print 'frac_diff =', \"{:0.7f}\".format(frac_diff()*100),\"%\"\n",
      "    steps *=2\n",
      "    dy /=2\n",
      "    print '\\n'\n",
      "    \n",
      "actual_difference = abs(correct_answer-total)/correct_answer\n",
      "\n",
      "print 'The integral evaluated to within specified accuracy:', \"{:0.7f}\".format(total)\n",
      "print 'The upper limit of its fraction error is estimated to be:', \"{:0.7f}\".format(frac_diff()),'%'\n",
      "print 'The correct answer is:', \"{:0.7f}\".format(correct_answer)\n",
      "print 'The actual fractional error is:', \"{:0.7f}\".format(actual_difference),'%'"
     ],
     "language": "python",
     "metadata": {},
     "outputs": []
    },
    {
     "cell_type": "code",
     "collapsed": false,
     "input": [
      "'''\n",
      "\n",
      "Program computes gamma(t) for t greater or equal to one. \n",
      "If t is an integer, program computes (t-1)! directly.\n",
      "If t is a float, calculates the integral form of the gamma funciton\n",
      "\n",
      ">>> gamma(5) = 24\n",
      "\n",
      "\n",
      "'''\n",
      "\n",
      "from math import *\n",
      "import numpy\n",
      "import pdb\n",
      "\n",
      "total = 0\n",
      "last_total = 0\n",
      "dx = 1.\n",
      "frac = ''\n",
      "\n",
      "def h(x):\n",
      "    return (x**(t-1))*(e**(-x))\n",
      "\n",
      "def frac_diff():\n",
      "    if last_total == 0:\n",
      "        return 'N/A'\n",
      "    else:\n",
      "        return abs(total-last_total)/total\n",
      "\n",
      "def gamma(t):\n",
      "    if 100 >= t >= 1:\n",
      "        if type(t) == int:\n",
      "            return factorial(t-1)\n",
      "        if type(t) == float:\n",
      "            frac = 'yes'\n",
      "            total = 0\n",
      "            for x in numpy.linspace (0.00000001, 1000, 1001):\n",
      "                total += (dx/6)*(h(x) +h(x+dx) +4*h((2*x+dx)/2))\n",
      "                if x == 999:\n",
      "                    global last_total\n",
      "                    last_total = total\n",
      "            return total\n",
      "    else:\n",
      "        return 'Please enter a value between 1 and 100.'\n",
      "    \n",
      "    \n",
      "t = 5.2\n",
      "print 'Gamma of',t,'is:',gamma(t)\n",
      "if frac == 'yes':\n",
      "    frac_diff()"
     ],
     "language": "python",
     "metadata": {},
     "outputs": [
      {
       "output_type": "stream",
       "stream": "stdout",
       "text": [
        " Gamma of 5.2 is: "
       ]
      },
      {
       "output_type": "stream",
       "stream": "stdout",
       "text": [
        "32.5774098517\n"
       ]
      }
     ],
     "prompt_number": 8
    }
   ],
   "metadata": {}
  }
 ]
}